{
 "cells": [
  {
   "cell_type": "code",
   "execution_count": 2,
   "id": "f820ae0e-0eaa-4e81-8ef9-5b7a2df07a97",
   "metadata": {},
   "outputs": [],
   "source": [
    "import cobra.io\n",
    "from cobra.io import read_sbml_model\n",
    "#model = read_sbml_model('/content/drive/MyDrive/Cell_Design/iNF517.xml')\n",
    "model = read_sbml_model('iNF517.xml')\n",
    "\n",
    "original_medium = model.medium\n",
    "original_objective = model.objective"
   ]
  },
  {
   "cell_type": "markdown",
   "id": "99a998c5-9aea-4bbc-b92c-8322e0546555",
   "metadata": {},
   "source": [
    "## Reaction (template)"
   ]
  },
  {
   "cell_type": "code",
   "execution_count": 3,
   "id": "2ccdc25e-2f72-4135-9ffd-16072216e20f",
   "metadata": {},
   "outputs": [
    {
     "name": "stdout",
     "output_type": "stream",
     "text": [
      "Educt: Acetyl-CoA \n",
      "\n",
      "Product: Acetoacetyl-CoA \n",
      "\n",
      "Enzyme: Acetyl-CoA C-acetyltransferase \n",
      "\n",
      "Reaction ID & equation: ACACT1r: 2.0 accoa_c <=> aacoa_c + coa_c \n",
      "\n",
      "Corresponding gene: LLMG_RS04745\n"
     ]
    }
   ],
   "source": [
    "# educt\n",
    "educt = model.metabolites.get_by_id(\"accoa_c\") #edit here\n",
    "print(f\"Educt: {educt.name} \\n\")\n",
    "\n",
    "# product\n",
    "product = model.metabolites.get_by_id(\"aacoa_c\") #edit here\n",
    "print(f\"Product: {product.name} \\n\")\n",
    "\n",
    "# reaction\n",
    "#for reaction in educt.reactions:\n",
    "#    print(reaction, reaction.name)\n",
    "reaction = model.reactions.ACACT1r #edit here\n",
    "print(f\"Enzyme: {reaction.name} \\n\")\n",
    "print(f\"Reaction ID & equation: {reaction} \\n\")\n",
    "\n",
    "#gene\n",
    "print(f\"Corresponding gene: {reaction.gene_reaction_rule}\")"
   ]
  },
  {
   "cell_type": "markdown",
   "id": "f11f456c-47f5-4352-a361-d14b54c20836",
   "metadata": {},
   "source": [
    "## Adding a reaction (template)"
   ]
  },
  {
   "cell_type": "code",
   "execution_count": 4,
   "id": "9e4601ce-6153-4141-ad2a-e66f55bdfa75",
   "metadata": {},
   "outputs": [],
   "source": [
    "# first new reaction\n",
    "# link to the reaction (KEGG)\n",
    "# Demethylmenaquinol + S-Adenosyl-L-methionine <=> Menaquinol + S-Adenosyl-L-homocysteine\n",
    "# dhna_c + nad_c + octdp_c --> 2dmmq7_c + co2_c + nadh_c + ppi_c\n",
    "\n",
    "new_reaction1 = cobra.Reaction('reaction_name') # the enzyme / reaction name from BIGG\n",
    "demethylmenaquinol7 = cobra.Metabolite(id='metabolite_name', compartment='c')\n",
    "\n",
    "new_reaction1.add_metabolites({model.metabolites.get_by_id('dhna_c'): -1,\n",
    "                               model.metabolites.get_by_id('nad_c'): -1,\n",
    "                               model.metabolites.get_by_id('octdp_c'): -1,\n",
    "                               demethylmenaquinol7: 1,\n",
    "                               model.metabolites.get_by_id('nadh_c'): 1,\n",
    "                               model.metabolites.get_by_id('ppi_c'): 1\n",
    "                              })\n",
    "\n",
    "model.add_reactions([new_reaction1])"
   ]
  },
  {
   "cell_type": "code",
   "execution_count": null,
   "id": "a430625c-d050-41b8-b2d2-740c5dde0f56",
   "metadata": {},
   "outputs": [],
   "source": []
  }
 ],
 "metadata": {
  "kernelspec": {
   "display_name": "Python 3 (ipykernel)",
   "language": "python",
   "name": "python3"
  },
  "language_info": {
   "codemirror_mode": {
    "name": "ipython",
    "version": 3
   },
   "file_extension": ".py",
   "mimetype": "text/x-python",
   "name": "python",
   "nbconvert_exporter": "python",
   "pygments_lexer": "ipython3",
   "version": "3.9.13"
  }
 },
 "nbformat": 4,
 "nbformat_minor": 5
}
