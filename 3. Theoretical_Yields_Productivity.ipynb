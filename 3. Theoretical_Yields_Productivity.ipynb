{
 "cells": [
  {
   "cell_type": "code",
   "execution_count": 1,
   "id": "6c588bf4-a962-47fb-a96a-80be7ced3558",
   "metadata": {
    "tags": []
   },
   "outputs": [
    {
     "name": "stderr",
     "output_type": "stream",
     "text": [
      "C:\\Users\\charl\\AppData\\Local\\Packages\\PythonSoftwareFoundation.Python.3.11_qbz5n2kfra8p0\\LocalCache\\local-packages\\Python311\\site-packages\\cobra\\core\\model.py:787: UserWarning: SEPHCHCS not in iNF517\n",
      "  warn(f\"{reaction} not in {self}\")\n",
      "C:\\Users\\charl\\AppData\\Local\\Packages\\PythonSoftwareFoundation.Python.3.11_qbz5n2kfra8p0\\LocalCache\\local-packages\\Python311\\site-packages\\cobra\\core\\model.py:787: UserWarning: SHCHCS3 not in iNF517\n",
      "  warn(f\"{reaction} not in {self}\")\n",
      "C:\\Users\\charl\\AppData\\Local\\Packages\\PythonSoftwareFoundation.Python.3.11_qbz5n2kfra8p0\\LocalCache\\local-packages\\Python311\\site-packages\\cobra\\core\\model.py:787: UserWarning: DHNCOAS not in iNF517\n",
      "  warn(f\"{reaction} not in {self}\")\n",
      "C:\\Users\\charl\\AppData\\Local\\Packages\\PythonSoftwareFoundation.Python.3.11_qbz5n2kfra8p0\\LocalCache\\local-packages\\Python311\\site-packages\\cobra\\core\\model.py:787: UserWarning: NPHS_c not in iNF517\n",
      "  warn(f\"{reaction} not in {self}\")\n",
      "C:\\Users\\charl\\AppData\\Local\\Packages\\PythonSoftwareFoundation.Python.3.11_qbz5n2kfra8p0\\LocalCache\\local-packages\\Python311\\site-packages\\cobra\\core\\model.py:787: UserWarning: DHNAOT7 not in iNF517\n",
      "  warn(f\"{reaction} not in {self}\")\n",
      "C:\\Users\\charl\\AppData\\Local\\Packages\\PythonSoftwareFoundation.Python.3.11_qbz5n2kfra8p0\\LocalCache\\local-packages\\Python311\\site-packages\\cobra\\core\\model.py:787: UserWarning: AMMQT7 not in iNF517\n",
      "  warn(f\"{reaction} not in {self}\")\n"
     ]
    }
   ],
   "source": [
    "import model_methods\n",
    "\n",
    "from cobra.io import read_sbml_model\n",
    "\n",
    "model_OG = read_sbml_model('iNF517.xml')\n",
    "model = model_methods.get_base_model()\n",
    "\n",
    "original_medium = model.medium\n",
    "original_objective = model_OG.objective"
   ]
  },
  {
   "cell_type": "code",
   "execution_count": 2,
   "id": "fceb5823",
   "metadata": {},
   "outputs": [
    {
     "data": {
      "text/html": [
       "<strong><em>Optimal</em> solution with objective value 0.043</strong><br><div>\n",
       "<style scoped>\n",
       "    .dataframe tbody tr th:only-of-type {\n",
       "        vertical-align: middle;\n",
       "    }\n",
       "\n",
       "    .dataframe tbody tr th {\n",
       "        vertical-align: top;\n",
       "    }\n",
       "\n",
       "    .dataframe thead th {\n",
       "        text-align: right;\n",
       "    }\n",
       "</style>\n",
       "<table border=\"1\" class=\"dataframe\">\n",
       "  <thead>\n",
       "    <tr style=\"text-align: right;\">\n",
       "      <th></th>\n",
       "      <th>fluxes</th>\n",
       "      <th>reduced_costs</th>\n",
       "    </tr>\n",
       "  </thead>\n",
       "  <tbody>\n",
       "    <tr>\n",
       "      <th>ACALDt</th>\n",
       "      <td>0.000000</td>\n",
       "      <td>0.000000e+00</td>\n",
       "    </tr>\n",
       "    <tr>\n",
       "      <th>ACMANApts</th>\n",
       "      <td>0.000000</td>\n",
       "      <td>-6.162976e-33</td>\n",
       "    </tr>\n",
       "    <tr>\n",
       "      <th>ACTNdiff</th>\n",
       "      <td>0.000000</td>\n",
       "      <td>-1.088561e-17</td>\n",
       "    </tr>\n",
       "    <tr>\n",
       "      <th>ACt2r</th>\n",
       "      <td>-0.985503</td>\n",
       "      <td>-0.000000e+00</td>\n",
       "    </tr>\n",
       "    <tr>\n",
       "      <th>ADEt2</th>\n",
       "      <td>0.010140</td>\n",
       "      <td>0.000000e+00</td>\n",
       "    </tr>\n",
       "    <tr>\n",
       "      <th>...</th>\n",
       "      <td>...</td>\n",
       "      <td>...</td>\n",
       "    </tr>\n",
       "    <tr>\n",
       "      <th>MCMAT8</th>\n",
       "      <td>0.003012</td>\n",
       "      <td>6.162976e-32</td>\n",
       "    </tr>\n",
       "    <tr>\n",
       "      <th>METDabc</th>\n",
       "      <td>0.000000</td>\n",
       "      <td>-4.377348e-16</td>\n",
       "    </tr>\n",
       "    <tr>\n",
       "      <th>PSERT</th>\n",
       "      <td>0.000000</td>\n",
       "      <td>-1.089687e-15</td>\n",
       "    </tr>\n",
       "    <tr>\n",
       "      <th>BGLA1</th>\n",
       "      <td>0.000000</td>\n",
       "      <td>2.465190e-32</td>\n",
       "    </tr>\n",
       "    <tr>\n",
       "      <th>SUCpts</th>\n",
       "      <td>0.000000</td>\n",
       "      <td>-5.084455e-32</td>\n",
       "    </tr>\n",
       "  </tbody>\n",
       "</table>\n",
       "<p>754 rows × 2 columns</p>\n",
       "</div>"
      ],
      "text/plain": [
       "<Solution 0.043 at 0x1fb20d76350>"
      ]
     },
     "execution_count": 2,
     "metadata": {},
     "output_type": "execute_result"
    }
   ],
   "source": [
    "model_OG.optimize()"
   ]
  },
  {
   "cell_type": "code",
   "execution_count": 3,
   "id": "52c42ae5-9f34-4f8e-96d8-c8c6d38aa73f",
   "metadata": {},
   "outputs": [
    {
     "name": "stdout",
     "output_type": "stream",
     "text": [
      "Maximize\n",
      "1.0*BIOMASS_LLA - 1.0*BIOMASS_LLA_reverse_0796e\n"
     ]
    }
   ],
   "source": [
    "print(original_objective)"
   ]
  },
  {
   "cell_type": "code",
   "execution_count": 4,
   "id": "f98d7acb-9325-45aa-84dc-ec9e3469d4e4",
   "metadata": {},
   "outputs": [
    {
     "data": {
      "text/html": [
       "\n",
       "        <table>\n",
       "            <tr>\n",
       "                <td><strong>Reaction identifier</strong></td><td>DM_mqn7_c</td>\n",
       "            </tr><tr>\n",
       "                <td><strong>Name</strong></td><td>Menaquinone 7 C46H64O2 demand</td>\n",
       "            </tr><tr>\n",
       "                <td><strong>Memory address</strong></td>\n",
       "                <td>0x1fb21733710</td>\n",
       "            </tr><tr>\n",
       "                <td><strong>Stoichiometry</strong></td>\n",
       "                <td>\n",
       "                    <p style='text-align:right'>mqn7_c --></p>\n",
       "                    <p style='text-align:right'>Menaquinone 7 C46H64O2 --></p>\n",
       "                </td>\n",
       "            </tr><tr>\n",
       "                <td><strong>GPR</strong></td><td></td>\n",
       "            </tr><tr>\n",
       "                <td><strong>Lower bound</strong></td><td>0</td>\n",
       "            </tr><tr>\n",
       "                <td><strong>Upper bound</strong></td><td>1000.0</td>\n",
       "            </tr>\n",
       "        </table>\n",
       "        "
      ],
      "text/plain": [
       "<Reaction DM_mqn7_c at 0x1fb21733710>"
      ]
     },
     "execution_count": 4,
     "metadata": {},
     "output_type": "execute_result"
    }
   ],
   "source": [
    "model_OG.add_boundary(model_OG.metabolites.mqn7_c, type='demand')"
   ]
  },
  {
   "cell_type": "markdown",
   "id": "4de938ec",
   "metadata": {},
   "source": [
    "### Original model"
   ]
  },
  {
   "cell_type": "code",
   "execution_count": 5,
   "id": "23932267",
   "metadata": {},
   "outputs": [
    {
     "name": "stdout",
     "output_type": "stream",
     "text": [
      "Max. productivity: 0.0 mmol/(gDW*h)\n"
     ]
    }
   ],
   "source": [
    "with model_OG:\n",
    "    model_OG.objective = model_OG.reactions.DM_mqn7_c\n",
    "    mqn7_production = model_OG.optimize().objective_value\n",
    "print(\"Max. productivity:\",mqn7_production, \"mmol/(gDW*h)\")"
   ]
  },
  {
   "cell_type": "markdown",
   "id": "e5247218",
   "metadata": {},
   "source": [
    "### Modified model"
   ]
  },
  {
   "cell_type": "code",
   "execution_count": 6,
   "id": "33d0155e-5553-4353-8b70-9ffbecf22909",
   "metadata": {},
   "outputs": [
    {
     "name": "stdout",
     "output_type": "stream",
     "text": [
      "Max. productivity: 0.03999999999999995 mmol/(gDW*h)\n"
     ]
    }
   ],
   "source": [
    "\n",
    "with model: \n",
    "    #model.add_boundary(model.metabolites.mqn7_c, type='demand')\n",
    "    model.objective = model.reactions.DM_mqn7_c\n",
    "    mqn7_production = model.optimize().objective_value\n",
    "print(\"Max. productivity:\",mqn7_production, \"mmol/(gDW*h)\")"
   ]
  },
  {
   "cell_type": "markdown",
   "id": "2905bd80",
   "metadata": {},
   "source": [
    "### Initial max. yield"
   ]
  },
  {
   "cell_type": "code",
   "execution_count": 7,
   "id": "bfecba33",
   "metadata": {},
   "outputs": [
    {
     "name": "stdout",
     "output_type": "stream",
     "text": [
      "Max. yield: 0.024133458022866417 mmol mqn7/mmol glucose\n"
     ]
    }
   ],
   "source": [
    "maximum_yield = mqn7_production/(-1*model.reactions.EX_glc__D_e.flux)\n",
    "print(\"Max. yield:\",maximum_yield, \"mmol mqn7/mmol glucose\")"
   ]
  },
  {
   "cell_type": "markdown",
   "metadata": {},
   "source": [
    "From the results, we can see that after updating the model we get a 0.04 mmol/(gDW * h) production rate instead of the 0.0 mmol/(gDW * h) form the original model. We can also find the initial max yield at 0.024 mmol mqn7/mmol glucose for the updated model. Since there is no productivity for the original it does not make sense to find yield for that one."
   ]
  }
 ],
 "metadata": {
  "kernelspec": {
   "display_name": "Python 3 (ipykernel)",
   "language": "python",
   "name": "python3"
  },
  "language_info": {
   "codemirror_mode": {
    "name": "ipython",
    "version": 3
   },
   "file_extension": ".py",
   "mimetype": "text/x-python",
   "name": "python",
   "nbconvert_exporter": "python",
   "pygments_lexer": "ipython3",
   "version": "3.11.6"
  }
 },
 "nbformat": 4,
 "nbformat_minor": 5
}
