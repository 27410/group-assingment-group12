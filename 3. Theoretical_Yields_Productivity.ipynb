{
 "cells": [
  {
   "cell_type": "code",
   "execution_count": 1,
   "id": "6c588bf4-a962-47fb-a96a-80be7ced3558",
   "metadata": {
    "tags": []
   },
   "outputs": [
    {
     "name": "stderr",
     "output_type": "stream",
     "text": [
      "c:\\Users\\s164898\\Anaconda3\\lib\\site-packages\\cobra\\core\\model.py:787: UserWarning: SEPHCHCS not in iNF517\n",
      "  warn(f\"{reaction} not in {self}\")\n",
      "c:\\Users\\s164898\\Anaconda3\\lib\\site-packages\\cobra\\core\\model.py:787: UserWarning: SHCHCS3 not in iNF517\n",
      "  warn(f\"{reaction} not in {self}\")\n",
      "c:\\Users\\s164898\\Anaconda3\\lib\\site-packages\\cobra\\core\\model.py:787: UserWarning: DHNCOAS not in iNF517\n",
      "  warn(f\"{reaction} not in {self}\")\n",
      "c:\\Users\\s164898\\Anaconda3\\lib\\site-packages\\cobra\\core\\model.py:787: UserWarning: NPHS_c not in iNF517\n",
      "  warn(f\"{reaction} not in {self}\")\n",
      "c:\\Users\\s164898\\Anaconda3\\lib\\site-packages\\cobra\\core\\model.py:787: UserWarning: DHNAOT7 not in iNF517\n",
      "  warn(f\"{reaction} not in {self}\")\n",
      "c:\\Users\\s164898\\Anaconda3\\lib\\site-packages\\cobra\\core\\model.py:787: UserWarning: AMMQT7 not in iNF517\n",
      "  warn(f\"{reaction} not in {self}\")\n"
     ]
    }
   ],
   "source": [
    "import model_methods\n",
    "\n",
    "from cobra.io import read_sbml_model\n",
    "\n",
    "model_OG = read_sbml_model('iNF517.xml')\n",
    "model = model_methods.model_update(model_OG)\n",
    "\n",
    "original_medium = model.medium\n",
    "original_objective = model.objective"
   ]
  },
  {
   "cell_type": "code",
   "execution_count": 2,
   "id": "fceb5823",
   "metadata": {},
   "outputs": [
    {
     "name": "stderr",
     "output_type": "stream",
     "text": [
      "c:\\Users\\s164898\\Anaconda3\\lib\\site-packages\\cobra\\util\\solver.py:554: UserWarning: Solver status is 'infeasible'.\n",
      "  warn(f\"Solver status is '{status}'.\", UserWarning)\n"
     ]
    },
    {
     "data": {
      "text/html": [
       "<strong><em>infeasible</em> solution</strong>"
      ],
      "text/plain": [
       "<Solution infeasible at 0x214a3e30520>"
      ]
     },
     "execution_count": 2,
     "metadata": {},
     "output_type": "execute_result"
    }
   ],
   "source": [
    "model_OG.optimize()"
   ]
  },
  {
   "cell_type": "code",
   "execution_count": 3,
   "id": "52c42ae5-9f34-4f8e-96d8-c8c6d38aa73f",
   "metadata": {},
   "outputs": [
    {
     "name": "stdout",
     "output_type": "stream",
     "text": [
      "Maximize\n",
      "1.0*BIOMASS_LLA - 1.0*BIOMASS_LLA_reverse_0796e\n"
     ]
    }
   ],
   "source": [
    "print(original_objective)"
   ]
  },
  {
   "cell_type": "code",
   "execution_count": 4,
   "id": "f98d7acb-9325-45aa-84dc-ec9e3469d4e4",
   "metadata": {},
   "outputs": [
    {
     "data": {
      "text/html": [
       "\n",
       "        <table>\n",
       "            <tr>\n",
       "                <td><strong>Reaction identifier</strong></td><td>DM_mqn7_c</td>\n",
       "            </tr><tr>\n",
       "                <td><strong>Name</strong></td><td>Menaquinone 7 C46H64O2 demand</td>\n",
       "            </tr><tr>\n",
       "                <td><strong>Memory address</strong></td>\n",
       "                <td>0x214b0cb60a0</td>\n",
       "            </tr><tr>\n",
       "                <td><strong>Stoichiometry</strong></td>\n",
       "                <td>\n",
       "                    <p style='text-align:right'>mqn7_c --></p>\n",
       "                    <p style='text-align:right'>Menaquinone 7 C46H64O2 --></p>\n",
       "                </td>\n",
       "            </tr><tr>\n",
       "                <td><strong>GPR</strong></td><td></td>\n",
       "            </tr><tr>\n",
       "                <td><strong>Lower bound</strong></td><td>0</td>\n",
       "            </tr><tr>\n",
       "                <td><strong>Upper bound</strong></td><td>1000.0</td>\n",
       "            </tr>\n",
       "        </table>\n",
       "        "
      ],
      "text/plain": [
       "<Reaction DM_mqn7_c at 0x214b0cb60a0>"
      ]
     },
     "execution_count": 4,
     "metadata": {},
     "output_type": "execute_result"
    }
   ],
   "source": [
    "model.add_boundary(model.metabolites.mqn7_c, type='demand')"
   ]
  },
  {
   "cell_type": "markdown",
   "id": "4de938ec",
   "metadata": {},
   "source": [
    "### Original model"
   ]
  },
  {
   "cell_type": "code",
   "execution_count": 5,
   "id": "23932267",
   "metadata": {},
   "outputs": [
    {
     "name": "stdout",
     "output_type": "stream",
     "text": [
      "Max. productivity: 0.04 mmol/(gDW*h)\n"
     ]
    }
   ],
   "source": [
    "\n",
    "with model_OG:\n",
    "    model_OG.objective = model_OG.reactions.DM_mqn7_c\n",
    "    mqn7_production = model_OG.optimize().objective_value\n",
    "print(\"Max. productivity:\",mqn7_production, \"mmol/(gDW*h)\")"
   ]
  },
  {
   "cell_type": "markdown",
   "id": "e5247218",
   "metadata": {},
   "source": [
    "### Modified model"
   ]
  },
  {
   "cell_type": "code",
   "execution_count": 6,
   "id": "33d0155e-5553-4353-8b70-9ffbecf22909",
   "metadata": {},
   "outputs": [
    {
     "name": "stdout",
     "output_type": "stream",
     "text": [
      "Max. productivity: 0.03999999999999995 mmol/(gDW*h)\n"
     ]
    }
   ],
   "source": [
    "\n",
    "with model: \n",
    "    #model.add_boundary(model.metabolites.mqn7_c, type='demand')\n",
    "    model.objective = model.reactions.DM_mqn7_c\n",
    "    mqn7_production = model.optimize().objective_value\n",
    "print(\"Max. productivity:\",mqn7_production, \"mmol/(gDW*h)\")"
   ]
  },
  {
   "cell_type": "markdown",
   "id": "2905bd80",
   "metadata": {},
   "source": [
    "### Initial max. yield"
   ]
  },
  {
   "cell_type": "code",
   "execution_count": 7,
   "id": "bfecba33",
   "metadata": {},
   "outputs": [
    {
     "name": "stdout",
     "output_type": "stream",
     "text": [
      "Max. yield: 0.024133458022866417 mmol mqn7/mmol glucose\n"
     ]
    }
   ],
   "source": [
    "maximum_yield = mqn7_production/(-1*model.reactions.EX_glc__D_e.flux)\n",
    "print(\"Max. yield:\",maximum_yield, \"mmol mqn7/mmol glucose\")"
   ]
  }
 ],
 "metadata": {
  "kernelspec": {
   "display_name": "Python 3 (ipykernel)",
   "language": "python",
   "name": "python3"
  },
  "language_info": {
   "codemirror_mode": {
    "name": "ipython",
    "version": 3
   },
   "file_extension": ".py",
   "mimetype": "text/x-python",
   "name": "python",
   "nbconvert_exporter": "python",
   "pygments_lexer": "ipython3",
   "version": "3.11.4"
  }
 },
 "nbformat": 4,
 "nbformat_minor": 5
}
