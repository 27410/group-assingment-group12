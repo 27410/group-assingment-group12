{
 "cells": [
  {
   "cell_type": "code",
   "execution_count": 2,
   "id": "6c588bf4-a962-47fb-a96a-80be7ced3558",
   "metadata": {
    "tags": []
   },
   "outputs": [
    {
     "ename": "ModuleNotFoundError",
     "evalue": "No module named 'model_methods'",
     "output_type": "error",
     "traceback": [
      "\u001b[0;31m---------------------------------------------------------------------------\u001b[0m",
      "\u001b[0;31mModuleNotFoundError\u001b[0m                       Traceback (most recent call last)",
      "Cell \u001b[0;32mIn[2], line 1\u001b[0m\n\u001b[0;32m----> 1\u001b[0m \u001b[38;5;28;01mimport\u001b[39;00m \u001b[38;5;21;01mmodel_methods\u001b[39;00m\n\u001b[1;32m      2\u001b[0m \u001b[38;5;28;01mimport\u001b[39;00m \u001b[38;5;21;01mcobra\u001b[39;00m\u001b[38;5;21;01m.\u001b[39;00m\u001b[38;5;21;01mio\u001b[39;00m\n\u001b[1;32m      3\u001b[0m \u001b[38;5;28;01mfrom\u001b[39;00m \u001b[38;5;21;01mcobra\u001b[39;00m\u001b[38;5;21;01m.\u001b[39;00m\u001b[38;5;21;01mio\u001b[39;00m \u001b[38;5;28;01mimport\u001b[39;00m read_sbml_model\n",
      "\u001b[0;31mModuleNotFoundError\u001b[0m: No module named 'model_methods'"
     ]
    }
   ],
   "source": [
    "import model_methods\n",
    "import cobra.io\n",
    "from cobra.io import read_sbml_model\n",
    "\n",
    "model_OG = read_sbml_model('iNF517.xml')\n",
    "model = model_methods.model_update(model_OG)\n",
    "\n",
    "original_medium = model.medium\n",
    "original_objective = model.objective"
   ]
  },
  {
   "cell_type": "code",
   "execution_count": null,
   "id": "52c42ae5-9f34-4f8e-96d8-c8c6d38aa73f",
   "metadata": {},
   "outputs": [],
   "source": [
    "print(original_objective)"
   ]
  },
  {
   "cell_type": "code",
   "execution_count": null,
   "id": "f98d7acb-9325-45aa-84dc-ec9e3469d4e4",
   "metadata": {},
   "outputs": [],
   "source": [
    "model.add_boundary(model.metabolites.mqn7_c, type='demand')"
   ]
  },
  {
   "cell_type": "code",
   "execution_count": null,
   "id": "33d0155e-5553-4353-8b70-9ffbecf22909",
   "metadata": {},
   "outputs": [],
   "source": [
    "with model:\n",
    "    model.objective = model.reactions.DM_mqn7_c\n",
    "    mqn7_production = model.optimize().objective_value\n",
    "mqn7_production"
   ]
  }
 ],
 "metadata": {
  "kernelspec": {
   "display_name": "Python 3 (ipykernel)",
   "language": "python",
   "name": "python3"
  },
  "language_info": {
   "codemirror_mode": {
    "name": "ipython",
    "version": 3
   },
   "file_extension": ".py",
   "mimetype": "text/x-python",
   "name": "python",
   "nbconvert_exporter": "python",
   "pygments_lexer": "ipython3",
   "version": "3.11.4"
  }
 },
 "nbformat": 4,
 "nbformat_minor": 5
}
