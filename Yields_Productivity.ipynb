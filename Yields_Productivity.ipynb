{
 "cells": [
  {
   "cell_type": "code",
   "execution_count": 1,
   "id": "6c588bf4-a962-47fb-a96a-80be7ced3558",
   "metadata": {
    "tags": []
   },
   "outputs": [
    {
     "name": "stderr",
     "output_type": "stream",
     "text": [
      "C:\\Users\\charl\\AppData\\Local\\Packages\\PythonSoftwareFoundation.Python.3.11_qbz5n2kfra8p0\\LocalCache\\local-packages\\Python311\\site-packages\\cobra\\core\\model.py:787: UserWarning: SEPHCHCS not in iNF517\n",
      "  warn(f\"{reaction} not in {self}\")\n",
      "C:\\Users\\charl\\AppData\\Local\\Packages\\PythonSoftwareFoundation.Python.3.11_qbz5n2kfra8p0\\LocalCache\\local-packages\\Python311\\site-packages\\cobra\\core\\model.py:787: UserWarning: SHCHCS3 not in iNF517\n",
      "  warn(f\"{reaction} not in {self}\")\n",
      "C:\\Users\\charl\\AppData\\Local\\Packages\\PythonSoftwareFoundation.Python.3.11_qbz5n2kfra8p0\\LocalCache\\local-packages\\Python311\\site-packages\\cobra\\core\\model.py:787: UserWarning: DHNCOAS not in iNF517\n",
      "  warn(f\"{reaction} not in {self}\")\n",
      "C:\\Users\\charl\\AppData\\Local\\Packages\\PythonSoftwareFoundation.Python.3.11_qbz5n2kfra8p0\\LocalCache\\local-packages\\Python311\\site-packages\\cobra\\core\\model.py:787: UserWarning: NPHS_c not in iNF517\n",
      "  warn(f\"{reaction} not in {self}\")\n",
      "C:\\Users\\charl\\AppData\\Local\\Packages\\PythonSoftwareFoundation.Python.3.11_qbz5n2kfra8p0\\LocalCache\\local-packages\\Python311\\site-packages\\cobra\\core\\model.py:787: UserWarning: DHNAOT7 not in iNF517\n",
      "  warn(f\"{reaction} not in {self}\")\n",
      "C:\\Users\\charl\\AppData\\Local\\Packages\\PythonSoftwareFoundation.Python.3.11_qbz5n2kfra8p0\\LocalCache\\local-packages\\Python311\\site-packages\\cobra\\core\\model.py:787: UserWarning: AMMQT7 not in iNF517\n",
      "  warn(f\"{reaction} not in {self}\")\n"
     ]
    }
   ],
   "source": [
    "import model_methods\n",
    "\n",
    "from cobra.io import read_sbml_model\n",
    "\n",
    "model_OG = read_sbml_model('iNF517.xml')\n",
    "model = model_methods.model_update(model_OG)\n",
    "\n",
    "original_medium = model.medium\n",
    "original_objective = model.objective"
   ]
  },
  {
   "cell_type": "code",
   "execution_count": 2,
   "metadata": {},
   "outputs": [
    {
     "name": "stderr",
     "output_type": "stream",
     "text": [
      "C:\\Users\\charl\\AppData\\Local\\Packages\\PythonSoftwareFoundation.Python.3.11_qbz5n2kfra8p0\\LocalCache\\local-packages\\Python311\\site-packages\\cobra\\util\\solver.py:554: UserWarning: Solver status is 'infeasible'.\n",
      "  warn(f\"Solver status is '{status}'.\", UserWarning)\n"
     ]
    },
    {
     "data": {
      "text/html": [
       "<strong><em>infeasible</em> solution</strong>"
      ],
      "text/plain": [
       "<Solution infeasible at 0x1c1c12f2750>"
      ]
     },
     "execution_count": 2,
     "metadata": {},
     "output_type": "execute_result"
    }
   ],
   "source": [
    "model_OG.optimize()"
   ]
  },
  {
   "cell_type": "code",
   "execution_count": 3,
   "id": "52c42ae5-9f34-4f8e-96d8-c8c6d38aa73f",
   "metadata": {},
   "outputs": [
    {
     "name": "stdout",
     "output_type": "stream",
     "text": [
      "Maximize\n",
      "1.0*BIOMASS_LLA - 1.0*BIOMASS_LLA_reverse_0796e\n"
     ]
    }
   ],
   "source": [
    "print(original_objective)"
   ]
  },
  {
   "cell_type": "code",
   "execution_count": 4,
   "id": "f98d7acb-9325-45aa-84dc-ec9e3469d4e4",
   "metadata": {},
   "outputs": [
    {
     "data": {
      "text/html": [
       "\n",
       "        <table>\n",
       "            <tr>\n",
       "                <td><strong>Reaction identifier</strong></td><td>DM_mqn7_c</td>\n",
       "            </tr><tr>\n",
       "                <td><strong>Name</strong></td><td>Menaquinone 7 C46H64O2 demand</td>\n",
       "            </tr><tr>\n",
       "                <td><strong>Memory address</strong></td>\n",
       "                <td>0x1c1c12add90</td>\n",
       "            </tr><tr>\n",
       "                <td><strong>Stoichiometry</strong></td>\n",
       "                <td>\n",
       "                    <p style='text-align:right'>mqn7_c --></p>\n",
       "                    <p style='text-align:right'>Menaquinone 7 C46H64O2 --></p>\n",
       "                </td>\n",
       "            </tr><tr>\n",
       "                <td><strong>GPR</strong></td><td></td>\n",
       "            </tr><tr>\n",
       "                <td><strong>Lower bound</strong></td><td>0</td>\n",
       "            </tr><tr>\n",
       "                <td><strong>Upper bound</strong></td><td>1000.0</td>\n",
       "            </tr>\n",
       "        </table>\n",
       "        "
      ],
      "text/plain": [
       "<Reaction DM_mqn7_c at 0x1c1c12add90>"
      ]
     },
     "execution_count": 4,
     "metadata": {},
     "output_type": "execute_result"
    }
   ],
   "source": [
    "model.add_boundary(model.metabolites.mqn7_c, type='demand')"
   ]
  },
  {
   "cell_type": "markdown",
   "metadata": {},
   "source": [
    "### Original model"
   ]
  },
  {
   "cell_type": "code",
   "execution_count": null,
   "metadata": {},
   "outputs": [],
   "source": [
    "#model_OG.add_boundary(model_OG.metabolites.mqn7_c, type='demand')\n",
    "with model_OG:\n",
    "    model_OG.objective = model_OG.reactions.DM_mqn7_c\n",
    "    mqn7_production = model_OG.optimize().objective_value\n",
    "print(\"Max. productivity:\",mqn7_production, \"mmol/(gDw*h)\")"
   ]
  },
  {
   "cell_type": "markdown",
   "metadata": {},
   "source": [
    "### Modified model"
   ]
  },
  {
   "cell_type": "code",
   "execution_count": null,
   "id": "33d0155e-5553-4353-8b70-9ffbecf22909",
   "metadata": {},
   "outputs": [],
   "source": [
    "\n",
    "with model: \n",
    "    #model.add_boundary(model.metabolites.mqn7_c, type='demand')\n",
    "    model.objective = model.reactions.DM_mqn7_c\n",
    "    mqn7_production = model.optimize().objective_value\n",
    "print(\"Max. productivity:\",mqn7_production, \"mmol/(gDw*h)\")"
   ]
  },
  {
   "cell_type": "markdown",
   "metadata": {},
   "source": [
    "### Initial max. yield"
   ]
  },
  {
   "cell_type": "code",
   "execution_count": null,
   "metadata": {},
   "outputs": [],
   "source": [
    "maximum_yield = mqn7_production/(-1*model.reactions.EX_glc__D_e.flux)\n",
    "print(\"Max. yield:\",maximum_yield, \"mmol mqn7/mmol glucose\")"
   ]
  },
  {
   "cell_type": "markdown",
   "metadata": {},
   "source": [
    "### Working with medium \n"
   ]
  },
  {
   "cell_type": "code",
   "execution_count": 2,
   "metadata": {},
   "outputs": [
    {
     "name": "stderr",
     "output_type": "stream",
     "text": [
      "C:\\Users\\charl\\AppData\\Local\\Packages\\PythonSoftwareFoundation.Python.3.11_qbz5n2kfra8p0\\LocalCache\\local-packages\\Python311\\site-packages\\cobra\\core\\model.py:787: UserWarning: SEPHCHCS not in iNF517\n",
      "  warn(f\"{reaction} not in {self}\")\n",
      "C:\\Users\\charl\\AppData\\Local\\Packages\\PythonSoftwareFoundation.Python.3.11_qbz5n2kfra8p0\\LocalCache\\local-packages\\Python311\\site-packages\\cobra\\core\\model.py:787: UserWarning: SHCHCS3 not in iNF517\n",
      "  warn(f\"{reaction} not in {self}\")\n",
      "C:\\Users\\charl\\AppData\\Local\\Packages\\PythonSoftwareFoundation.Python.3.11_qbz5n2kfra8p0\\LocalCache\\local-packages\\Python311\\site-packages\\cobra\\core\\model.py:787: UserWarning: DHNCOAS not in iNF517\n",
      "  warn(f\"{reaction} not in {self}\")\n",
      "C:\\Users\\charl\\AppData\\Local\\Packages\\PythonSoftwareFoundation.Python.3.11_qbz5n2kfra8p0\\LocalCache\\local-packages\\Python311\\site-packages\\cobra\\core\\model.py:787: UserWarning: NPHS_c not in iNF517\n",
      "  warn(f\"{reaction} not in {self}\")\n",
      "C:\\Users\\charl\\AppData\\Local\\Packages\\PythonSoftwareFoundation.Python.3.11_qbz5n2kfra8p0\\LocalCache\\local-packages\\Python311\\site-packages\\cobra\\core\\model.py:787: UserWarning: DHNAOT7 not in iNF517\n",
      "  warn(f\"{reaction} not in {self}\")\n",
      "C:\\Users\\charl\\AppData\\Local\\Packages\\PythonSoftwareFoundation.Python.3.11_qbz5n2kfra8p0\\LocalCache\\local-packages\\Python311\\site-packages\\cobra\\core\\model.py:787: UserWarning: AMMQT7 not in iNF517\n",
      "  warn(f\"{reaction} not in {self}\")\n"
     ]
    }
   ],
   "source": [
    "import model_methods\n",
    "\n",
    "from cobra.io import read_sbml_model\n",
    "\n",
    "model_OG = read_sbml_model('iNF517.xml')\n",
    "model = model_methods.model_update(model_OG)\n",
    "\n",
    "original_medium = model.medium\n",
    "original_objective = model.objective"
   ]
  },
  {
   "cell_type": "code",
   "execution_count": 5,
   "metadata": {},
   "outputs": [
    {
     "data": {
      "text/plain": [
       "{'EX_4abz_e': 0.00999,\n",
       " 'EX_ade_e': 0.01014,\n",
       " 'EX_ala__L_e': 0.04,\n",
       " 'EX_arg__L_e': 0.02,\n",
       " 'EX_asp__L_e': 0.01,\n",
       " 'EX_co2_e': 1000.0,\n",
       " 'EX_cys__L_e': 0.02,\n",
       " 'EX_fe2_e': 1000.0,\n",
       " 'EX_fe3_e': 1000.0,\n",
       " 'EX_glc__D_e': 2.12,\n",
       " 'EX_glu__L_e': 0.05,\n",
       " 'EX_gly_e': 0.04,\n",
       " 'EX_gua_e': 0.00906,\n",
       " 'EX_h2o_e': 1000.0,\n",
       " 'EX_h_e': 1000.0,\n",
       " 'EX_his__L_e': 0.01,\n",
       " 'EX_ile__L_e': 0.05,\n",
       " 'EX_ins_e': 0.00255,\n",
       " 'EX_leu__L_e': 0.06,\n",
       " 'EX_lys__L_e': 0.04,\n",
       " 'EX_met__L_e': 0.01,\n",
       " 'EX_mn2_e': 1000.0,\n",
       " 'EX_nac_e': 0.00111,\n",
       " 'EX_nh4_e': 0.59,\n",
       " 'EX_orot_e': 0.00439,\n",
       " 'EX_phe__L_e': 0.02,\n",
       " 'EX_pi_e': 1000.0,\n",
       " 'EX_pnto__R_e': 0.00062,\n",
       " 'EX_ribflv_e': 0.00036,\n",
       " 'EX_ser__L_e': 0.11,\n",
       " 'EX_thm_e': 0.00041,\n",
       " 'EX_thr__L_e': 0.06,\n",
       " 'EX_thymd_e': 0.00283,\n",
       " 'EX_ura_e': 0.01222,\n",
       " 'EX_val__L_e': 0.05,\n",
       " 'EX_xan_e': 0.00901,\n",
       " 'EX_zn2_e': 1000.0}"
      ]
     },
     "execution_count": 5,
     "metadata": {},
     "output_type": "execute_result"
    }
   ],
   "source": [
    "model.medium"
   ]
  },
  {
   "cell_type": "code",
   "execution_count": null,
   "metadata": {},
   "outputs": [],
   "source": [
    "#model_OG.optimize()"
   ]
  },
  {
   "cell_type": "code",
   "execution_count": 6,
   "metadata": {},
   "outputs": [
    {
     "data": {
      "text/plain": [
       "{'EX_4abz_e': 0.00999,\n",
       " 'EX_ade_e': 0.01014,\n",
       " 'EX_ala__L_e': 10,\n",
       " 'EX_arg__L_e': 10,\n",
       " 'EX_asp__L_e': 0.01,\n",
       " 'EX_co2_e': 1000.0,\n",
       " 'EX_cys__L_e': 0.02,\n",
       " 'EX_fe2_e': 1000.0,\n",
       " 'EX_fe3_e': 1000.0,\n",
       " 'EX_glc__D_e': 2.12,\n",
       " 'EX_glu__L_e': 10,\n",
       " 'EX_gly_e': 0.04,\n",
       " 'EX_gua_e': 0.00906,\n",
       " 'EX_h2o_e': 1000.0,\n",
       " 'EX_h_e': 1000.0,\n",
       " 'EX_his__L_e': 0.01,\n",
       " 'EX_ile__L_e': 0.05,\n",
       " 'EX_ins_e': 0.00255,\n",
       " 'EX_leu__L_e': 0.06,\n",
       " 'EX_lys__L_e': 0.04,\n",
       " 'EX_met__L_e': 0.01,\n",
       " 'EX_mn2_e': 1000.0,\n",
       " 'EX_nac_e': 0.00111,\n",
       " 'EX_nh4_e': 0.59,\n",
       " 'EX_orot_e': 0.00439,\n",
       " 'EX_phe__L_e': 0.02,\n",
       " 'EX_pi_e': 1000.0,\n",
       " 'EX_pnto__R_e': 0.00062,\n",
       " 'EX_ribflv_e': 0.00036,\n",
       " 'EX_ser__L_e': 0.11,\n",
       " 'EX_thm_e': 0.00041,\n",
       " 'EX_thr__L_e': 0.06,\n",
       " 'EX_thymd_e': 0.00283,\n",
       " 'EX_ura_e': 0.01222,\n",
       " 'EX_val__L_e': 0.05,\n",
       " 'EX_xan_e': 0.00901,\n",
       " 'EX_zn2_e': 1000.0}"
      ]
     },
     "execution_count": 6,
     "metadata": {},
     "output_type": "execute_result"
    }
   ],
   "source": [
    "medium=original_medium\n",
    "medium['EX_ala__L_e'] = 10\n",
    "medium['EX_arg__L_e'] = 10\n",
    "medium['EX_glu__L_e'] = 10\n",
    "\n",
    "\n",
    "\n",
    "model.medium=medium\n",
    "model.medium"
   ]
  },
  {
   "cell_type": "code",
   "execution_count": null,
   "metadata": {},
   "outputs": [],
   "source": [
    "#model.reactions.EX_tyr__L_e.bounds=-10,0"
   ]
  },
  {
   "cell_type": "code",
   "execution_count": null,
   "metadata": {},
   "outputs": [],
   "source": [
    "#model.optimize()"
   ]
  },
  {
   "cell_type": "code",
   "execution_count": 7,
   "metadata": {},
   "outputs": [
    {
     "name": "stdout",
     "output_type": "stream",
     "text": [
      "Max. productivity: 0.14819759060135398 mmol/(gDw*h)\n"
     ]
    }
   ],
   "source": [
    "with model: \n",
    "    #model.add_boundary(model.metabolites.mqn7_c, type='demand')\n",
    "    model.objective = model.reactions.DM_mqn7_c\n",
    "    mqn7_production = model.optimize().objective_value\n",
    "print(\"Max. productivity:\",mqn7_production, \"mmol/(gDw*h)\")"
   ]
  }
 ],
 "metadata": {
  "kernelspec": {
   "display_name": "Python 3 (ipykernel)",
   "language": "python",
   "name": "python3"
  },
  "language_info": {
   "codemirror_mode": {
    "name": "ipython",
    "version": 3
   },
   "file_extension": ".py",
   "mimetype": "text/x-python",
   "name": "python",
   "nbconvert_exporter": "python",
   "pygments_lexer": "ipython3",
   "version": "3.11.6"
  }
 },
 "nbformat": 4,
 "nbformat_minor": 5
}
