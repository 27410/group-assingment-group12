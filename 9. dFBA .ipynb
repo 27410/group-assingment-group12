{
 "cells": [
  {
   "cell_type": "code",
   "execution_count": 1,
   "id": "4e80c20e",
   "metadata": {},
   "outputs": [],
   "source": [
    "from scipy.integrate import solve_ivp\n",
    "import matplotlib.pyplot as plt\n",
    "import model_methods\n",
    "from model_methods import update_medium, get_base_model, add_sucrose\n",
    "import numpy as np\n",
    "\n",
    "import cobra\n",
    "from cobra.io import read_sbml_model\n",
    "from cobra import Reaction, Metabolite\n",
    "from tqdm import tqdm\n",
    "\n",
    "%matplotlib inline"
   ]
  },
  {
   "cell_type": "code",
   "execution_count": 2,
   "id": "86067891",
   "metadata": {},
   "outputs": [
    {
     "name": "stderr",
     "output_type": "stream",
     "text": [
      "/Library/Frameworks/Python.framework/Versions/3.7/lib/python3.7/site-packages/cobra/core/model.py:787: UserWarning: SEPHCHCS not in iNF517\n",
      "  warn(f\"{reaction} not in {self}\")\n",
      "/Library/Frameworks/Python.framework/Versions/3.7/lib/python3.7/site-packages/cobra/core/model.py:787: UserWarning: SHCHCS3 not in iNF517\n",
      "  warn(f\"{reaction} not in {self}\")\n",
      "/Library/Frameworks/Python.framework/Versions/3.7/lib/python3.7/site-packages/cobra/core/model.py:787: UserWarning: DHNCOAS not in iNF517\n",
      "  warn(f\"{reaction} not in {self}\")\n",
      "/Library/Frameworks/Python.framework/Versions/3.7/lib/python3.7/site-packages/cobra/core/model.py:787: UserWarning: NPHS_c not in iNF517\n",
      "  warn(f\"{reaction} not in {self}\")\n",
      "/Library/Frameworks/Python.framework/Versions/3.7/lib/python3.7/site-packages/cobra/core/model.py:787: UserWarning: DHNAOT7 not in iNF517\n",
      "  warn(f\"{reaction} not in {self}\")\n",
      "/Library/Frameworks/Python.framework/Versions/3.7/lib/python3.7/site-packages/cobra/core/model.py:787: UserWarning: AMMQT7 not in iNF517\n",
      "  warn(f\"{reaction} not in {self}\")\n"
     ]
    }
   ],
   "source": [
    "model = update_medium(get_base_model())"
   ]
  },
  {
   "cell_type": "markdown",
   "id": "fda458ce",
   "metadata": {},
   "source": [
    "**add_dynamic_bounds**: This function updates the bounds of the model's reactions based on the current state y. Specifically, it adjusts the lower bound of the glucose exchange reaction (EX_glc__D_e) based on a formula involving glucose concentration."
   ]
  },
  {
   "cell_type": "code",
   "execution_count": 3,
   "id": "8e055a11",
   "metadata": {},
   "outputs": [],
   "source": [
    "def add_dynamic_bounds(model, y):\n",
    "    biomass, glucose, mqn7 = y\n",
    "    \n",
    "    # Calculate the maximum glucose import rate based on a formula\n",
    "    glucose_max_import = -10 * glucose / (5 + glucose)\n",
    "    \n",
    "    # Update the lower bound of the glucose exchange reaction\n",
    "    model.reactions.EX_glc__D_e.lower_bound = glucose_max_import"
   ]
  },
  {
   "cell_type": "markdown",
   "id": "b43ca741",
   "metadata": {},
   "source": [
    "**dynamic_system** function defines the dynamic system of ordinary differential equations (ODEs) that describe the time evolution of the system. Inside the function, the model's bounds are adjusted dynamically using add_dynamic_bounds. Linear programming feasibility constraints are added to the model, and lexicographic constraints for specific fluxes are established. The function returns the calculated fluxes based on the lexicographic constraints and the biomass."
   ]
  },
  {
   "cell_type": "code",
   "execution_count": 4,
   "id": "4bb301a8",
   "metadata": {},
   "outputs": [],
   "source": [
    "def dynamic_system(t, y):\n",
    "    biomass, glucose, mqn7 = y\n",
    "    \n",
    "    # Create a context manager to ensure changes to the model are reverted after the block\n",
    "    with model:\n",
    "        # Update dynamic bounds based on the current state\n",
    "        add_dynamic_bounds(model, y)\n",
    "        \n",
    "        # Add linear programming feasibility constraints to the model\n",
    "        cobra.util.add_lp_feasibility(model)\n",
    "        \n",
    "        # Fix the objective as a constraint\n",
    "        feasibility = cobra.util.fix_objective_as_constraint(model)\n",
    "        \n",
    "        # Add lexicographic constraints for fluxes\n",
    "        lex_constraints = cobra.util.add_lexicographic_constraints(model, \n",
    "                                                                   ['BIOMASS_LLA', 'EX_glc__D_e', 'DM_mqn7_c'], \n",
    "                                                                   ['max', 'max', 'max'])\n",
    "\n",
    "    # Calculate fluxes based on the lexicographic constraints and biomass\n",
    "    fluxes = lex_constraints.values\n",
    "    fluxes *= biomass\n",
    "    \n",
    "    if dynamic_system.pbar is not None:\n",
    "        dynamic_system.pbar.update(1)\n",
    "        dynamic_system.pbar.set_description('t = {:.3f}'.format(t))\n",
    "\n",
    "\n",
    "    return fluxes\n",
    "\n",
    "dynamic_system.pbar = None"
   ]
  },
  {
   "cell_type": "markdown",
   "id": "697b7e5c",
   "metadata": {},
   "source": [
    "**infeasible_event** function sets up an event that triggers when the system becomes infeasible, based on the feasibility of the linear programming constraints. It prints the feasibility status during the event. The event is terminal, meaning it will stop the integration when triggered."
   ]
  },
  {
   "cell_type": "code",
   "execution_count": 5,
   "id": "b55be4ba",
   "metadata": {},
   "outputs": [],
   "source": [
    "def infeasible_event(t, y):\n",
    "    with model:\n",
    "        # Update dynamic bounds based on the current state\n",
    "        add_dynamic_bounds(model, y)\n",
    "        \n",
    "        # Add linear programming feasibility constraints to the model\n",
    "        cobra.util.add_lp_feasibility(model)\n",
    "        \n",
    "        # Fix the objective as a constraint\n",
    "        feasibility = cobra.util.fix_objective_as_constraint(model)\n",
    "        print(\"Feasibility:\", feasibility)\n",
    "\n",
    "    # Set the event condition based on feasibility\n",
    "    return feasibility - infeasible_event.epsilon\n",
    "\n",
    "# Set additional properties for the infeasible event function\n",
    "infeasible_event.epsilon = 1E-6\n",
    "infeasible_event.direction = 1\n",
    "infeasible_event.terminal = True"
   ]
  },
  {
   "cell_type": "markdown",
   "id": "1fc32d9d",
   "metadata": {},
   "source": [
    "In the next code chunk, a dynamic flux balance analysis (dFBA) simulation is set up and performed. The ts variable defines the desired time points for integration, ranging from 0 to 4 minutes, with a resolution of 100 time points. Initial concentrations for the system are specified with y0, representing 0.1 g/L biomass, 10 g/L glucose, and 0 g/L mqn7. \n",
    "\n",
    "The tqdm library is employed to create a progress bar, enhancing the visualization of the integration progress. \n",
    "The solve_ivp function from SciPy is then utilized to numerically integrate the dynamic system of equations (dynamic_system). The integration is conducted over the defined time span, with initial conditions provided by y0. \n",
    "\n",
    "The results are stored at the specified time points (t_eval), and the integration uses the BDF (backward differentiation formula) method, suitable for stiff problems. Additionally, an infeasible event (infeasible_event) is employed to detect and handle infeasible states during the simulation."
   ]
  },
  {
   "cell_type": "code",
   "execution_count": 6,
   "id": "8e6b3f02",
   "metadata": {},
   "outputs": [
    {
     "name": "stderr",
     "output_type": "stream",
     "text": [
      "t = 0.000: : 8it [00:08,  1.09s/it]"
     ]
    },
    {
     "name": "stdout",
     "output_type": "stream",
     "text": [
      "Feasibility: 1.9312489478433323e-17\n"
     ]
    },
    {
     "name": "stderr",
     "output_type": "stream",
     "text": [
      "t = 0.000: : 10it [00:12,  1.31s/it]"
     ]
    },
    {
     "name": "stdout",
     "output_type": "stream",
     "text": [
      "Feasibility: 1.9312489478433323e-17\n"
     ]
    },
    {
     "name": "stderr",
     "output_type": "stream",
     "text": [
      "t = 0.001: : 12it [00:15,  1.43s/it]"
     ]
    },
    {
     "name": "stdout",
     "output_type": "stream",
     "text": [
      "Feasibility: 1.9312489478433323e-17\n"
     ]
    },
    {
     "name": "stderr",
     "output_type": "stream",
     "text": [
      "t = 0.005: : 14it [00:18,  1.40s/it]"
     ]
    },
    {
     "name": "stdout",
     "output_type": "stream",
     "text": [
      "Feasibility: 1.9312489478433323e-17\n"
     ]
    },
    {
     "name": "stderr",
     "output_type": "stream",
     "text": [
      "t = 0.009: : 16it [00:21,  1.43s/it]"
     ]
    },
    {
     "name": "stdout",
     "output_type": "stream",
     "text": [
      "Feasibility: 1.9312489478433323e-17\n"
     ]
    },
    {
     "name": "stderr",
     "output_type": "stream",
     "text": [
      "t = 0.037: : 18it [00:24,  1.44s/it]"
     ]
    },
    {
     "name": "stdout",
     "output_type": "stream",
     "text": [
      "Feasibility: 1.9312489478433323e-17\n"
     ]
    },
    {
     "name": "stderr",
     "output_type": "stream",
     "text": [
      "t = 0.064: : 20it [00:27,  1.46s/it]"
     ]
    },
    {
     "name": "stdout",
     "output_type": "stream",
     "text": [
      "Feasibility: 1.9312489478433323e-17\n"
     ]
    },
    {
     "name": "stderr",
     "output_type": "stream",
     "text": [
      "t = 0.091: : 22it [00:30,  1.41s/it]"
     ]
    },
    {
     "name": "stdout",
     "output_type": "stream",
     "text": [
      "Feasibility: 1.9312489478433323e-17\n"
     ]
    },
    {
     "name": "stderr",
     "output_type": "stream",
     "text": [
      "t = 0.193: : 24it [00:33,  1.43s/it]"
     ]
    },
    {
     "name": "stdout",
     "output_type": "stream",
     "text": [
      "Feasibility: 1.9312489478433323e-17\n"
     ]
    },
    {
     "name": "stderr",
     "output_type": "stream",
     "text": [
      "t = 0.294: : 26it [00:36,  1.42s/it]"
     ]
    },
    {
     "name": "stdout",
     "output_type": "stream",
     "text": [
      "Feasibility: 1.9312489478433323e-17\n"
     ]
    },
    {
     "name": "stderr",
     "output_type": "stream",
     "text": [
      "t = 0.396: : 28it [00:39,  1.45s/it]"
     ]
    },
    {
     "name": "stdout",
     "output_type": "stream",
     "text": [
      "Feasibility: 1.9312489478433323e-17\n"
     ]
    },
    {
     "name": "stderr",
     "output_type": "stream",
     "text": [
      "t = 0.729: : 30it [00:42,  1.44s/it]"
     ]
    },
    {
     "name": "stdout",
     "output_type": "stream",
     "text": [
      "Feasibility: 1.9312489478433323e-17\n"
     ]
    },
    {
     "name": "stderr",
     "output_type": "stream",
     "text": [
      "t = 1.063: : 32it [00:45,  1.46s/it]"
     ]
    },
    {
     "name": "stdout",
     "output_type": "stream",
     "text": [
      "Feasibility: 1.9312489478433323e-17\n"
     ]
    },
    {
     "name": "stderr",
     "output_type": "stream",
     "text": [
      "t = 1.397: : 34it [00:48,  1.42s/it]"
     ]
    },
    {
     "name": "stdout",
     "output_type": "stream",
     "text": [
      "Feasibility: 1.9312489478433323e-17\n"
     ]
    },
    {
     "name": "stderr",
     "output_type": "stream",
     "text": [
      "t = 1.730: : 36it [00:52,  1.45s/it]"
     ]
    },
    {
     "name": "stdout",
     "output_type": "stream",
     "text": [
      "Feasibility: 1.9312489478433323e-17\n"
     ]
    },
    {
     "name": "stderr",
     "output_type": "stream",
     "text": [
      "t = 2.571: : 38it [00:54,  1.42s/it]"
     ]
    },
    {
     "name": "stdout",
     "output_type": "stream",
     "text": [
      "Feasibility: 1.9312489478433323e-17\n"
     ]
    },
    {
     "name": "stderr",
     "output_type": "stream",
     "text": [
      "t = 3.412: : 40it [00:58,  1.48s/it]"
     ]
    },
    {
     "name": "stdout",
     "output_type": "stream",
     "text": [
      "Feasibility: 1.9312489478433323e-17\n"
     ]
    },
    {
     "name": "stderr",
     "output_type": "stream",
     "text": [
      "t = 4.000: : 42it [01:01,  1.44s/it]"
     ]
    },
    {
     "name": "stdout",
     "output_type": "stream",
     "text": [
      "Feasibility: 1.9312489478433323e-17\n"
     ]
    },
    {
     "name": "stderr",
     "output_type": "stream",
     "text": [
      "t = 4.000: : 42it [01:02,  1.48s/it]\n"
     ]
    }
   ],
   "source": [
    "# Desired integration time points and resolution\n",
    "ts = np.linspace(0, 4, 100)  # Integration over a time span of 0 to 4 minutes with 100 time points\n",
    "\n",
    "# Initial concentrations: 0.1 g/L biomass, 10 g/L glucose, 0 g/L mqn7\n",
    "y0 = [0.1, 10, 0]\n",
    "\n",
    "# Perform numerical integration using solve_ivp\n",
    "with tqdm() as pbar:\n",
    "    dynamic_system.pbar = pbar\n",
    "    sol = solve_ivp(\n",
    "        fun=dynamic_system,          # System of differential equations\n",
    "        events=[infeasible_event],    # Event function to detect infeasibility\n",
    "        t_span=(ts.min(), ts.max()),  # Time span for integration\n",
    "        y0=y0,                        # Initial conditions\n",
    "        t_eval=ts,                    # Time points for which to store the results\n",
    "        rtol=1e-6,                    # Relative tolerance for integration\n",
    "        atol=1e-8,                    # Absolute tolerance for integration\n",
    "        method='BDF'                  # Use the BDF method for stiff problems\n",
    "        )"
   ]
  },
  {
   "cell_type": "markdown",
   "id": "b4b5830e",
   "metadata": {},
   "source": [
    "The feasibility is very close to zero, suggesting that the linear programming problem is practically feasible. However, keep in mind that due to numerical precision, a value close to zero may not be exactly zero, and it's often treated as feasible within a certain tolerance level (in this case, 1e-15)."
   ]
  },
  {
   "cell_type": "markdown",
   "id": "69a58836",
   "metadata": {},
   "source": [
    "## Biomass and Glucose concentrations relation"
   ]
  },
  {
   "cell_type": "markdown",
   "id": "c64b6b64",
   "metadata": {},
   "source": [
    "The current plot displays Biomass (primary y-axis, blue line) and Glucose (secondary y-axis, red line) over time. The initial concentration of Biomass is 0.1 g/L, and Glucose is 10 g/L. \n",
    "The inverse proportion is consistent with the typical behavior observed in microbial growth, as the growth rate is often influenced by the availability of a carbon source, such as glucose."
   ]
  },
  {
   "cell_type": "code",
   "execution_count": 7,
   "id": "13652049",
   "metadata": {},
   "outputs": [
    {
     "data": {
      "image/png": "[encoded data removed]",
      "text/plain": [
       "<Figure size 640x480 with 2 Axes>"
      ]
     },
     "metadata": {},
     "output_type": "display_data"
    }
   ],
   "source": [
    "# Create a subplot with a single axis\n",
    "ax = plt.subplot(111)\n",
    "\n",
    "# Plot the first variable (Biomass) on the primary y-axis\n",
    "ax.plot(sol.t, sol.y.T[:, 0], label='Biomass', color='b')\n",
    "\n",
    "# Create a twin axis sharing the xaxis with the primary axis\n",
    "ax2 = plt.twinx(ax)\n",
    "\n",
    "# Plot the second variable (Glucose) on the secondary y-axis in red\n",
    "ax2.plot(sol.t, sol.y.T[:, 1], label='Glucose', color='r')\n",
    "\n",
    "# Set y-axis labels for each variable\n",
    "ax.set_ylabel('Biomass', color='b')\n",
    "ax2.set_ylabel('Glucose', color='r')\n",
    "\n",
    "# Display the legend for better interpretation of the plot\n",
    "ax.legend(loc='upper left')\n",
    "ax2.legend(loc='upper right')\n",
    "\n",
    "# Set the title of the plot\n",
    "plt.title('Batch Cultivation with Glucose')\n",
    "\n",
    "# Display the plot\n",
    "plt.show()"
   ]
  },
  {
   "cell_type": "markdown",
   "id": "86fdc332",
   "metadata": {},
   "source": [
    "## Biomass and MQN7 concentrations relation"
   ]
  },
  {
   "cell_type": "markdown",
   "id": "535c2764",
   "metadata": {},
   "source": [
    "The second plot depicts Biomass (primary y-axis, blue line) and mqn7 (secondary y-axis, green line) over time. The initial concentration of Biomass is 0.1 g/L, and mqn7 is initially at 0 g/L. Similar to the first plot, Biomass increases over time, and mqn7 also shows a gradual rise, indicating its production within the system. Feasibility checks confirm the system's viability. The decision to create two separate plots was done because of the lines being merged together. \n",
    "\n",
    "Three reasons for having biomass and mqn7 concentrations being directly proportional were identified:\n",
    "\n",
    "<p>\n",
    "1. <b> mqn7 as a metabolic cofactor </b>: the molecule might act as a cofactor or signaling molecule in metabolic pathways crucial for cell growth. Its presence could enhance or regulate key reactions that contribute to biomass synthesis. For example, it might modulate the activity of enzymes involved in these pathways, influencing the production of essential amino acids\n",
    "</p>\n",
    "\n",
    "<p>\n",
    "2. <b> mqn7 role in the energy metabolism </b> if the production or utilization of mqn7 is linked to energy generation, this could influence the growth rate and biomass accumulation. For example, if the vitamin is involved in the electron transport chain or redox reactions within the cell.\n",
    "</p>\n",
    "\n",
    "<p>\n",
    "3. <b> mqn7 as an intermediate metabolite </b>: mqn7 may serve as an intermediate metabolite in a pathway directly or indirectly linked to biomass production. Its availability or concentration could impact the overall efficiency of biomass synthesis. For example, mqn7 could be involved in the synthesis of precursors for fatty acid. So, it will affect the availability of \"building blocks\" by being an intermediate molecule.\n",
    "</p>"
   ]
  },
  {
   "cell_type": "code",
   "execution_count": 8,
   "id": "598c12fb",
   "metadata": {},
   "outputs": [
    {
     "data": {
      "image/png": "[encoded data removed]",
      "text/plain": [
       "<Figure size 640x480 with 1 Axes>"
      ]
     },
     "metadata": {},
     "output_type": "display_data"
    },
    {
     "data": {
      "image/png": "[encoded data removed]",
      "text/plain": [
       "<Figure size 640x480 with 1 Axes>"
      ]
     },
     "metadata": {},
     "output_type": "display_data"
    }
   ],
   "source": [
    "# Create a subplot for Biomass\n",
    "fig, ax1 = plt.subplots()\n",
    "\n",
    "# Plot the first variable (Biomass) on the primary y-axis\n",
    "ax1.plot(sol.t, sol.y.T[:, 0], label='Biomass', color='b')\n",
    "\n",
    "# Set y-axis label for Biomass\n",
    "ax1.set_ylabel('Biomass', color='b')\n",
    "\n",
    "# Display the legend for better interpretation of the plot\n",
    "ax1.legend(loc='upper left')\n",
    "\n",
    "# Create a subplot for mqn7\n",
    "fig, ax2 = plt.subplots()\n",
    "\n",
    "# Plot the third variable (mqn7) on the primary y-axis in green\n",
    "ax2.plot(sol.t, sol.y.T[:, 2], label='mqn7', color='g')\n",
    "\n",
    "# Set y-axis label for mqn7\n",
    "ax2.set_ylabel('mqn7', color='g')\n",
    "\n",
    "# Display the legend for better interpretation of the plot\n",
    "ax2.legend(loc='upper right')\n",
    "\n",
    "# Set the title of the plot\n",
    "plt.suptitle('Dynamic System Simulation')\n",
    "\n",
    "# Display the plots\n",
    "plt.show()"
   ]
  },
  {
   "cell_type": "markdown",
   "id": "ff3fda9b",
   "metadata": {},
   "source": [
    "## Adjusting the functions for the sucrose"
   ]
  },
  {
   "cell_type": "code",
   "execution_count": 9,
   "id": "f7b2679d",
   "metadata": {},
   "outputs": [],
   "source": [
    "model = add_sucrose(model)\n",
    "\n",
    "def add_dynamic_bounds_sucrose(model, y):\n",
    "    biomass, sucrose, mqn7 = y  \n",
    "    sucrose_max_import = -10 * sucrose / (5 + sucrose)\n",
    "    model.reactions.EX_sucr_e.lower_bound = sucrose_max_import\n",
    "\n",
    "\n",
    "def dynamic_system_sucrose(t, y):\n",
    "    biomass, sucrose, mqn7 = y \n",
    "    with model:\n",
    "        add_dynamic_bounds_sucrose(model, y)\n",
    "\n",
    "        cobra.util.add_lp_feasibility(model)\n",
    "        feasibility = cobra.util.fix_objective_as_constraint(model)\n",
    "        lex_constraints = cobra.util.add_lexicographic_constraints(\n",
    "            model, ['BIOMASS_LLA', 'EX_sucr_e', 'DM_mqn7_c'], ['max', 'max', 'max'])\n",
    "\n",
    "    fluxes = lex_constraints.values\n",
    "    fluxes *= biomass\n",
    "\n",
    "    if dynamic_system_sucrose.pbar is not None:\n",
    "        dynamic_system_sucrose.pbar.update(1)\n",
    "        dynamic_system_sucrose.pbar.set_description('t = {:.3f}'.format(t))\n",
    "\n",
    "    return fluxes\n",
    "\n",
    "dynamic_system_sucrose.pbar = None\n",
    "\n",
    "\n",
    "def infeasible_event_sucrose(t, y):\n",
    "\n",
    "    with model:\n",
    "\n",
    "        add_dynamic_bounds_sucrose(model, y)\n",
    "\n",
    "        cobra.util.add_lp_feasibility(model)\n",
    "        feasibility = cobra.util.fix_objective_as_constraint(model)\n",
    "        print(\"Feasibility:\", feasibility)\n",
    "\n",
    "    return feasibility - infeasible_event_sucrose.epsilon\n",
    "\n",
    "infeasible_event_sucrose.epsilon = 1E-6\n",
    "infeasible_event_sucrose.direction = 1\n",
    "infeasible_event_sucrose.terminal = True"
   ]
  },
  {
   "cell_type": "code",
   "execution_count": 10,
   "id": "84f616f1",
   "metadata": {},
   "outputs": [
    {
     "name": "stderr",
     "output_type": "stream",
     "text": [
      "t = 0.000: : 8it [00:08,  1.01s/it]"
     ]
    },
    {
     "name": "stdout",
     "output_type": "stream",
     "text": [
      "Feasibility: -1.8368608763010705e-15\n"
     ]
    },
    {
     "name": "stderr",
     "output_type": "stream",
     "text": [
      "t = 0.000: : 10it [00:11,  1.22s/it]"
     ]
    },
    {
     "name": "stdout",
     "output_type": "stream",
     "text": [
      "Feasibility: -1.8368608763010705e-15\n"
     ]
    },
    {
     "name": "stderr",
     "output_type": "stream",
     "text": [
      "t = 0.000: : 12it [00:14,  1.39s/it]"
     ]
    },
    {
     "name": "stdout",
     "output_type": "stream",
     "text": [
      "Feasibility: -1.8368608763010705e-15\n"
     ]
    },
    {
     "name": "stderr",
     "output_type": "stream",
     "text": [
      "t = 0.000: : 14it [00:17,  1.39s/it]"
     ]
    },
    {
     "name": "stdout",
     "output_type": "stream",
     "text": [
      "Feasibility: -1.8368608763010705e-15\n"
     ]
    },
    {
     "name": "stderr",
     "output_type": "stream",
     "text": [
      "t = 0.000: : 16it [00:20,  1.41s/it]"
     ]
    },
    {
     "name": "stdout",
     "output_type": "stream",
     "text": [
      "Feasibility: -1.8368608763010705e-15\n"
     ]
    },
    {
     "name": "stderr",
     "output_type": "stream",
     "text": [
      "t = 0.001: : 18it [00:23,  1.49s/it]"
     ]
    },
    {
     "name": "stdout",
     "output_type": "stream",
     "text": [
      "Feasibility: -1.8368608763010705e-15\n"
     ]
    },
    {
     "name": "stderr",
     "output_type": "stream",
     "text": [
      "t = 0.002: : 20it [00:26,  1.44s/it]"
     ]
    },
    {
     "name": "stdout",
     "output_type": "stream",
     "text": [
      "Feasibility: -1.8368608763010705e-15\n"
     ]
    },
    {
     "name": "stderr",
     "output_type": "stream",
     "text": [
      "t = 0.003: : 22it [00:29,  1.42s/it]"
     ]
    },
    {
     "name": "stdout",
     "output_type": "stream",
     "text": [
      "Feasibility: -1.8368608763010705e-15\n"
     ]
    },
    {
     "name": "stderr",
     "output_type": "stream",
     "text": [
      "t = 0.006: : 24it [00:33,  1.53s/it]"
     ]
    },
    {
     "name": "stdout",
     "output_type": "stream",
     "text": [
      "Feasibility: -1.8368608763010705e-15\n"
     ]
    },
    {
     "name": "stderr",
     "output_type": "stream",
     "text": [
      "t = 0.010: : 26it [00:36,  1.46s/it]"
     ]
    },
    {
     "name": "stdout",
     "output_type": "stream",
     "text": [
      "Feasibility: -1.8368608763010705e-15\n"
     ]
    },
    {
     "name": "stderr",
     "output_type": "stream",
     "text": [
      "t = 0.013: : 28it [00:39,  1.43s/it]"
     ]
    },
    {
     "name": "stdout",
     "output_type": "stream",
     "text": [
      "Feasibility: -1.8368608763010705e-15\n"
     ]
    },
    {
     "name": "stderr",
     "output_type": "stream",
     "text": [
      "t = 0.032: : 30it [00:42,  1.41s/it]"
     ]
    },
    {
     "name": "stdout",
     "output_type": "stream",
     "text": [
      "Feasibility: -1.8368608763010705e-15\n"
     ]
    },
    {
     "name": "stderr",
     "output_type": "stream",
     "text": [
      "t = 0.050: : 32it [00:45,  1.51s/it]"
     ]
    },
    {
     "name": "stdout",
     "output_type": "stream",
     "text": [
      "Feasibility: -1.8368608763010705e-15\n"
     ]
    },
    {
     "name": "stderr",
     "output_type": "stream",
     "text": [
      "t = 0.069: : 34it [00:48,  1.45s/it]"
     ]
    },
    {
     "name": "stdout",
     "output_type": "stream",
     "text": [
      "Feasibility: -1.8368608763010705e-15\n"
     ]
    },
    {
     "name": "stderr",
     "output_type": "stream",
     "text": [
      "t = 0.119: : 36it [00:51,  1.42s/it]"
     ]
    },
    {
     "name": "stdout",
     "output_type": "stream",
     "text": [
      "Feasibility: -1.8368608763010705e-15\n"
     ]
    },
    {
     "name": "stderr",
     "output_type": "stream",
     "text": [
      "t = 0.169: : 38it [00:54,  1.40s/it]"
     ]
    },
    {
     "name": "stdout",
     "output_type": "stream",
     "text": [
      "Feasibility: -1.8368608763010705e-15\n"
     ]
    },
    {
     "name": "stderr",
     "output_type": "stream",
     "text": [
      "t = 0.220: : 40it [00:58,  1.58s/it]"
     ]
    },
    {
     "name": "stdout",
     "output_type": "stream",
     "text": [
      "Feasibility: -1.8368608763010705e-15\n"
     ]
    },
    {
     "name": "stderr",
     "output_type": "stream",
     "text": [
      "t = 0.270: : 42it [01:00,  1.49s/it]"
     ]
    },
    {
     "name": "stdout",
     "output_type": "stream",
     "text": [
      "Feasibility: -1.8368608763010705e-15\n"
     ]
    },
    {
     "name": "stderr",
     "output_type": "stream",
     "text": [
      "t = 0.515: : 44it [01:03,  1.45s/it]"
     ]
    },
    {
     "name": "stdout",
     "output_type": "stream",
     "text": [
      "Feasibility: -1.8368608763010705e-15\n"
     ]
    },
    {
     "name": "stderr",
     "output_type": "stream",
     "text": [
      "t = 0.760: : 46it [01:07,  1.47s/it]"
     ]
    },
    {
     "name": "stdout",
     "output_type": "stream",
     "text": [
      "Feasibility: -1.8368608763010705e-15\n"
     ]
    },
    {
     "name": "stderr",
     "output_type": "stream",
     "text": [
      "t = 1.005: : 48it [01:10,  1.53s/it]"
     ]
    },
    {
     "name": "stdout",
     "output_type": "stream",
     "text": [
      "Feasibility: -1.8368608763010705e-15\n"
     ]
    },
    {
     "name": "stderr",
     "output_type": "stream",
     "text": [
      "t = 1.251: : 50it [01:15,  1.83s/it]"
     ]
    },
    {
     "name": "stdout",
     "output_type": "stream",
     "text": [
      "Feasibility: -1.8368608763010705e-15\n"
     ]
    },
    {
     "name": "stderr",
     "output_type": "stream",
     "text": [
      "t = 1.648: : 52it [01:18,  1.64s/it]"
     ]
    },
    {
     "name": "stdout",
     "output_type": "stream",
     "text": [
      "Feasibility: -1.8368608763010705e-15\n"
     ]
    },
    {
     "name": "stderr",
     "output_type": "stream",
     "text": [
      "t = 2.045: : 54it [01:21,  1.53s/it]"
     ]
    },
    {
     "name": "stdout",
     "output_type": "stream",
     "text": [
      "Feasibility: -1.8368608763010705e-15\n"
     ]
    },
    {
     "name": "stderr",
     "output_type": "stream",
     "text": [
      "t = 2.442: : 56it [01:24,  1.49s/it]"
     ]
    },
    {
     "name": "stdout",
     "output_type": "stream",
     "text": [
      "Feasibility: -1.8368608763010705e-15\n"
     ]
    },
    {
     "name": "stderr",
     "output_type": "stream",
     "text": [
      "t = 2.839: : 58it [01:27,  1.49s/it]"
     ]
    },
    {
     "name": "stdout",
     "output_type": "stream",
     "text": [
      "Feasibility: -1.8368608763010705e-15\n"
     ]
    },
    {
     "name": "stderr",
     "output_type": "stream",
     "text": [
      "t = 3.236: : 60it [01:31,  1.71s/it]"
     ]
    },
    {
     "name": "stdout",
     "output_type": "stream",
     "text": [
      "Feasibility: -1.8368608763010705e-15\n"
     ]
    },
    {
     "name": "stderr",
     "output_type": "stream",
     "text": [
      "t = 3.942: : 62it [01:34,  1.63s/it]"
     ]
    },
    {
     "name": "stdout",
     "output_type": "stream",
     "text": [
      "Feasibility: -1.8368608763010705e-15\n"
     ]
    },
    {
     "name": "stderr",
     "output_type": "stream",
     "text": [
      "t = 4.000: : 64it [01:38,  1.56s/it]"
     ]
    },
    {
     "name": "stdout",
     "output_type": "stream",
     "text": [
      "Feasibility: -1.8368608763010705e-15\n"
     ]
    },
    {
     "name": "stderr",
     "output_type": "stream",
     "text": [
      "t = 4.000: : 64it [01:39,  1.55s/it]\n"
     ]
    }
   ],
   "source": [
    "ts = np.linspace(0, 4, 100)  # Integration over a time span of 0 to 4 minutes with 100 time points\n",
    "\n",
    "# Initial concentrations: 0.1 g/L biomass, 10 g/L glucose, 0 g/L mqn7\n",
    "y0 = [0.1, 10, 0]\n",
    "\n",
    "# Perform numerical integration using solve_ivp\n",
    "with tqdm() as pbar:\n",
    "    dynamic_system.pbar = pbar\n",
    "    sol = solve_ivp(\n",
    "        fun=dynamic_system,          # System of differential equations\n",
    "        events=[infeasible_event],    # Event function to detect infeasibility\n",
    "        t_span=(ts.min(), ts.max()),  # Time span for integration\n",
    "        y0=y0,                        # Initial conditions\n",
    "        t_eval=ts,                    # Time points for which to store the results\n",
    "        rtol=1e-6,                    # Relative tolerance for integration\n",
    "        atol=1e-8,                    # Absolute tolerance for integration\n",
    "        method='BDF'                  # Use the BDF method for stiff problems\n",
    "        )"
   ]
  },
  {
   "cell_type": "code",
   "execution_count": 11,
   "id": "7cd86cc5",
   "metadata": {},
   "outputs": [
    {
     "data": {
      "text/plain": [
       "Text(0, 0.5, 'Sucrose')"
      ]
     },
     "execution_count": 11,
     "metadata": {},
     "output_type": "execute_result"
    },
    {
     "data": {
      "image/png": "[encoded data removed]",
      "text/plain": [
       "<Figure size 640x480 with 2 Axes>"
      ]
     },
     "metadata": {},
     "output_type": "display_data"
    }
   ],
   "source": [
    "ax = plt.subplot(111)\n",
    "ax.plot(sol.t, sol.y.T[:, 0])\n",
    "ax2 = plt.twinx(ax)\n",
    "ax2.plot(sol.t, sol.y.T[:, 1], color='r')\n",
    "\n",
    "plt.title('Batch Cultivation with Sucrose')\n",
    "ax.set_ylabel('Biomass', color='b')\n",
    "ax2.set_ylabel('Sucrose', color='r')"
   ]
  },
  {
   "cell_type": "code",
   "execution_count": 12,
   "id": "1f52b8ea",
   "metadata": {},
   "outputs": [
    {
     "data": {
      "text/plain": [
       "Text(0, 0.5, 'Sucrose')"
      ]
     },
     "execution_count": 12,
     "metadata": {},
     "output_type": "execute_result"
    },
    {
     "data": {
      "image/png": "[encoded data removed]",
      "text/plain": [
       "<Figure size 640x480 with 2 Axes>"
      ]
     },
     "metadata": {},
     "output_type": "display_data"
    }
   ],
   "source": [
    "ax = plt.subplot(111)\n",
    "ax.plot(sol.t, sol.y.T[:, 2], color='b')\n",
    "\n",
    "ax2 = plt.twinx(ax)\n",
    "ax2.plot(sol.t, sol.y.T[:, 1], color='r')\n",
    "\n",
    "plt.title('Dynamic System Simulation with Sucrose, MK-7 Production')\n",
    "ax.set_ylabel('mqn7', color='b')\n",
    "ax2.set_ylabel('Sucrose', color='r')"
   ]
  }
 ],
 "metadata": {
  "kernelspec": {
   "display_name": "Python 3.7",
   "language": "python",
   "name": "myenv"
  },
  "language_info": {
   "codemirror_mode": {
    "name": "ipython",
    "version": 3
   },
   "file_extension": ".py",
   "mimetype": "text/x-python",
   "name": "python",
   "nbconvert_exporter": "python",
   "pygments_lexer": "ipython3",
   "version": "3.7.9"
  }
 },
 "nbformat": 4,
 "nbformat_minor": 5
}
