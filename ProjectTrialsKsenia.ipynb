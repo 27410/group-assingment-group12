{
 "cells": [
  {
   "cell_type": "code",
   "execution_count": 2,
   "id": "16ca2b52",
   "metadata": {
    "tags": []
   },
   "outputs": [
    {
     "name": "stderr",
     "output_type": "stream",
     "text": [
      "/var/folders/__/51nntbcd363626dtly5tl0r00000gn/T/ipykernel_59010/767406085.py:3: MatplotlibDeprecationWarning: The seaborn styles shipped by Matplotlib are deprecated since 3.6, as they no longer correspond to the styles shipped by seaborn. However, they will remain available as 'seaborn-v0_8-<style>'. Alternatively, directly use the seaborn API instead.\n",
      "  plt.style.use('seaborn')\n"
     ]
    }
   ],
   "source": [
    "import pandas as pd\n",
    "import matplotlib.pyplot as plt\n",
    "plt.style.use('seaborn')\n",
    "%matplotlib inline"
   ]
  },
  {
   "cell_type": "code",
   "execution_count": 294,
   "id": "1615c274",
   "metadata": {
    "tags": []
   },
   "outputs": [],
   "source": [
    "from cobra.io import read_sbml_model\n",
    "model = read_sbml_model('iNF517.xml')\n",
    "medium = model.medium\n",
    "model.medium = medium"
   ]
  },
  {
   "cell_type": "code",
   "execution_count": 3,
   "id": "74769d78",
   "metadata": {},
   "outputs": [
    {
     "data": {
      "text/plain": [
       "650"
      ]
     },
     "execution_count": 3,
     "metadata": {},
     "output_type": "execute_result"
    }
   ],
   "source": [
    "len(model.metabolites)"
   ]
  },
  {
   "cell_type": "code",
   "execution_count": 214,
   "id": "f2abb8e5",
   "metadata": {
    "tags": []
   },
   "outputs": [
    {
     "data": {
      "text/html": [
       "\n",
       "        <table>\n",
       "            <tr>\n",
       "                <td><strong>Metabolite identifier</strong></td><td>mqn7_c</td>\n",
       "            </tr><tr>\n",
       "                <td><strong>Name</strong></td><td>Menaquinone 7 C46H64O2</td>\n",
       "            </tr><tr>\n",
       "                <td><strong>Memory address</strong></td>\n",
       "                <td>0x1647104d0</td>\n",
       "            </tr><tr>\n",
       "                <td><strong>Formula</strong></td><td>C46H64O2</td>\n",
       "            </tr><tr>\n",
       "                <td><strong>Compartment</strong></td><td>c</td>\n",
       "            </tr><tr>\n",
       "                <td><strong>In 3 reaction(s)</strong></td><td>\n",
       "                    CYTB_B2, NADH4, G3PD4\n",
       "                    </td>\n",
       "            </tr>\n",
       "        </table>"
      ],
      "text/plain": [
       "<Metabolite mqn7_c at 0x1647104d0>"
      ]
     },
     "execution_count": 214,
     "metadata": {},
     "output_type": "execute_result"
    }
   ],
   "source": [
    "# target metabolite\n",
    "model.metabolites.mqn7_c"
   ]
  },
  {
   "cell_type": "markdown",
   "id": "fe1cd4fb-a719-4ab8-a715-6ba2d6d1b4b5",
   "metadata": {},
   "source": [
    "Starting from the end, the reaction where mqn7_c present, I was checking the steps up towards the reactions that I'm checking below the part with mqn. These reactions end with dhna_c."
   ]
  },
  {
   "cell_type": "code",
   "execution_count": 215,
   "id": "e42384c2-bacd-4b46-83e9-575829c8931e",
   "metadata": {
    "tags": []
   },
   "outputs": [
    {
     "name": "stdout",
     "output_type": "stream",
     "text": [
      "CYTB_B2: 2.0 h_c + mql7_c + 0.5 o2_c --> h2o_c + 2.0 h_e + mqn7_c Menaquinol oxidase  71 protons\n",
      "NADH4: h_c + mqn7_c + nadh_c --> mql7_c + nad_c NADH dehydrogenase  Menaquinone 7  no proton\n",
      "G3PD4: glyc3p_c + mqn7_c --> dhap_c + mql7_c Glycerol 3 phosphate dehydrogenase  menaquinone 7\n"
     ]
    }
   ],
   "source": [
    "# CYTB_B2: 2.0 h_c + mql7_c + 0.5 o2_c --> h2o_c + 2.0 h_e + mqn7_c Menaquinol oxidase  71 protons\n",
    "for reaction in model.metabolites.mqn7_c.reactions:\n",
    "    print(reaction, reaction.name)"
   ]
  },
  {
   "cell_type": "code",
   "execution_count": 216,
   "id": "d135da5f-4934-4465-ae63-a1fbfe5117c6",
   "metadata": {
    "tags": []
   },
   "outputs": [
    {
     "data": {
      "text/plain": [
       "(0.0, 0.0)"
      ]
     },
     "execution_count": 216,
     "metadata": {},
     "output_type": "execute_result"
    }
   ],
   "source": [
    "model.reactions.CYTB_B2.bounds"
   ]
  },
  {
   "cell_type": "code",
   "execution_count": 234,
   "id": "8a678257-9d3a-4e5c-9e10-47ebf5633a4e",
   "metadata": {
    "tags": []
   },
   "outputs": [
    {
     "data": {
      "text/plain": [
       "(0, 1000)"
      ]
     },
     "execution_count": 234,
     "metadata": {},
     "output_type": "execute_result"
    }
   ],
   "source": [
    "reaction_name = \"CYTB_B2\"\n",
    "reaction = model.reactions.get_by_id(reaction_name)\n",
    "new_lower_bound = 0\n",
    "new_upper_bound = 1000\n",
    "reaction.lower_bound = new_lower_bound\n",
    "reaction.upper_bound = new_upper_bound\n",
    "reaction.bounds"
   ]
  },
  {
   "cell_type": "code",
   "execution_count": 235,
   "id": "0b32e2a0-d95e-4c62-a3b0-90284fe3c237",
   "metadata": {
    "tags": []
   },
   "outputs": [
    {
     "name": "stdout",
     "output_type": "stream",
     "text": [
      "G3PD4: glyc3p_c + mqn7_c --> dhap_c + mql7_c Glycerol 3 phosphate dehydrogenase  menaquinone 7\n",
      "CYTB_B2: 2.0 h_c + mql7_c + 0.5 o2_c --> h2o_c + 2.0 h_e + mqn7_c Menaquinol oxidase  71 protons\n",
      "NADH4: h_c + mqn7_c + nadh_c --> mql7_c + nad_c NADH dehydrogenase  Menaquinone 7  no proton\n"
     ]
    }
   ],
   "source": [
    "for reaction in model.metabolites.mql7_c.reactions:\n",
    "    print(reaction, reaction.name)"
   ]
  },
  {
   "cell_type": "code",
   "execution_count": 283,
   "id": "17bca261-0e7f-4f36-9426-424d6844fafc",
   "metadata": {
    "tags": []
   },
   "outputs": [],
   "source": [
    "# want to repeat this reaction, but there is no demethylmenaquinol 7\n",
    "# https://www.kegg.jp/entry/R09736"
   ]
  },
  {
   "cell_type": "code",
   "execution_count": 295,
   "id": "a295f0f3-6957-4cdd-922b-54ed8a2a8772",
   "metadata": {
    "tags": []
   },
   "outputs": [],
   "source": [
    "# amet_c + 2dmmq7_c ⇌ ahcys_c + h_c + mqn7_c\n",
    "# http://bigg.ucsd.edu/universal/reactions/MQNS\n",
    "\n",
    "new_reaction2 = Reaction('MQNS') # 4-Hydroxyphenylpyruvateoxygen oxidoreductase\n",
    "demethylmenaquinol7 = Metabolite(id='2dmmq7_c', compartment='c')\n",
    "\n",
    "new_reaction2.add_metabolites({model.metabolites.get_by_id('amet_c'): -1,\n",
    "                               demethylmenaquinol7: -1,\n",
    "                               model.metabolites.get_by_id('ahcys_c'): 1,\n",
    "                               model.metabolites.get_by_id('h_c'): 1,\n",
    "                               model.metabolites.get_by_id('mqn7_c'): 1\n",
    "                              })\n",
    "\n",
    "model.add_reactions([new_reaction2])"
   ]
  },
  {
   "cell_type": "code",
   "execution_count": 237,
   "id": "ad446778-d935-4cb4-91fd-499ddb6f35c1",
   "metadata": {
    "tags": []
   },
   "outputs": [
    {
     "name": "stdout",
     "output_type": "stream",
     "text": [
      "G3PD4: glyc3p_c + mqn7_c --> dhap_c + mql7_c Glycerol 3 phosphate dehydrogenase  menaquinone 7\n",
      "MQNS: 2dmmq7_c + amet_c --> ahcys_c + h_c + mqn7_c \n",
      "CYTB_B2: 2.0 h_c + mql7_c + 0.5 o2_c --> h2o_c + 2.0 h_e + mqn7_c Menaquinol oxidase  71 protons\n",
      "NADH4: h_c + mqn7_c + nadh_c --> mql7_c + nad_c NADH dehydrogenase  Menaquinone 7  no proton\n"
     ]
    }
   ],
   "source": [
    "# checking that the reaction was added\n",
    "for reaction in model.metabolites.mqn7_c.reactions:\n",
    "    print(reaction, reaction.name)"
   ]
  },
  {
   "cell_type": "code",
   "execution_count": 344,
   "id": "a58540c6-d788-44d9-977f-2925b8820627",
   "metadata": {
    "tags": []
   },
   "outputs": [
    {
     "data": {
      "text/plain": [
       "(0.03, 1000.0)"
      ]
     },
     "execution_count": 344,
     "metadata": {},
     "output_type": "execute_result"
    }
   ],
   "source": [
    "reaction_name = \"MQNS\"\n",
    "reaction = model.reactions.get_by_id(reaction_name)\n",
    "new_lower_bound = 0.03\n",
    "reaction.lower_bound = new_lower_bound\n",
    "model.reactions.MQNS.bounds"
   ]
  },
  {
   "cell_type": "code",
   "execution_count": 345,
   "id": "d4d67003-4050-4c3a-8113-33c57a402b41",
   "metadata": {
    "tags": []
   },
   "outputs": [
    {
     "name": "stderr",
     "output_type": "stream",
     "text": [
      "Ignoring reaction 'DHNAOT7' since it already exists.\n"
     ]
    }
   ],
   "source": [
    "# adding this reaction to obtain 2dmmq7_c from somewhere\n",
    "# not found in L. lactis though\n",
    "# http://bigg.ucsd.edu/universal/reactions/DHNAOT7\n",
    "# dhna_c + nad_c + hepdp_c ⇌ co2_c + nadh_c + ppi_c + 2dmmq7_c\n",
    "new_reaction6 = Reaction('DHNAOT7') \n",
    "\n",
    "new_reaction6.add_metabolites({model.metabolites.get_by_id('dhna_c'): -1,\n",
    "                               model.metabolites.get_by_id('nad_c'): -1,\n",
    "                               model.metabolites.get_by_id('hepdp_c'): -1,\n",
    "                               model.metabolites.get_by_id('co2_c'): 1,\n",
    "                               model.metabolites.get_by_id('nadh_c'): 1,\n",
    "                               model.metabolites.get_by_id('ppi_c'): 1,\n",
    "                               model.metabolites.get_by_id('2dmmq7_c'): 1\n",
    "                              })\n",
    "\n",
    "model.add_reactions([new_reaction6])"
   ]
  },
  {
   "cell_type": "code",
   "execution_count": 346,
   "id": "276c5e5a-ede1-4ab5-95e4-d29d47e7eed2",
   "metadata": {
    "tags": []
   },
   "outputs": [
    {
     "data": {
      "text/plain": [
       "0.04099999999999983"
      ]
     },
     "execution_count": 346,
     "metadata": {},
     "output_type": "execute_result"
    }
   ],
   "source": [
    "model.objective = model.reactions.DM_mqn7_c\n",
    "production_mqn7c = model.optimize().objective_value\n",
    "production_mqn7c"
   ]
  },
  {
   "cell_type": "code",
   "execution_count": 239,
   "id": "50d793cc-9eb7-4455-bfa5-f0f31360c837",
   "metadata": {
    "tags": []
   },
   "outputs": [
    {
     "data": {
      "text/plain": [
       "(0, 1000)"
      ]
     },
     "execution_count": 239,
     "metadata": {},
     "output_type": "execute_result"
    }
   ],
   "source": [
    "reaction_name = \"CYTB_B2\"\n",
    "reaction = model.reactions.get_by_id(reaction_name)\n",
    "new_lower_bound = 0\n",
    "reaction.lower_bound = new_lower_bound\n",
    "model.reactions.CYTB_B2.bounds"
   ]
  },
  {
   "cell_type": "code",
   "execution_count": 223,
   "id": "ab4c4ab9-29a9-44bf-9142-b4ed779306ca",
   "metadata": {
    "tags": []
   },
   "outputs": [
    {
     "data": {
      "text/html": [
       "\n",
       "        <table>\n",
       "            <tr>\n",
       "                <td><strong>Reaction identifier</strong></td><td>MQNS</td>\n",
       "            </tr><tr>\n",
       "                <td><strong>Name</strong></td><td></td>\n",
       "            </tr><tr>\n",
       "                <td><strong>Memory address</strong></td>\n",
       "                <td>0x177741850</td>\n",
       "            </tr><tr>\n",
       "                <td><strong>Stoichiometry</strong></td>\n",
       "                <td>\n",
       "                    <p style='text-align:right'>2dmmq7_c + amet_c --> ahcys_c + h_c + mqn7_c</p>\n",
       "                    <p style='text-align:right'>+ S-Adenosyl-L-methionine --> S-Adenosyl-L-homocysteine + H+ + Menaquinone 7 C46H64O2</p>\n",
       "                </td>\n",
       "            </tr><tr>\n",
       "                <td><strong>GPR</strong></td><td></td>\n",
       "            </tr><tr>\n",
       "                <td><strong>Lower bound</strong></td><td>0.001</td>\n",
       "            </tr><tr>\n",
       "                <td><strong>Upper bound</strong></td><td>1000.0</td>\n",
       "            </tr>\n",
       "        </table>\n",
       "        "
      ],
      "text/plain": [
       "<Reaction MQNS at 0x177741850>"
      ]
     },
     "execution_count": 223,
     "metadata": {},
     "output_type": "execute_result"
    }
   ],
   "source": [
    "model.reactions.MQNS"
   ]
  },
  {
   "cell_type": "markdown",
   "id": "e4375c73-3ba6-4360-9546-b2d2c7452b97",
   "metadata": {
    "tags": []
   },
   "source": [
    "When the lower boundary of CYTB_B2 is set for higher than 0 (have tried till 0.00001), the process becomes infeasible. So, it's better to try adjusting MQNS."
   ]
  },
  {
   "cell_type": "code",
   "execution_count": 269,
   "id": "d8065876-8c46-4fa9-8b18-31be1854cdff",
   "metadata": {
    "tags": []
   },
   "outputs": [],
   "source": [
    "model.objective = model.reactions.DM_mqn7_c\n",
    "selected_genes = set()\n",
    "\n",
    "for gene in model.genes:\n",
    "    mutant = model.copy()\n",
    "    mutant.genes.get_by_id(gene.id).knock_out()\n",
    "    if (mutant.slim_optimize(error_value=0.) > 0.001):\n",
    "        selected_genes.add(gene.id)"
   ]
  },
  {
   "cell_type": "code",
   "execution_count": 270,
   "id": "42a518f6-d562-4884-b1cd-3d1f46618140",
   "metadata": {
    "tags": []
   },
   "outputs": [
    {
     "data": {
      "text/plain": [
       "set()"
      ]
     },
     "execution_count": 270,
     "metadata": {},
     "output_type": "execute_result"
    }
   ],
   "source": [
    "selected_genes"
   ]
  },
  {
   "cell_type": "code",
   "execution_count": 301,
   "id": "ebaaaa0e-b6d9-4caf-ae36-3eb9cc81b34f",
   "metadata": {
    "tags": []
   },
   "outputs": [],
   "source": [
    "# attempt with that reaction\n",
    "# http://bigg.ucsd.edu/universal/reactions/POX3\n",
    "# h2o_c + pyr_c + mqn7_c ⇌ ac_c + co2_c + mql7_c\n",
    "new_reaction3 = Reaction('POX3') \n",
    "\n",
    "new_reaction3.add_metabolites({model.metabolites.get_by_id('ac_c'): -1,\n",
    "                               model.metabolites.get_by_id('co2_c'): -1,\n",
    "                               model.metabolites.get_by_id('mql7_c'): -1,\n",
    "                               model.metabolites.get_by_id('h2o_c'): 1,\n",
    "                               model.metabolites.get_by_id('pyr_c'): 1,\n",
    "                               model.metabolites.get_by_id('mqn7_c'): 1\n",
    "                              })\n",
    "\n",
    "model.add_reactions([new_reaction3])"
   ]
  },
  {
   "cell_type": "code",
   "execution_count": 243,
   "id": "5731171e-b543-4784-a030-03a576ef6eaa",
   "metadata": {
    "tags": []
   },
   "outputs": [
    {
     "name": "stdout",
     "output_type": "stream",
     "text": [
      "POX3: ac_c + co2_c + mql7_c --> h2o_c + mqn7_c + pyr_c \n",
      "MQNS: 2dmmq7_c + amet_c --> ahcys_c + h_c + mqn7_c \n",
      "NADH4: h_c + mqn7_c + nadh_c --> mql7_c + nad_c NADH dehydrogenase  Menaquinone 7  no proton\n",
      "CYTB_B2: 2.0 h_c + mql7_c + 0.5 o2_c --> h2o_c + 2.0 h_e + mqn7_c Menaquinol oxidase  71 protons\n",
      "G3PD4: glyc3p_c + mqn7_c --> dhap_c + mql7_c Glycerol 3 phosphate dehydrogenase  menaquinone 7\n",
      "DM_mqn7_c: mqn7_c -->  Menaquinone 7 C46H64O2 demand\n"
     ]
    }
   ],
   "source": [
    "for reaction in model.metabolites.mqn7_c.reactions:\n",
    "    print(reaction, reaction.name)"
   ]
  },
  {
   "cell_type": "code",
   "execution_count": 302,
   "id": "c55737f8-e4a7-4dc2-8622-ac227a98718c",
   "metadata": {
    "tags": []
   },
   "outputs": [
    {
     "data": {
      "text/plain": [
       "(0.001, 1000.0)"
      ]
     },
     "execution_count": 302,
     "metadata": {},
     "output_type": "execute_result"
    }
   ],
   "source": [
    "reaction_name = \"POX3\"\n",
    "reaction = model.reactions.get_by_id(reaction_name)\n",
    "new_lower_bound = 0.001\n",
    "reaction.lower_bound = new_lower_bound\n",
    "model.reactions.POX3.bounds"
   ]
  },
  {
   "cell_type": "code",
   "execution_count": 312,
   "id": "0fb41f93-c225-43c3-a91c-69f90f44759a",
   "metadata": {
    "tags": []
   },
   "outputs": [
    {
     "name": "stderr",
     "output_type": "stream",
     "text": [
      "/Users/kseniakirdey/anaconda3/lib/python3.11/site-packages/cobra/util/solver.py:554: UserWarning: Solver status is 'infeasible'.\n",
      "  warn(f\"Solver status is '{status}'.\", UserWarning)\n"
     ]
    },
    {
     "data": {
      "text/plain": [
       "0.0"
      ]
     },
     "execution_count": 312,
     "metadata": {},
     "output_type": "execute_result"
    }
   ],
   "source": [
    "model.objective = model.reactions.DM_mqn7_c\n",
    "production_mqn7c = model.optimize().objective_value\n",
    "production_mqn7c"
   ]
  },
  {
   "cell_type": "code",
   "execution_count": 303,
   "id": "6c97c2f1-a6df-4fee-ae95-3c5d9b528a72",
   "metadata": {
    "tags": []
   },
   "outputs": [],
   "source": [
    "# http://bigg.ucsd.edu/universal/reactions/AMMQT7\n",
    "# trying to add 2dmmq7_c\n",
    "# amet_c + nadph_c + 2dmmq7_c ⇌ ahcys_c + nadp_c + mql7_c\n",
    "\n",
    "new_reaction4 = Reaction('AMMQT7') \n",
    "\n",
    "new_reaction4.add_metabolites({model.metabolites.get_by_id('amet_c'): 1,\n",
    "                               model.metabolites.get_by_id('nadph_c'): 1,\n",
    "                               model.metabolites.get_by_id('2dmmq7_c'): 1,\n",
    "                               model.metabolites.get_by_id('ahcys_c'): -1,\n",
    "                               model.metabolites.get_by_id('nadp_c'): -1,\n",
    "                               model.metabolites.get_by_id('mql7_c'): -1\n",
    "                              })\n",
    "\n",
    "model.add_reactions([new_reaction4])"
   ]
  },
  {
   "cell_type": "code",
   "execution_count": 313,
   "id": "4cc9701d-eff1-4e5b-9a0b-18fbe6cfeb2f",
   "metadata": {
    "tags": []
   },
   "outputs": [],
   "source": [
    "# https://www.kegg.jp/entry/R09445\n",
    "# want to add this reaction, but there're no such enzymes in BIGG\n",
    "# fadh2_c + mqn7_c ⇌ fad_c + mql7_c\n",
    "\n",
    "new_reaction5 = Reaction('FADMQOR') \n",
    "\n",
    "new_reaction5.add_metabolites({model.metabolites.get_by_id('mql7_c'): -1,\n",
    "                               model.metabolites.get_by_id('fad_c'): -1,\n",
    "                               model.metabolites.get_by_id('mqn7_c'): 1,\n",
    "                               model.metabolites.get_by_id('fadh2_c'): 1\n",
    "                              })\n",
    "\n",
    "model.add_reactions([new_reaction5])"
   ]
  },
  {
   "cell_type": "code",
   "execution_count": 272,
   "id": "1dd1c8dc-1b97-43ad-b118-f648b33ff9bf",
   "metadata": {
    "tags": []
   },
   "outputs": [
    {
     "name": "stdout",
     "output_type": "stream",
     "text": [
      "POX3: ac_c + co2_c + mql7_c --> h2o_c + mqn7_c + pyr_c \n",
      "FADMQOR: fad_c + mql7_c --> fadh2_c + mqn7_c \n",
      "MQNS: 2dmmq7_c + amet_c --> ahcys_c + h_c + mqn7_c \n",
      "NADH4: h_c + mqn7_c + nadh_c --> mql7_c + nad_c NADH dehydrogenase  Menaquinone 7  no proton\n",
      "CYTB_B2: 2.0 h_c + mql7_c + 0.5 o2_c --> h2o_c + 2.0 h_e + mqn7_c Menaquinol oxidase  71 protons\n",
      "G3PD4: glyc3p_c + mqn7_c --> dhap_c + mql7_c Glycerol 3 phosphate dehydrogenase  menaquinone 7\n",
      "DM_mqn7_c: mqn7_c -->  Menaquinone 7 C46H64O2 demand\n"
     ]
    }
   ],
   "source": [
    "for reaction in model.metabolites.mqn7_c.reactions:\n",
    "    print(reaction, reaction.name)"
   ]
  },
  {
   "cell_type": "code",
   "execution_count": 321,
   "id": "8e0c7a4a-cc14-487f-881f-7f7eb085fdcd",
   "metadata": {
    "tags": []
   },
   "outputs": [
    {
     "data": {
      "text/plain": [
       "(0, 1000.0)"
      ]
     },
     "execution_count": 321,
     "metadata": {},
     "output_type": "execute_result"
    }
   ],
   "source": [
    "# also doesn't work when adjusting the lower bound\n",
    "reaction_name = \"FADMQOR\"\n",
    "reaction = model.reactions.get_by_id(reaction_name)\n",
    "new_lower_bound = 0\n",
    "reaction.lower_bound = new_lower_bound\n",
    "model.reactions.FADMQOR.bounds"
   ]
  },
  {
   "cell_type": "code",
   "execution_count": 322,
   "id": "ddd57954-73a7-4dd1-8ddc-4f947fa5d58d",
   "metadata": {
    "tags": []
   },
   "outputs": [
    {
     "data": {
      "text/plain": [
       "0.001"
      ]
     },
     "execution_count": 322,
     "metadata": {},
     "output_type": "execute_result"
    }
   ],
   "source": [
    "# so far, optimization worked only with POX3\n",
    "model.objective = model.reactions.DM_mqn7_c\n",
    "production_mqn7c = model.optimize().objective_value\n",
    "production_mqn7c"
   ]
  },
  {
   "cell_type": "code",
   "execution_count": 11,
   "id": "4382df85-c8dd-4df7-bb14-039095d9bcba",
   "metadata": {
    "tags": []
   },
   "outputs": [
    {
     "name": "stdout",
     "output_type": "stream",
     "text": [
      "chor_c\n",
      "ichor_c\n"
     ]
    }
   ],
   "source": [
    "# CHECKING METABOLITES HERE\n",
    "for metabolite in model.metabolites:\n",
    "    if \"chor\" in metabolite.id:\n",
    "        print(metabolite.id)"
   ]
  },
  {
   "cell_type": "markdown",
   "id": "5f2b0fd7-d201-4a60-b716-deb940984a57",
   "metadata": {},
   "source": [
    "> The pathway that starts with chorismate <-> isochorismate. "
   ]
  },
  {
   "cell_type": "code",
   "execution_count": 12,
   "id": "886b8428-4b68-4522-8c5c-579f06e675b4",
   "metadata": {
    "tags": []
   },
   "outputs": [
    {
     "name": "stdout",
     "output_type": "stream",
     "text": [
      "CHORS: 3psme_c --> chor_c + pi_c Chorismate synthase\n",
      "ICHORS: chor_c <=> ichor_c Isochorismate synthase\n",
      "ADCS: chor_c + gln__L_c --> 4adcho_c + glu__L_c 4-amino-4-deoxychorismate synthase\n",
      "CHORM: chor_c --> pphn_c Chorismate mutase\n",
      "ANS: chor_c + gln__L_c --> anth_c + glu__L_c + h_c + pyr_c Anthranilate synthase\n"
     ]
    }
   ],
   "source": [
    "# first reaction: Chorismate <=> Isochorismate\n",
    "# enzyme: menF\n",
    "for reaction in model.metabolites.chor_c.reactions:\n",
    "    print(reaction, reaction.name)"
   ]
  },
  {
   "cell_type": "code",
   "execution_count": 14,
   "id": "a6b04c7e-e191-4a34-b6c0-c26755c7d0e9",
   "metadata": {
    "tags": []
   },
   "outputs": [
    {
     "name": "stdout",
     "output_type": "stream",
     "text": [
      "(-1000.0, 1000.0)\n"
     ]
    }
   ],
   "source": [
    "reaction = model.reactions.ICHORS  # Replace with the ID of the reaction you want to check\n",
    "print(reaction.bounds)"
   ]
  },
  {
   "cell_type": "code",
   "execution_count": 34,
   "id": "3ca27231-6813-49c0-a718-2eb0bfe821c0",
   "metadata": {
    "tags": []
   },
   "outputs": [
    {
     "name": "stdout",
     "output_type": "stream",
     "text": [
      "(-100, 1000.0)\n"
     ]
    }
   ],
   "source": [
    "# we can increase the lower bound, so less isochorismate will be converted back into chorismate\n",
    "ichors_reaction = model.reactions.ICHORS\n",
    "\n",
    "new_lower_bound = -100\n",
    "ichors_reaction.lower_bound = new_lower_bound\n",
    "\n",
    "print(model.reactions.ICHORS.bounds)"
   ]
  },
  {
   "cell_type": "markdown",
   "id": "47ccc5e2-61f1-49c0-a5e8-e1a2db1371d4",
   "metadata": {},
   "source": [
    "---"
   ]
  },
  {
   "cell_type": "code",
   "execution_count": 35,
   "id": "950ff7f0-55bc-457b-9c30-cf8ca4059509",
   "metadata": {
    "tags": []
   },
   "outputs": [
    {
     "name": "stdout",
     "output_type": "stream",
     "text": [
      "2S6HCCi: akg_c + h_c + ichor_c <=> 2shchc_c + co2_c + pyr_c 2 succinyl 6 hydroxy 2 4 cyclohexadiene 1 carboxylate synthase\n",
      "ICHORS: chor_c <=> ichor_c Isochorismate synthase\n"
     ]
    }
   ],
   "source": [
    "# second reaction: sochorismate + 2-Oxoglutarate <=> 2-Succinyl-5-enolpyruvyl-6-hydroxy-3-cyclohexene-1-carboxylate + CO2\n",
    "# combined with third reaction of production of (1R,6R)-6-Hydroxy-2-succinylcyclohexa-2,4-diene-1-carboxylate\n",
    "# enzyme: MenD, MenH\n",
    "for reaction in model.metabolites.ichor_c.reactions:\n",
    "    print(reaction, reaction.name)"
   ]
  },
  {
   "cell_type": "code",
   "execution_count": 42,
   "id": "5e92bd1f-2f61-4364-b91c-59dc98877231",
   "metadata": {
    "tags": []
   },
   "outputs": [
    {
     "data": {
      "text/plain": [
       "(-100, 1000.0)"
      ]
     },
     "execution_count": 42,
     "metadata": {},
     "output_type": "execute_result"
    }
   ],
   "source": [
    "reaction_name = \"2S6HCCi\"\n",
    "reaction = model.reactions.get_by_id(reaction_name)\n",
    "new_lower_bound = -100\n",
    "reaction.lower_bound = new_lower_bound\n",
    "reaction.bounds"
   ]
  },
  {
   "cell_type": "markdown",
   "id": "71819221-c05f-45be-a592-29d82b577bb1",
   "metadata": {},
   "source": [
    "---"
   ]
  },
  {
   "cell_type": "code",
   "execution_count": 49,
   "id": "fda50bc2-a0a4-48ca-83a5-4726a450be89",
   "metadata": {
    "tags": []
   },
   "outputs": [
    {
     "name": "stdout",
     "output_type": "stream",
     "text": [
      "2S6HCCi: akg_c + h_c + ichor_c <=> 2shchc_c + co2_c + pyr_c 2 succinyl 6 hydroxy 2 4 cyclohexadiene 1 carboxylate synthase\n",
      "SUCBZS: 2shchc_c --> h2o_c + sucbz_c O-succinylbenzoate-CoA synthase\n"
     ]
    }
   ],
   "source": [
    "# fourth reaction: production of succinylbenzoate\n",
    "# goes only one side, so there's no need to adjust the boundary\n",
    "\n",
    "metabolite_id = \"2shchc_c\"\n",
    "metabolite = model.metabolites.get_by_id(metabolite_id)\n",
    "for reaction in metabolite.reactions:\n",
    "    print(reaction, reaction.name)"
   ]
  },
  {
   "cell_type": "markdown",
   "id": "84a42583-a5a1-4edd-86ff-f8cc8017210c",
   "metadata": {},
   "source": [
    "---"
   ]
  },
  {
   "cell_type": "code",
   "execution_count": 52,
   "id": "8f268994-eb26-4fae-9d68-6525e6f0af6c",
   "metadata": {
    "tags": []
   },
   "outputs": [
    {
     "name": "stdout",
     "output_type": "stream",
     "text": [
      "SUCBZL: atp_c + coa_c + sucbz_c --> amp_c + ppi_c + sbzcoa_c O-succinylbenzoate-CoA ligase\n",
      "SUCBZS: 2shchc_c <=> h2o_c + sucbz_c O-succinylbenzoate-CoA synthase\n"
     ]
    }
   ],
   "source": [
    "# fifth reaction: ATP + 2-Succinylbenzoate + CoA <=> AMP + Diphosphate + 2-Succinylbenzoyl-CoA\n",
    "\n",
    "for reaction in model.metabolites.sucbz_c.reactions:\n",
    "    print(reaction, reaction.name)"
   ]
  },
  {
   "cell_type": "code",
   "execution_count": 55,
   "id": "f831206d-b29e-4bbc-a375-9f0326727e6f",
   "metadata": {
    "tags": []
   },
   "outputs": [
    {
     "name": "stdout",
     "output_type": "stream",
     "text": [
      "(0.0, 1000.0)\n"
     ]
    }
   ],
   "source": [
    "# goes only one side, so there's no need to adjust the boundary\n",
    "print(model.reactions.SUCBZL.bounds)"
   ]
  },
  {
   "cell_type": "markdown",
   "id": "71f098e1-3d1e-4a1f-b75b-f315801e26cd",
   "metadata": {},
   "source": [
    "---"
   ]
  },
  {
   "cell_type": "code",
   "execution_count": 57,
   "id": "64b8ce46-c0e1-42ee-b80f-4811aee476f3",
   "metadata": {
    "tags": []
   },
   "outputs": [
    {
     "name": "stdout",
     "output_type": "stream",
     "text": [
      "SUCBZL: atp_c + coa_c + sucbz_c --> amp_c + ppi_c + sbzcoa_c O-succinylbenzoate-CoA ligase\n",
      "NPHS: sbzcoa_c --> coa_c + dhna_c Naphthoate synthase\n"
     ]
    }
   ],
   "source": [
    "# sixth reaction: 2-Succinylbenzoyl-CoA <=> 1,4-Dihydroxy-2-naphthoyl-CoA + H2O\n",
    "# there's only the production of 1,4-Dihydroxy-2-naphthoate. So, let's add the reaction of CoA addition.\n",
    "\n",
    "for reaction in model.metabolites.sbzcoa_c.reactions:\n",
    "    print(reaction, reaction.name)"
   ]
  },
  {
   "cell_type": "code",
   "execution_count": 90,
   "id": "691ba548-9a7a-41a0-8089-5714d939ac9e",
   "metadata": {
    "tags": []
   },
   "outputs": [
    {
     "name": "stdout",
     "output_type": "stream",
     "text": [
      "(0.0, 1000.0)\n"
     ]
    }
   ],
   "source": [
    "print(model.reactions.NPHS.bounds)"
   ]
  },
  {
   "cell_type": "markdown",
   "id": "5377c137-53fc-4843-8f66-b70071795dd6",
   "metadata": {
    "tags": []
   },
   "source": [
    "---"
   ]
  },
  {
   "cell_type": "markdown",
   "id": "a69e8a60-8281-47d3-b581-f27bce0ff8d2",
   "metadata": {},
   "source": [
    "All the reactions seem checked with regard to the bounds."
   ]
  },
  {
   "cell_type": "markdown",
   "id": "6a8581d8",
   "metadata": {},
   "source": [
    "The first reaction is the one that transforms \t\n",
    "1,4-Dihydroxy-2-naphthoate into 2-Demethylmenaquinol-8 that is needed for the future pathway. Enzyme: menA (DHNAOT_1).\n",
    "The next reaction has menaquinol as a product. In Lactococcus lactis model, mql7_c was already present, and from the BIGG data, there's no information about mql8_c being present. So, we have to obtain 2dmmq7_c to obtain mql7_c. Even though no information is depicted about 2dmmq7_c neither ..."
   ]
  },
  {
   "cell_type": "code",
   "execution_count": 103,
   "id": "3b997944",
   "metadata": {},
   "outputs": [],
   "source": [
    "from cobra import Reaction, Metabolite\n",
    "\n",
    "# first new reaction\n",
    "# Demethylmenaquinol + S-Adenosyl-L-methionine <=> Menaquinol + S-Adenosyl-L-homocysteine\n",
    "# dhna_c + nad_c + octdp_c --> 2dmmq7_c + co2_c + nadh_c + ppi_c\n",
    "\n",
    "new_reaction1 = Reaction('DHNAOT1') # 4-Hydroxyphenylpyruvateoxygen oxidoreductase\n",
    "demethylmenaquinol7 = Metabolite(id='2dmmq7_c', compartment='c')\n",
    "\n",
    "new_reaction1.add_metabolites({model.metabolites.get_by_id('dhna_c'): -1,\n",
    "                               model.metabolites.get_by_id('nad_c'): -1,\n",
    "                               model.metabolites.get_by_id('octdp_c'): -1,\n",
    "                               demethylmenaquinol7: 1,\n",
    "                               model.metabolites.get_by_id('nadh_c'): 1,\n",
    "                               model.metabolites.get_by_id('ppi_c'): 1\n",
    "                              })\n",
    "\n",
    "model.add_reactions([new_reaction1])"
   ]
  },
  {
   "cell_type": "markdown",
   "id": "d99bde55",
   "metadata": {},
   "source": [
    "Now, we can obtain the required menaquinol-7. "
   ]
  },
  {
   "cell_type": "code",
   "execution_count": 104,
   "id": "2c849f05",
   "metadata": {},
   "outputs": [],
   "source": [
    "# second new reaction\n",
    "# amet_c + nadph_c + 2dmmq7_c ⇌ ahcys_c + nadp_c + mql7_c \n",
    "# http://bigg.ucsd.edu/universal/reactions/AMMQT7\n",
    "new_reaction2 = Reaction('AMMQT7') # 4-Hydroxyphenylpyruvateoxygen oxidoreductase\n",
    "\n",
    "new_reaction2.add_metabolites({model.metabolites.get_by_id('amet_c'): -1,\n",
    "                               model.metabolites.get_by_id('nadph_c'): -1,\n",
    "                               demethylmenaquinol7: -1,\n",
    "                               model.metabolites.get_by_id('ahcys_c'): 1,\n",
    "                               model.metabolites.get_by_id('nadp_c'): 1,\n",
    "                               model.metabolites.get_by_id('mql7_c'): 1\n",
    "                              })\n",
    "\n",
    "model.add_reactions([new_reaction2])"
   ]
  },
  {
   "cell_type": "markdown",
   "id": "42d39e16",
   "metadata": {},
   "source": [
    "Looking at the reactions of mql7_c, we can see that there's one of our interest - with menaquinol oxidase."
   ]
  },
  {
   "cell_type": "markdown",
   "id": "8db3a9b9",
   "metadata": {},
   "source": [
    "In order to simulate the production of alpha-Tocopherol with the model, a boundary reaction of the type 'demand' is added."
   ]
  },
  {
   "cell_type": "code",
   "execution_count": 68,
   "id": "97cf5c30",
   "metadata": {
    "tags": []
   },
   "outputs": [
    {
     "data": {
      "text/plain": [
       "0.0"
      ]
     },
     "execution_count": 68,
     "metadata": {},
     "output_type": "execute_result"
    }
   ],
   "source": [
    "model.add_boundary(model.metabolites.mqn7_c, type='demand')\n",
    "model.objective = model.reactions.DM_mqn7_c\n",
    "production_mqn7c = model.optimize().objective_value\n",
    "production_mqn7c"
   ]
  },
  {
   "cell_type": "markdown",
   "id": "4066f5db",
   "metadata": {},
   "source": [
    "Another trial"
   ]
  },
  {
   "cell_type": "code",
   "execution_count": null,
   "id": "16c35b9a",
   "metadata": {},
   "outputs": [],
   "source": [
    "from cobra.io import read_sbml_model\n",
    "model = read_sbml_model('iNF517.xml')\n",
    "medium = model.medium\n",
    "model.medium = medium"
   ]
  },
  {
   "cell_type": "code",
   "execution_count": 111,
   "id": "a9193967",
   "metadata": {},
   "outputs": [],
   "source": [
    "#\n",
    "model.objective = model.reactions.DM_mqn7_c"
   ]
  },
  {
   "cell_type": "code",
   "execution_count": 115,
   "id": "1c519d51",
   "metadata": {},
   "outputs": [
    {
     "ename": "KeyboardInterrupt",
     "evalue": "",
     "output_type": "error",
     "traceback": [
      "\u001b[0;31m---------------------------------------------------------------------------\u001b[0m",
      "\u001b[0;31mKeyboardInterrupt\u001b[0m                         Traceback (most recent call last)",
      "Cell \u001b[0;32mIn[115], line 4\u001b[0m\n\u001b[1;32m      1\u001b[0m selected_genes \u001b[38;5;241m=\u001b[39m \u001b[38;5;28mset\u001b[39m()\n\u001b[1;32m      3\u001b[0m \u001b[38;5;28;01mfor\u001b[39;00m gene \u001b[38;5;129;01min\u001b[39;00m model\u001b[38;5;241m.\u001b[39mgenes:\n\u001b[0;32m----> 4\u001b[0m     mutant \u001b[38;5;241m=\u001b[39m model\u001b[38;5;241m.\u001b[39mcopy()\n\u001b[1;32m      5\u001b[0m     mutant\u001b[38;5;241m.\u001b[39mgenes\u001b[38;5;241m.\u001b[39mget_by_id(gene\u001b[38;5;241m.\u001b[39mid)\u001b[38;5;241m.\u001b[39mknock_out()\n\u001b[1;32m      6\u001b[0m     \u001b[38;5;28;01mif\u001b[39;00m (mutant\u001b[38;5;241m.\u001b[39mslim_optimize(error_value\u001b[38;5;241m=\u001b[39m\u001b[38;5;241m0.\u001b[39m) \u001b[38;5;241m<\u001b[39m \u001b[38;5;241m0.05\u001b[39m):\n",
      "File \u001b[0;32m~/anaconda3/lib/python3.11/site-packages/cobra/core/model.py:469\u001b[0m, in \u001b[0;36mModel.copy\u001b[0;34m(self)\u001b[0m\n\u001b[1;32m    466\u001b[0m     new_group\u001b[38;5;241m.\u001b[39madd_members(new_objects)\n\u001b[1;32m    468\u001b[0m \u001b[38;5;28;01mtry\u001b[39;00m:\n\u001b[0;32m--> 469\u001b[0m     new\u001b[38;5;241m.\u001b[39m_solver \u001b[38;5;241m=\u001b[39m deepcopy(\u001b[38;5;28mself\u001b[39m\u001b[38;5;241m.\u001b[39msolver)\n\u001b[1;32m    470\u001b[0m     \u001b[38;5;66;03m# Cplex has an issue with deep copies\u001b[39;00m\n\u001b[1;32m    471\u001b[0m \u001b[38;5;28;01mexcept\u001b[39;00m \u001b[38;5;167;01mException\u001b[39;00m:  \u001b[38;5;66;03m# pragma: no cover\u001b[39;00m\n",
      "File \u001b[0;32m~/anaconda3/lib/python3.11/copy.py:172\u001b[0m, in \u001b[0;36mdeepcopy\u001b[0;34m(x, memo, _nil)\u001b[0m\n\u001b[1;32m    170\u001b[0m                 y \u001b[38;5;241m=\u001b[39m x\n\u001b[1;32m    171\u001b[0m             \u001b[38;5;28;01melse\u001b[39;00m:\n\u001b[0;32m--> 172\u001b[0m                 y \u001b[38;5;241m=\u001b[39m _reconstruct(x, memo, \u001b[38;5;241m*\u001b[39mrv)\n\u001b[1;32m    174\u001b[0m \u001b[38;5;66;03m# If is its own copy, don't memoize.\u001b[39;00m\n\u001b[1;32m    175\u001b[0m \u001b[38;5;28;01mif\u001b[39;00m y \u001b[38;5;129;01mis\u001b[39;00m \u001b[38;5;129;01mnot\u001b[39;00m x:\n",
      "File \u001b[0;32m~/anaconda3/lib/python3.11/copy.py:273\u001b[0m, in \u001b[0;36m_reconstruct\u001b[0;34m(x, memo, func, args, state, listiter, dictiter, deepcopy)\u001b[0m\n\u001b[1;32m    271\u001b[0m     state \u001b[38;5;241m=\u001b[39m deepcopy(state, memo)\n\u001b[1;32m    272\u001b[0m \u001b[38;5;28;01mif\u001b[39;00m \u001b[38;5;28mhasattr\u001b[39m(y, \u001b[38;5;124m'\u001b[39m\u001b[38;5;124m__setstate__\u001b[39m\u001b[38;5;124m'\u001b[39m):\n\u001b[0;32m--> 273\u001b[0m     y\u001b[38;5;241m.\u001b[39m__setstate__(state)\n\u001b[1;32m    274\u001b[0m \u001b[38;5;28;01melse\u001b[39;00m:\n\u001b[1;32m    275\u001b[0m     \u001b[38;5;28;01mif\u001b[39;00m \u001b[38;5;28misinstance\u001b[39m(state, \u001b[38;5;28mtuple\u001b[39m) \u001b[38;5;129;01mand\u001b[39;00m \u001b[38;5;28mlen\u001b[39m(state) \u001b[38;5;241m==\u001b[39m \u001b[38;5;241m2\u001b[39m:\n",
      "File \u001b[0;32m~/anaconda3/lib/python3.11/site-packages/optlang/glpk_interface.py:609\u001b[0m, in \u001b[0;36mModel.__setstate__\u001b[0;34m(self, repr_dict)\u001b[0m\n\u001b[1;32m    607\u001b[0m \u001b[38;5;28mself\u001b[39m\u001b[38;5;241m.\u001b[39mconfiguration \u001b[38;5;241m=\u001b[39m Configuration\u001b[38;5;241m.\u001b[39mclone(repr_dict[\u001b[38;5;124m'\u001b[39m\u001b[38;5;124mconfig\u001b[39m\u001b[38;5;124m'\u001b[39m], problem\u001b[38;5;241m=\u001b[39m\u001b[38;5;28mself\u001b[39m)\n\u001b[1;32m    608\u001b[0m \u001b[38;5;28;01mif\u001b[39;00m repr_dict[\u001b[38;5;124m'\u001b[39m\u001b[38;5;124mglpk_status\u001b[39m\u001b[38;5;124m'\u001b[39m] \u001b[38;5;241m==\u001b[39m \u001b[38;5;124m'\u001b[39m\u001b[38;5;124moptimal\u001b[39m\u001b[38;5;124m'\u001b[39m:\n\u001b[0;32m--> 609\u001b[0m     \u001b[38;5;28mself\u001b[39m\u001b[38;5;241m.\u001b[39moptimize()\n",
      "File \u001b[0;32m~/anaconda3/lib/python3.11/site-packages/optlang/interface.py:1515\u001b[0m, in \u001b[0;36mModel.optimize\u001b[0;34m(self)\u001b[0m\n\u001b[1;32m   1500\u001b[0m \u001b[38;5;250m\u001b[39m\u001b[38;5;124;03m\"\"\"\u001b[39;00m\n\u001b[1;32m   1501\u001b[0m \u001b[38;5;124;03mSolve the optimization problem using the relevant solver back-end.\u001b[39;00m\n\u001b[1;32m   1502\u001b[0m \u001b[38;5;124;03mThe status returned by this method tells whether an optimal solution was found,\u001b[39;00m\n\u001b[0;32m   (...)\u001b[0m\n\u001b[1;32m   1512\u001b[0m \u001b[38;5;124;03m    Solution status.\u001b[39;00m\n\u001b[1;32m   1513\u001b[0m \u001b[38;5;124;03m\"\"\"\u001b[39;00m\n\u001b[1;32m   1514\u001b[0m \u001b[38;5;28mself\u001b[39m\u001b[38;5;241m.\u001b[39mupdate()\n\u001b[0;32m-> 1515\u001b[0m status \u001b[38;5;241m=\u001b[39m \u001b[38;5;28mself\u001b[39m\u001b[38;5;241m.\u001b[39m_optimize()\n\u001b[1;32m   1516\u001b[0m \u001b[38;5;28;01mif\u001b[39;00m status \u001b[38;5;241m!=\u001b[39m OPTIMAL \u001b[38;5;129;01mand\u001b[39;00m \u001b[38;5;28mself\u001b[39m\u001b[38;5;241m.\u001b[39mconfiguration\u001b[38;5;241m.\u001b[39mpresolve \u001b[38;5;241m==\u001b[39m \u001b[38;5;124m\"\u001b[39m\u001b[38;5;124mauto\u001b[39m\u001b[38;5;124m\"\u001b[39m:\n\u001b[1;32m   1517\u001b[0m     \u001b[38;5;28mself\u001b[39m\u001b[38;5;241m.\u001b[39mconfiguration\u001b[38;5;241m.\u001b[39mpresolve \u001b[38;5;241m=\u001b[39m \u001b[38;5;28;01mTrue\u001b[39;00m\n",
      "File \u001b[0;32m~/anaconda3/lib/python3.11/site-packages/optlang/glpk_interface.py:707\u001b[0m, in \u001b[0;36mModel._optimize\u001b[0;34m(self)\u001b[0m\n\u001b[1;32m    705\u001b[0m \u001b[38;5;28;01mdef\u001b[39;00m \u001b[38;5;21m_optimize\u001b[39m(\u001b[38;5;28mself\u001b[39m):\n\u001b[1;32m    706\u001b[0m     glp_scale_prob(\u001b[38;5;28mself\u001b[39m\u001b[38;5;241m.\u001b[39mproblem, GLP_SF_AUTO)\n\u001b[0;32m--> 707\u001b[0m     status \u001b[38;5;241m=\u001b[39m \u001b[38;5;28mself\u001b[39m\u001b[38;5;241m.\u001b[39m_run_glp_simplex()\n\u001b[1;32m    709\u001b[0m     \u001b[38;5;66;03m# Sometimes GLPK gets itself stuck with an invalid basis. This will help it get rid of it.\u001b[39;00m\n\u001b[1;32m    710\u001b[0m     \u001b[38;5;28;01mif\u001b[39;00m status \u001b[38;5;241m==\u001b[39m interface\u001b[38;5;241m.\u001b[39mUNDEFINED \u001b[38;5;129;01mand\u001b[39;00m \u001b[38;5;28mself\u001b[39m\u001b[38;5;241m.\u001b[39mconfiguration\u001b[38;5;241m.\u001b[39mpresolve \u001b[38;5;129;01mis\u001b[39;00m \u001b[38;5;129;01mnot\u001b[39;00m \u001b[38;5;28;01mTrue\u001b[39;00m:\n",
      "File \u001b[0;32m~/anaconda3/lib/python3.11/site-packages/optlang/glpk_interface.py:680\u001b[0m, in \u001b[0;36mModel._run_glp_simplex\u001b[0;34m(self)\u001b[0m\n\u001b[1;32m    679\u001b[0m \u001b[38;5;28;01mdef\u001b[39;00m \u001b[38;5;21m_run_glp_simplex\u001b[39m(\u001b[38;5;28mself\u001b[39m):\n\u001b[0;32m--> 680\u001b[0m     return_value \u001b[38;5;241m=\u001b[39m glp_simplex(\u001b[38;5;28mself\u001b[39m\u001b[38;5;241m.\u001b[39mproblem, \u001b[38;5;28mself\u001b[39m\u001b[38;5;241m.\u001b[39mconfiguration\u001b[38;5;241m.\u001b[39m_smcp)\n\u001b[1;32m    681\u001b[0m     glpk_status \u001b[38;5;241m=\u001b[39m glp_get_status(\u001b[38;5;28mself\u001b[39m\u001b[38;5;241m.\u001b[39mproblem)\n\u001b[1;32m    682\u001b[0m     \u001b[38;5;28;01mif\u001b[39;00m return_value \u001b[38;5;241m==\u001b[39m \u001b[38;5;241m0\u001b[39m:\n",
      "File \u001b[0;32m~/anaconda3/lib/python3.11/site-packages/swiglpk/swiglpk.py:485\u001b[0m, in \u001b[0;36mglp_simplex\u001b[0;34m(P, parm)\u001b[0m\n\u001b[1;32m    484\u001b[0m \u001b[38;5;28;01mdef\u001b[39;00m \u001b[38;5;21mglp_simplex\u001b[39m(P, parm):\n\u001b[0;32m--> 485\u001b[0m     \u001b[38;5;28;01mreturn\u001b[39;00m _swiglpk\u001b[38;5;241m.\u001b[39mglp_simplex(P, parm)\n",
      "\u001b[0;31mKeyboardInterrupt\u001b[0m: "
     ]
    }
   ],
   "source": [
    "selected_genes = set()\n",
    "\n",
    "for gene in model.genes:\n",
    "    mutant = model.copy()\n",
    "    mutant.genes.get_by_id(gene.id).knock_out()\n",
    "    if (mutant.slim_optimize(error_value=0.) < 0.05):\n",
    "        selected_genes.add(gene.id)"
   ]
  },
  {
   "cell_type": "code",
   "execution_count": 114,
   "id": "e8471041",
   "metadata": {},
   "outputs": [
    {
     "data": {
      "text/plain": [
       "set()"
      ]
     },
     "execution_count": 114,
     "metadata": {},
     "output_type": "execute_result"
    }
   ],
   "source": [
    "selected_genes"
   ]
  }
 ],
 "metadata": {
  "kernelspec": {
   "display_name": "Python 3 (ipykernel)",
   "language": "python",
   "name": "python3"
  },
  "language_info": {
   "codemirror_mode": {
    "name": "ipython",
    "version": 3
   },
   "file_extension": ".py",
   "mimetype": "text/x-python",
   "name": "python",
   "nbconvert_exporter": "python",
   "pygments_lexer": "ipython3",
   "version": "3.11.4"
  }
 },
 "nbformat": 4,
 "nbformat_minor": 5
}
