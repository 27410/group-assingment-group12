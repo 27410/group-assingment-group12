{
 "cells": [
  {
   "cell_type": "code",
   "execution_count": 5,
   "id": "2cdc8e7a-d525-4aee-bf54-a64dd0e74b7b",
   "metadata": {
    "tags": []
   },
   "outputs": [],
   "source": [
    "from cobra.io import read_sbml_model\n",
    "import model_methods\n",
    "from model_methods import get_base_model, update_medium, add_sucrose\n",
    "import warnings\n",
    "\n",
    "warnings.filterwarnings(\"ignore\", \".*not in.*\", UserWarning)\n",
    "\n",
    "model = get_base_model()\n",
    "model_old = read_sbml_model('iNF517.xml')\n",
    "\n",
    "biomass_obj = model_old.objective\n",
    "objective = model.objective"
   ]
  },
  {
   "cell_type": "code",
   "execution_count": 2,
   "id": "ff55c60d",
   "metadata": {},
   "outputs": [
    {
     "name": "stdout",
     "output_type": "stream",
     "text": [
      "Maximize\n",
      "1.0*BIOMASS_LLA - 1.0*BIOMASS_LLA_reverse_0796e\n"
     ]
    }
   ],
   "source": [
    "print(biomass_obj)"
   ]
  },
  {
   "cell_type": "markdown",
   "id": "260d06cc",
   "metadata": {},
   "source": [
    "## Exploring the original validated model."
   ]
  },
  {
   "cell_type": "code",
   "execution_count": 3,
   "id": "2c61e1e6",
   "metadata": {},
   "outputs": [
    {
     "name": "stdout",
     "output_type": "stream",
     "text": [
      "                  minimum      maximum\n",
      "DM_mqn7_c    3.600000e-02     0.040000\n",
      "BIOMASS_LLA  1.102429e-17     0.004263\n",
      "EX_glc__D_e -2.120000e+00    -1.040863\n",
      "EX_o2_e      0.000000e+00     0.000000\n",
      "ATPM         0.000000e+00     4.138183\n",
      "EX_sucr_e    0.000000e+00     0.000000\n",
      "G3PD1ir     -9.997636e+02  1000.000000\n",
      "EX_glu__L_e -5.000000e-02    -0.046000 \n",
      "\n"
     ]
    }
   ],
   "source": [
    "from cobra.flux_analysis import flux_variability_analysis\n",
    "\n",
    "with model:\n",
    "    reactions_of_interest = [\n",
    "        model.reactions.DM_mqn7_c,\n",
    "        model.reactions.BIOMASS_LLA,  # Biomass reaction\n",
    "        model.reactions.EX_glc__D_e, # Glucose uptake reaction\n",
    "        model.reactions.EX_o2_e,    # Oxygen uptake reaction\n",
    "        model.reactions.ATPM,        # ATP maintenance reaction\n",
    "        model.reactions.EX_sucr_e,     # Sucrose uptake reaction (alternative)\n",
    "        model.reactions.G3PD1ir,        # NADH producing reaction\n",
    "        model.reactions.EX_glu__L_e\n",
    "    ]\n",
    "\n",
    "    fva = flux_variability_analysis(\n",
    "        model,\n",
    "        reaction_list=reactions_of_interest,\n",
    "        fraction_of_optimum=0.9\n",
    "    )\n",
    "    \n",
    "print(fva, \"\\n\")"
   ]
  },
  {
   "cell_type": "markdown",
   "id": "6f6ddd40",
   "metadata": {},
   "source": [
    "The Flux Variability Analysis (FVA) results for MK-7 production in the *L. lactis* model indicate that the optimized flux through the DM_mqn7_c reaction ranges from 0.036 to 0.04 mmol/gDW/h. \n",
    "* The model **prioritizes** MK-7 production over biomass synthesis (BIOMASS_LLA), with a maximum biomass flux of approximately 0.00426 mmol/gDW/h. \n",
    "* **Glucose uptake** (EX_glc__D_e) is allowed within the range of -2.12 to -1.04 mmol/gDW/h, indicating the flexibility of the model in utilizing glucose as a carbon source. \n",
    "* Oxygen uptake (EX_o2_e) is predicted to be zero, suggesting **anaerobic** conditions. \n",
    "* The **ATP maintenance** flux (ATPM) varies from 0.0 to 4.14 mmol/gDW/h, reflecting the energy demands associated with MK-7 synthesis. \n",
    "* Sucrose uptake (EX_sucr_e) is predicted to be zero, indicating no contribution from these reactions to MK-7 production. \n",
    "* G3PD1ir has a big range of 2000. The negative flux values suggest the potential for consumption of substrates (dhap_c and nadh_c), and the positive flux values indicate the potential for the production of products (glyc3p_c and nad_c)."
   ]
  },
  {
   "cell_type": "markdown",
   "id": "b8f60e8e",
   "metadata": {},
   "source": [
    "## Exploring the cell with updated medium."
   ]
  },
  {
   "cell_type": "code",
   "execution_count": 6,
   "id": "497d0b36",
   "metadata": {},
   "outputs": [
    {
     "data": {
      "text/plain": [
       "{'EX_4abz_e': 0.00999,\n",
       " 'EX_ade_e': 0.01014,\n",
       " 'EX_ala__L_e': 0.04,\n",
       " 'EX_arg__L_e': 1,\n",
       " 'EX_asp__L_e': 0.01,\n",
       " 'EX_co2_e': 1000.0,\n",
       " 'EX_cys__L_e': 0.02,\n",
       " 'EX_fe2_e': 1000.0,\n",
       " 'EX_fe3_e': 1000.0,\n",
       " 'EX_glc__D_e': 2.12,\n",
       " 'EX_glu__L_e': 16.05,\n",
       " 'EX_gly_e': 0.04,\n",
       " 'EX_gua_e': 0.00906,\n",
       " 'EX_h2o_e': 1000.0,\n",
       " 'EX_h_e': 1000.0,\n",
       " 'EX_his__L_e': 0.01,\n",
       " 'EX_ile__L_e': 0.05,\n",
       " 'EX_ins_e': 0.00255,\n",
       " 'EX_leu__L_e': 0.06,\n",
       " 'EX_lys__L_e': 0.04,\n",
       " 'EX_met__L_e': 0.01,\n",
       " 'EX_mn2_e': 1000.0,\n",
       " 'EX_nac_e': 0.00111,\n",
       " 'EX_nh4_e': 0.59,\n",
       " 'EX_orot_e': 0.00439,\n",
       " 'EX_phe__L_e': 0.02,\n",
       " 'EX_pi_e': 1000.0,\n",
       " 'EX_pnto__R_e': 0.00062,\n",
       " 'EX_ribflv_e': 0.00036,\n",
       " 'EX_ser__L_e': 0.11,\n",
       " 'EX_sucr_e': 284,\n",
       " 'EX_thm_e': 0.00041,\n",
       " 'EX_thr__L_e': 0.06,\n",
       " 'EX_thymd_e': 0.00283,\n",
       " 'EX_ura_e': 0.01222,\n",
       " 'EX_val__L_e': 0.05,\n",
       " 'EX_xan_e': 0.00901,\n",
       " 'EX_zn2_e': 1000.0}"
      ]
     },
     "execution_count": 6,
     "metadata": {},
     "output_type": "execute_result"
    }
   ],
   "source": [
    "model = add_sucrose(update_medium(model))\n",
    "model.medium"
   ]
  },
  {
   "cell_type": "code",
   "execution_count": 7,
   "id": "63b066c0",
   "metadata": {},
   "outputs": [
    {
     "name": "stdout",
     "output_type": "stream",
     "text": [
      "                minimum      maximum\n",
      "DM_mqn7_c      9.988506    11.098340\n",
      "BIOMASS_LLA    0.000000     0.103424\n",
      "EX_glc__D_e   -2.120000    -0.920000\n",
      "EX_o2_e        0.000000     0.000000\n",
      "ATPM           0.000000    76.208605\n",
      "EX_sucr_e   -284.000000  -254.685931\n",
      "G3PD1ir     -349.131089  1000.000000\n",
      "EX_glu__L_e  -16.050000    -9.988506 \n",
      "\n"
     ]
    }
   ],
   "source": [
    "with model:\n",
    "    reactions_of_interest = [\n",
    "        model.reactions.DM_mqn7_c,\n",
    "        model.reactions.BIOMASS_LLA,  \n",
    "        model.reactions.EX_glc__D_e,\n",
    "        model.reactions.EX_o2_e,               \n",
    "        model.reactions.ATPM,              \n",
    "        model.reactions.EX_sucr_e,           \n",
    "        model.reactions.G3PD1ir,\n",
    "        model.reactions.EX_glu__L_e \n",
    "    ]\n",
    "\n",
    "    fva = flux_variability_analysis(\n",
    "        model,\n",
    "        reaction_list=reactions_of_interest,\n",
    "        fraction_of_optimum=0.9\n",
    "    )\n",
    "    \n",
    "print(fva, \"\\n\")"
   ]
  },
  {
   "cell_type": "markdown",
   "id": "4499854d",
   "metadata": {},
   "source": [
    "<font size='3'>  \n",
    "    \n",
    "The optimized flux through DM_mqn7_c has increased, ranging from 9.99 to 11.10 mmol/gDW/h, indicating a substantial **enhancement in MK-7 production.** \n",
    "\n",
    "* Biomass synthesis (BIOMASS_LLA) now ranges from 0.0 to 0.1034 mmol/gDW/h, suggesting a potential trade-off between biomass and Mk-7 production. Glutamate and sucrose addition **improved** it as well. \n",
    "* **Glucose uptake** (EX_glc__D_e) remains within the range of -2.12 to -0.92 mmol/gDW/h, indicating continued utilization of glucose in **slightly lower** amounts. \n",
    "* Oxygen uptake (EX_o2_e) remains at zero, implying the persistence of **anaerobic** conditions. \n",
    "* The ATP maintenance flux (ATPM) has notably increased, ranging from 0.0 to 76.21 mmol/gDW/h, reflecting the **higher energy demands** associated with elevated MK-7 production. \n",
    "* **Sucrose** uptake (EX_sucr_e) has been introduced at a substantial rate, ranging from -284.0 to -254.69 mmol/gDW/h. So, the cell is using it as a carbon-source.\n",
    "* Additionally, **glutamate** uptake (EX_glu__L_e) has been introduced at a rate ranging from -16.05 to -10.0 mmol/gDW/h. \n",
    "* There is a big change towards a positive size in the negative flux of G3PD1ir, meaning that model now allows a **lower rate of consumption of substrates (NADH).** NADH is a critical cofactor in cellular functioning, therefore the change in the negative boundary indicates a better cell functioning with newly introduced molecules, as it requires less cofactor.\n",
    "    \n",
    "</font>"
   ]
  },
  {
   "cell_type": "markdown",
   "id": "3f9ba09a",
   "metadata": {},
   "source": [
    "## Adding ATP into the medium"
   ]
  },
  {
   "cell_type": "markdown",
   "id": "4c3bd28e",
   "metadata": {},
   "source": [
    "An increase in ATP consumption suggests an influence of ATP on the production. There is no exchange reaction between cytosol and external environment for ATP, so it was decided to add it to try to increase the production further."
   ]
  },
  {
   "cell_type": "code",
   "execution_count": 8,
   "id": "fc17136b",
   "metadata": {},
   "outputs": [],
   "source": [
    "from cobra import Metabolite, Reaction\n",
    "# addition of an exchange reaction for ATP between external and internal comparm\n",
    "\n",
    "model.remove_reactions(['EX_atp_e'])\n",
    "exchange_reaction = Reaction('EX_atp_e') \n",
    "atp_e = Metabolite(id='atp_e', compartment='e', \n",
    "                   name='ATP_external')\n",
    "\n",
    "exchange_reaction.add_metabolites({model.metabolites.get_by_id('atp_c'): 1,\n",
    "                                   atp_e: -1\n",
    "                                  })\n",
    "\n",
    "model.add_reactions([exchange_reaction])"
   ]
  },
  {
   "cell_type": "code",
   "execution_count": 9,
   "id": "a3c88b97",
   "metadata": {},
   "outputs": [
    {
     "data": {
      "text/html": [
       "\n",
       "        <table>\n",
       "            <tr>\n",
       "                <td><strong>Reaction identifier</strong></td><td>EX_atp_e</td>\n",
       "            </tr><tr>\n",
       "                <td><strong>Name</strong></td><td></td>\n",
       "            </tr><tr>\n",
       "                <td><strong>Memory address</strong></td>\n",
       "                <td>0x1625320d0</td>\n",
       "            </tr><tr>\n",
       "                <td><strong>Stoichiometry</strong></td>\n",
       "                <td>\n",
       "                    <p style='text-align:right'>atp_e <=> atp_c</p>\n",
       "                    <p style='text-align:right'>ATP_external <=> ATP C10H12N5O13P3</p>\n",
       "                </td>\n",
       "            </tr><tr>\n",
       "                <td><strong>GPR</strong></td><td></td>\n",
       "            </tr><tr>\n",
       "                <td><strong>Lower bound</strong></td><td>-100</td>\n",
       "            </tr><tr>\n",
       "                <td><strong>Upper bound</strong></td><td>1000.0</td>\n",
       "            </tr>\n",
       "        </table>\n",
       "        "
      ],
      "text/plain": [
       "<Reaction EX_atp_e at 0x1625320d0>"
      ]
     },
     "execution_count": 9,
     "metadata": {},
     "output_type": "execute_result"
    }
   ],
   "source": [
    "# restricting the reverse reaction: atp_c -> atp_e\n",
    "atp_exchange = model.reactions.get_by_id(\"EX_atp_e\")\n",
    "atp_exchange.lower_bound = -100\n",
    "model.reactions.EX_atp_e"
   ]
  },
  {
   "cell_type": "code",
   "execution_count": 10,
   "id": "90b21bbe",
   "metadata": {},
   "outputs": [
    {
     "name": "stderr",
     "output_type": "stream",
     "text": [
      "EX_atp_e does not seem to be an an exchange reaction. Applying bounds anyway.\n"
     ]
    },
    {
     "name": "stdout",
     "output_type": "stream",
     "text": [
      "11.098340473300974\n"
     ]
    }
   ],
   "source": [
    "# adding ATP to the medium\n",
    "with model:\n",
    "    original_medium = model.medium\n",
    "    original_medium['EX_atp_e'] = 100\n",
    "    model.medium = original_medium\n",
    "    print(model.optimize().objective_value)"
   ]
  },
  {
   "cell_type": "markdown",
   "id": "005444ec",
   "metadata": {},
   "source": [
    "Addition of ATP to the medium did not improve the production."
   ]
  },
  {
   "cell_type": "markdown",
   "id": "7bf586ae",
   "metadata": {},
   "source": [
    "## Adding oxygen. "
   ]
  },
  {
   "cell_type": "markdown",
   "id": "8a2b8cfe",
   "metadata": {},
   "source": [
    "Now, the model fully runs in an anaerobic mode. *L. lactis* is a facultative anaerobe, so it could function in the presence of O2 as well. An attempt to change the productivity based on that:"
   ]
  },
  {
   "cell_type": "code",
   "execution_count": 11,
   "id": "03b08e6e",
   "metadata": {},
   "outputs": [
    {
     "name": "stderr",
     "output_type": "stream",
     "text": [
      "EX_atp_e does not seem to be an an exchange reaction. Applying bounds anyway.\n"
     ]
    },
    {
     "name": "stdout",
     "output_type": "stream",
     "text": [
      "11.098340473300988\n"
     ]
    }
   ],
   "source": [
    "# O2t: o2_e --> o2_c, O2 transport  diffusion\n",
    "o2_exchange = model.reactions.get_by_id(\"O2t\")\n",
    "o2_exchange.upper_bound = 100\n",
    "\n",
    "with model:\n",
    "    original_medium['EX_o2_e'] = 1000\n",
    "    model.medium = original_medium\n",
    "    print(model.optimize().objective_value)"
   ]
  },
  {
   "cell_type": "markdown",
   "id": "a9f7e107",
   "metadata": {},
   "source": [
    "Addition of O2 also did not change the outcome."
   ]
  },
  {
   "cell_type": "markdown",
   "id": "85eb6dee",
   "metadata": {},
   "source": [
    "## Assessing the pathways targeted in a research paper"
   ]
  },
  {
   "cell_type": "markdown",
   "id": "bf1e3582",
   "metadata": {},
   "source": [
    "### A model with sucrose"
   ]
  },
  {
   "cell_type": "code",
   "execution_count": 12,
   "id": "df62c9d8",
   "metadata": {},
   "outputs": [
    {
     "name": "stdout",
     "output_type": "stream",
     "text": [
      "             minimum    maximum\n",
      "MEVK1      69.919545  77.688383\n",
      "DHNAOT7     9.988506  11.098340\n",
      "MQNS        0.000000  11.098340\n",
      "PREN        9.988506  11.098340\n",
      "DM_mqn7_c   9.988506  11.098340 \n",
      "\n"
     ]
    }
   ],
   "source": [
    "with model:\n",
    "    reactions_of_interest = [model.reactions.MEVK1,\n",
    "                             model.reactions.DHNAOT7,\n",
    "                             model.reactions.MQNS,\n",
    "                             model.reactions.PREN, \n",
    "                             model.reactions.DM_mqn7_c]\n",
    "    \n",
    "    fva = flux_variability_analysis(model, \n",
    "                                    reaction_list = reactions_of_interest, \n",
    "                                    fraction_of_optimum=0.9)\n",
    "\n",
    "print(fva, \"\\n\")"
   ]
  },
  {
   "cell_type": "markdown",
   "id": "8ea4928e",
   "metadata": {},
   "source": [
    "**MEVK1**:\n",
    "The flux through the MEVK1 reaction can vary between approximately 69.92 and 77.69. This means that the model allows for flexibility in the utilization of mevalonate kinase in the mevalonate pathway, and this range provides insights into the potential variability of this reaction under different conditions.\n",
    "\n",
    "It is interesting to note that the fluxes through **DHNAOT7, MQNS** and **PREN** have the same maximum value as DM_mqn7_c, and the minimum values for DHNAOT7 and PREN are also the same. This could suggest a direct relationship between these fluxes and the production of mqn7, especially for DHNAOT7 and PREN."
   ]
  },
  {
   "cell_type": "markdown",
   "id": "66b1e815",
   "metadata": {},
   "source": [
    "### A model without sucrose"
   ]
  },
  {
   "cell_type": "markdown",
   "id": "6d3b9d51",
   "metadata": {},
   "source": [
    "As can be seen, an extreme sucrose addition is not affecting the correlation of these pathways with mqn7 production. The boundaries are still matching when getting the model back to the \"low sucrose\" medium."
   ]
  },
  {
   "cell_type": "code",
   "execution_count": 13,
   "id": "aff060b2",
   "metadata": {},
   "outputs": [
    {
     "name": "stdout",
     "output_type": "stream",
     "text": [
      "            minimum   maximum\n",
      "MEVK1      0.939571  1.043967\n",
      "DHNAOT7    0.134224  0.149138\n",
      "MQNS       0.000000  0.149138\n",
      "PREN       0.134224  0.149138\n",
      "DM_mqn7_c  0.134224  0.149138 \n",
      "\n"
     ]
    }
   ],
   "source": [
    "model = update_medium(get_base_model())\n",
    "\n",
    "with model:\n",
    "    reactions_of_interest = [model.reactions.MEVK1,\n",
    "                             model.reactions.DHNAOT7,\n",
    "                             model.reactions.MQNS,\n",
    "                             model.reactions.PREN, \n",
    "                             model.reactions.DM_mqn7_c]\n",
    "    \n",
    "    fva = flux_variability_analysis(model, \n",
    "                                    reaction_list = reactions_of_interest, \n",
    "                                    fraction_of_optimum=0.9)\n",
    "\n",
    "print(fva, \"\\n\")"
   ]
  },
  {
   "cell_type": "markdown",
   "id": "4debb7f0",
   "metadata": {},
   "source": [
    "## Analysis of the boundaries"
   ]
  },
  {
   "cell_type": "markdown",
   "id": "43adc4b4",
   "metadata": {},
   "source": [
    "It can be seen that all the fluxes are already at their maximum capacity. When the lower boundaries for each of them were adjusted to higher values, the status was infeasible, so the model is not allowing to further increase the production by increasing the fluxes rates. The reason might be, for example, an insufficient amount of metabolites or substrate. \n",
    "Nevertheless, with the FVA it was proved that these pathways play a role in mqn7 production, so there is a potential to facilitate an increase in these fluxes to obtain more vitamin K."
   ]
  },
  {
   "cell_type": "code",
   "execution_count": 29,
   "id": "d58619a8",
   "metadata": {},
   "outputs": [
    {
     "name": "stdout",
     "output_type": "stream",
     "text": [
      "Fluxes values:\n",
      " MEVK1: 77.68838331310691,\n",
      " DHNAOT7: 11.098340473300983,\n",
      " MQNS: 11.098340473300984,\n",
      " PREN: 11.098340473300983\n"
     ]
    }
   ],
   "source": [
    "solution = model.optimize()\n",
    "print(f\"Fluxes values:\\n \"\n",
    "      f\"MEVK1: {solution.fluxes.MEVK1},\\n \"\n",
    "      f\"DHNAOT7: {solution.fluxes.DDPA},\\n \"\n",
    "      f\"MQNS: {solution.fluxes.MQNS},\\n \"\n",
    "      f\"PREN: {solution.fluxes.PREN}\")"
   ]
  },
  {
   "cell_type": "code",
   "execution_count": 24,
   "id": "fc49de31",
   "metadata": {},
   "outputs": [
    {
     "name": "stdout",
     "output_type": "stream",
     "text": [
      "11.098340473300984\n"
     ]
    },
    {
     "name": "stderr",
     "output_type": "stream",
     "text": [
      "/Users/kseniakirdey/anaconda3/lib/python3.11/site-packages/cobra/util/solver.py:554: UserWarning: Solver status is 'infeasible'.\n",
      "  warn(f\"Solver status is '{status}'.\", UserWarning)\n"
     ]
    }
   ],
   "source": [
    "with model:\n",
    "    reaction_name = \"MQNS\"\n",
    "    reaction = model.reactions.get_by_id(reaction_name)\n",
    "    new_lower_bound = 11.1\n",
    "    reaction.lower_bound = new_lower_bound\n",
    "    print(model.optimize().objective_value)"
   ]
  }
 ],
 "metadata": {
  "kernelspec": {
   "display_name": "Python 3 (ipykernel)",
   "language": "python",
   "name": "python3"
  },
  "language_info": {
   "codemirror_mode": {
    "name": "ipython",
    "version": 3
   },
   "file_extension": ".py",
   "mimetype": "text/x-python",
   "name": "python",
   "nbconvert_exporter": "python",
   "pygments_lexer": "ipython3",
   "version": "3.11.4"
  }
 },
 "nbformat": 4,
 "nbformat_minor": 5
}
