{
 "cells": [
  {
   "cell_type": "code",
   "execution_count": 1,
   "id": "f820ae0e-0eaa-4e81-8ef9-5b7a2df07a97",
   "metadata": {
    "tags": []
   },
   "outputs": [],
   "source": [
    "import cobra.io\n",
    "from cobra.io import read_sbml_model\n",
    "import random\n",
    "\n",
    "random.seed(100)\n",
    "#model = read_sbml_model('/content/drive/MyDrive/Cell_Design/iNF517.xml')\n",
    "model = read_sbml_model('iNF517.xml')\n",
    "\n",
    "medium = model.medium\n",
    "original_medium = model.medium\n",
    "original_objective = model.objective"
   ]
  },
  {
   "cell_type": "markdown",
   "id": "b3b94433-80a5-4cc2-b5af-ba48c50c85f2",
   "metadata": {},
   "source": [
    "# Table of Contents\n",
    "1. [Glycolysis](#Glycolysis)\n",
    "2. [Pentose phosphate shunt](#Pentose-phosphate)\n",
    "3. [Menaquinone pathway](#Menaquinone-pathway)\n",
    "4. [Mevalonate pathway](#Mevalonate-pathway)\n",
    "5. [Shikimate pathway](#Shikimate-pathway)\n",
    "6. [Model medium](#Model-medium)"
   ]
  },
  {
   "cell_type": "markdown",
   "id": "99a998c5-9aea-4bbc-b92c-8322e0546555",
   "metadata": {},
   "source": [
    "## Reaction (template)"
   ]
  },
  {
   "cell_type": "code",
   "execution_count": 2,
   "id": "2ccdc25e-2f72-4135-9ffd-16072216e20f",
   "metadata": {},
   "outputs": [
    {
     "name": "stdout",
     "output_type": "stream",
     "text": [
      "Educt: Acetyl-CoA \n",
      "\n",
      "Product: Acetoacetyl-CoA \n",
      "\n",
      "Enzyme: Acetyl-CoA C-acetyltransferase \n",
      "\n",
      "Reaction ID & equation: ACACT1r: 2.0 accoa_c <=> aacoa_c + coa_c \n",
      "\n",
      "Corresponding gene: LLMG_RS04745\n"
     ]
    }
   ],
   "source": [
    "# educt\n",
    "educt = model.metabolites.get_by_id(\"accoa_c\") #edit here\n",
    "print(f\"Educt: {educt.name} \\n\")\n",
    "\n",
    "# product\n",
    "product = model.metabolites.get_by_id(\"aacoa_c\") #edit here\n",
    "print(f\"Product: {product.name} \\n\")\n",
    "\n",
    "# reaction\n",
    "#for reaction in educt.reactions:\n",
    "#    print(reaction, reaction.name)\n",
    "reaction = model.reactions.ACACT1r #edit here\n",
    "print(f\"Enzyme: {reaction.name} \\n\")\n",
    "print(f\"Reaction ID & equation: {reaction} \\n\")\n",
    "\n",
    "#gene\n",
    "print(f\"Corresponding gene: {reaction.gene_reaction_rule}\")"
   ]
  },
  {
   "cell_type": "markdown",
   "id": "f11f456c-47f5-4352-a361-d14b54c20836",
   "metadata": {},
   "source": [
    "## Adding a reaction (template)"
   ]
  },
  {
   "cell_type": "code",
   "execution_count": 3,
   "id": "9e4601ce-6153-4141-ad2a-e66f55bdfa75",
   "metadata": {},
   "outputs": [],
   "source": [
    "# first new reaction\n",
    "# link to the reaction (KEGG)\n",
    "# Demethylmenaquinol + S-Adenosyl-L-methionine <=> Menaquinol + S-Adenosyl-L-homocysteine\n",
    "# dhna_c + nad_c + octdp_c --> 2dmmq7_c + co2_c + nadh_c + ppi_c\n",
    "\n",
    "new_reaction1 = cobra.Reaction('reaction_name') # the enzyme / reaction name from BIGG\n",
    "demethylmenaquinol7 = cobra.Metabolite(id='metabolite_name', compartment='c')\n",
    "\n",
    "new_reaction1.add_metabolites({model.metabolites.get_by_id('dhna_c'): -1,\n",
    "                               model.metabolites.get_by_id('nad_c'): -1,\n",
    "                               model.metabolites.get_by_id('octdp_c'): -1,\n",
    "                               demethylmenaquinol7: 1,\n",
    "                               model.metabolites.get_by_id('nadh_c'): 1,\n",
    "                               model.metabolites.get_by_id('ppi_c'): 1\n",
    "                              })\n",
    "\n",
    "model.add_reactions([new_reaction1])"
   ]
  },
  {
   "cell_type": "markdown",
   "id": "5def8fa1-dd87-48b4-8d5f-d5b91d134008",
   "metadata": {},
   "source": [
    "# Glycolysis"
   ]
  },
  {
   "cell_type": "markdown",
   "id": "e4300f3d-9e48-45ad-b9b9-0885f38de647",
   "metadata": {},
   "source": [
    "#### HEX1: atp_c + glc__D_c --> adp_c + g6p_c + h_c Hexokinase (D-glucose:ATP)"
   ]
  },
  {
   "cell_type": "code",
   "execution_count": 4,
   "id": "eb97bacb-d4d4-4832-a767-369c6bf88458",
   "metadata": {},
   "outputs": [
    {
     "name": "stdout",
     "output_type": "stream",
     "text": [
      "Educt: D-Glucose \n",
      "\n",
      "Product: D-Glucose 6-phosphate \n",
      "\n",
      "Enzyme: Hexokinase (D-glucose:ATP) \n",
      "\n",
      "Reaction ID & equation: HEX1: atp_c + glc__D_c --> adp_c + g6p_c + h_c \n",
      "\n",
      "Corresponding gene: LLMG_RS11535\n"
     ]
    }
   ],
   "source": [
    "# educt\n",
    "educt = model.metabolites.get_by_id(\"glc__D_c\") #edit here\n",
    "print(f\"Educt: {educt.name} \\n\")\n",
    "\n",
    "# product\n",
    "product = model.metabolites.get_by_id(\"g6p_c\") #edit here\n",
    "print(f\"Product: {product.name} \\n\")\n",
    "\n",
    "# reaction\n",
    "#for reaction in educt.reactions:\n",
    "#    print(reaction, reaction.name)\n",
    "reaction = model.reactions.HEX1 #edit here\n",
    "print(f\"Enzyme: {reaction.name} \\n\")\n",
    "print(f\"Reaction ID & equation: {reaction} \\n\")\n",
    "\n",
    "#gene\n",
    "print(f\"Corresponding gene: {reaction.gene_reaction_rule}\")"
   ]
  },
  {
   "cell_type": "markdown",
   "id": "a8731148-21de-431b-85f4-f0f413bdc658",
   "metadata": {},
   "source": [
    "#### PGI: g6p_c <=> f6p_c Glucose-6-phosphate isomerase"
   ]
  },
  {
   "cell_type": "code",
   "execution_count": 5,
   "id": "8d72e40e-405c-4b70-91d6-657846855b59",
   "metadata": {},
   "outputs": [
    {
     "name": "stdout",
     "output_type": "stream",
     "text": [
      "Educt: D-Glucose 6-phosphate \n",
      "\n",
      "Product: D-Fructose 6-phosphate \n",
      "\n",
      "Enzyme: Glucose-6-phosphate isomerase \n",
      "\n",
      "Reaction ID & equation: PGI: g6p_c <=> f6p_c \n",
      "\n",
      "Corresponding gene: LLMG_RS12290\n"
     ]
    }
   ],
   "source": [
    "### PGI: g6p_c <=> f6p_c Glucose-6-phosphate isomerase ###\n",
    "# educt\n",
    "educt = model.metabolites.get_by_id(\"g6p_c\") #edit here\n",
    "print(f\"Educt: {educt.name} \\n\")\n",
    "\n",
    "# product\n",
    "product = model.metabolites.get_by_id(\"f6p_c\") #edit here\n",
    "print(f\"Product: {product.name} \\n\")\n",
    "\n",
    "# reaction\n",
    "#for reaction in educt.reactions:\n",
    "#    print(reaction, reaction.name)\n",
    "reaction = model.reactions.PGI #edit here\n",
    "print(f\"Enzyme: {reaction.name} \\n\")\n",
    "print(f\"Reaction ID & equation: {reaction} \\n\")\n",
    "\n",
    "#gene\n",
    "print(f\"Corresponding gene: {reaction.gene_reaction_rule}\")"
   ]
  },
  {
   "cell_type": "markdown",
   "id": "439b6e3a-620e-4550-8aea-b247f26509a3",
   "metadata": {},
   "source": [
    "#### PFK: atp_c + f6p_c --> adp_c + fdp_c + h_c Phosphofructokinase"
   ]
  },
  {
   "cell_type": "code",
   "execution_count": 6,
   "id": "fbbd46eb-3e31-43f8-86b0-b0d4d9a3550a",
   "metadata": {},
   "outputs": [
    {
     "name": "stdout",
     "output_type": "stream",
     "text": [
      "Educt: D-Fructose 6-phosphate \n",
      "\n",
      "Product: D-Fructose 1,6-bisphosphate \n",
      "\n",
      "Enzyme: Phosphofructokinase \n",
      "\n",
      "Reaction ID & equation: PFK: atp_c + f6p_c --> adp_c + fdp_c + h_c \n",
      "\n",
      "Corresponding gene: LLMG_RS05680\n"
     ]
    }
   ],
   "source": [
    "# educt\n",
    "educt = model.metabolites.get_by_id(\"f6p_c\") #edit here\n",
    "print(f\"Educt: {educt.name} \\n\")\n",
    "\n",
    "# product\n",
    "product = model.metabolites.get_by_id(\"fdp_c\") #edit here\n",
    "print(f\"Product: {product.name} \\n\")\n",
    "\n",
    "# reaction\n",
    "#for reaction in educt.reactions:\n",
    "#    print(reaction, reaction.name)\n",
    "reaction = model.reactions.PFK #edit here\n",
    "print(f\"Enzyme: {reaction.name} \\n\")\n",
    "print(f\"Reaction ID & equation: {reaction} \\n\")\n",
    "\n",
    "#gene\n",
    "print(f\"Corresponding gene: {reaction.gene_reaction_rule}\")"
   ]
  },
  {
   "cell_type": "markdown",
   "id": "ba95874c-8aec-49d3-899b-09cb3e3bc920",
   "metadata": {},
   "source": [
    "#### FBA: fdp_c <=> dhap_c + g3p_c Fructose-bisphosphate aldolase & TPI: dhap_c <=> g3p_c Triose-phosphate isomerase"
   ]
  },
  {
   "cell_type": "code",
   "execution_count": 7,
   "id": "b092df4f-4cd3-4511-b4c7-b8970677cf0c",
   "metadata": {},
   "outputs": [
    {
     "name": "stdout",
     "output_type": "stream",
     "text": [
      "Reaction 1\n",
      "Educt: D-Fructose 1,6-bisphosphate \n",
      "\n",
      "Product: Dihydroxyacetone phosphate \n",
      "\n",
      "Product: Glyceraldehyde 3-phosphate \n",
      "\n",
      "Enzyme: Fructose-bisphosphate aldolase \n",
      "\n",
      "Reaction ID & equation: FBA: fdp_c <=> dhap_c + g3p_c \n",
      "\n",
      "Corresponding gene: LLMG_RS10835\n",
      "\n",
      "Reaction 2 \n",
      "\n",
      "Educt: Dihydroxyacetone phosphate \n",
      "\n",
      "Product: Glyceraldehyde 3-phosphate \n",
      "\n",
      "Enzyme: Triose-phosphate isomerase \n",
      "\n",
      "Reaction ID & equation: TPI: dhap_c <=> g3p_c \n",
      "\n",
      "Corresponding gene: LLMG_RS07185\n",
      "\n"
     ]
    }
   ],
   "source": [
    "# educt\n",
    "print(\"Reaction 1\")\n",
    "educt = model.metabolites.get_by_id(\"fdp_c\") #edit here\n",
    "print(f\"Educt: {educt.name} \\n\")\n",
    "\n",
    "# product\n",
    "product = model.metabolites.get_by_id(\"dhap_c\") #edit here\n",
    "print(f\"Product: {product.name} \\n\")\n",
    "\n",
    "product = model.metabolites.get_by_id(\"g3p_c\") #edit here\n",
    "print(f\"Product: {product.name} \\n\")\n",
    "# reaction\n",
    "#for reaction in educt.reactions:\n",
    "#    print(reaction, reaction.name)\n",
    "reaction = model.reactions.FBA #edit here\n",
    "print(f\"Enzyme: {reaction.name} \\n\")\n",
    "print(f\"Reaction ID & equation: {reaction} \\n\")\n",
    "\n",
    "#gene\n",
    "print(f\"Corresponding gene: {reaction.gene_reaction_rule}\\n\")\n",
    "\n",
    "\n",
    "#Reaction 2\n",
    "print(\"Reaction 2 \\n\")\n",
    "educt = model.metabolites.get_by_id(\"dhap_c\") #edit here\n",
    "print(f\"Educt: {educt.name} \\n\")\n",
    "\n",
    "# product\n",
    "product = model.metabolites.get_by_id(\"g3p_c\") #edit here\n",
    "print(f\"Product: {product.name} \\n\")\n",
    "\n",
    "# reaction\n",
    "#for reaction in educt.reactions:\n",
    "#    print(reaction, reaction.name)\n",
    "reaction = model.reactions.TPI #edit here\n",
    "print(f\"Enzyme: {reaction.name} \\n\")\n",
    "print(f\"Reaction ID & equation: {reaction} \\n\")\n",
    "\n",
    "#gene\n",
    "print(f\"Corresponding gene: {reaction.gene_reaction_rule}\\n\")"
   ]
  },
  {
   "cell_type": "markdown",
   "id": "89cedeee-a4bb-4fcc-9479-d030cbfa9aa4",
   "metadata": {},
   "source": [
    "#### GAPD: g3p_c + nad_c + pi_c <=> 13dpg_c + h_c + nadh_c Glyceraldehyde-3-phosphate dehydrogenase"
   ]
  },
  {
   "cell_type": "code",
   "execution_count": 8,
   "id": "8a6796cd-7e30-494a-a0d8-073284c122da",
   "metadata": {},
   "outputs": [
    {
     "name": "stdout",
     "output_type": "stream",
     "text": [
      "Educt: Glyceraldehyde 3-phosphate \n",
      "\n",
      "Product: 3-Phospho-D-glyceroyl phosphate \n",
      "\n",
      "Enzyme: Glyceraldehyde-3-phosphate dehydrogenase \n",
      "\n",
      "Reaction ID & equation: GAPD: g3p_c + nad_c + pi_c <=> 13dpg_c + h_c + nadh_c \n",
      "\n",
      "Corresponding gene: LLMG_RS02785 or LLMG_RS12755\n"
     ]
    }
   ],
   "source": [
    "# educt \n",
    "educt = model.metabolites.get_by_id(\"g3p_c\") #edit here\n",
    "print(f\"Educt: {educt.name} \\n\")\n",
    "\n",
    "# product\n",
    "product = model.metabolites.get_by_id(\"13dpg_c\") #edit here\n",
    "print(f\"Product: {product.name} \\n\")\n",
    "\n",
    "# reaction\n",
    "#for reaction in educt.reactions:\n",
    "#    print(reaction, reaction.name)\n",
    "reaction = model.reactions.GAPD #edit here\n",
    "print(f\"Enzyme: {reaction.name} \\n\")\n",
    "print(f\"Reaction ID & equation: {reaction} \\n\")\n",
    "\n",
    "#gene\n",
    "print(f\"Corresponding gene: {reaction.gene_reaction_rule}\")"
   ]
  },
  {
   "cell_type": "markdown",
   "id": "5c98f6f9-dec0-43b8-8b8c-2a2edcb08dbb",
   "metadata": {},
   "source": [
    "#### PGK: 3pg_c + atp_c <=> 13dpg_c + adp_c Phosphoglycerate kinase"
   ]
  },
  {
   "cell_type": "code",
   "execution_count": 9,
   "id": "76725b7f-fa78-4b31-9239-93a7e9ae4384",
   "metadata": {},
   "outputs": [
    {
     "name": "stdout",
     "output_type": "stream",
     "text": [
      "Educt: 3-Phospho-D-glyceroyl phosphate \n",
      "\n",
      "Product: 3-Phospho-D-glycerate \n",
      "\n",
      "Enzyme: Phosphoglycerate kinase \n",
      "\n",
      "Reaction ID & equation: PGK: 3pg_c + atp_c <=> 13dpg_c + adp_c \n",
      "\n",
      "Corresponding gene: LLMG_RS01325\n"
     ]
    }
   ],
   "source": [
    "# educt \n",
    "educt = model.metabolites.get_by_id(\"13dpg_c\") #edit here\n",
    "print(f\"Educt: {educt.name} \\n\")\n",
    "\n",
    "# product\n",
    "product = model.metabolites.get_by_id(\"3pg_c\") #edit here\n",
    "print(f\"Product: {product.name} \\n\")\n",
    "\n",
    "# reaction\n",
    "#for reaction in educt.reactions:\n",
    "#    print(reaction, reaction.name)\n",
    "reaction = model.reactions.PGK #edit here\n",
    "print(f\"Enzyme: {reaction.name} \\n\")\n",
    "print(f\"Reaction ID & equation: {reaction} \\n\")\n",
    "\n",
    "#gene\n",
    "print(f\"Corresponding gene: {reaction.gene_reaction_rule}\")"
   ]
  },
  {
   "cell_type": "markdown",
   "id": "87f02c00-b75d-4199-b4be-40715a6808b3",
   "metadata": {},
   "source": [
    "#### PGM: 2pg_c <=> 3pg_c Phosphoglycerate mutase"
   ]
  },
  {
   "cell_type": "code",
   "execution_count": 10,
   "id": "72d0b8a1-a744-4dc4-b257-51d111ccb7b7",
   "metadata": {},
   "outputs": [
    {
     "name": "stdout",
     "output_type": "stream",
     "text": [
      "Educt: 3-Phospho-D-glycerate \n",
      "\n",
      "Product: D-Glycerate 2-phosphate \n",
      "\n",
      "Enzyme: Phosphoglycerate mutase \n",
      "\n",
      "Reaction ID & equation: PGM: 2pg_c <=> 3pg_c \n",
      "\n",
      "Corresponding gene: LLMG_RS01830 or LLMG_RS09625 or LLMG_RS07955\n"
     ]
    }
   ],
   "source": [
    "# educt \n",
    "educt = model.metabolites.get_by_id(\"3pg_c\") #edit here\n",
    "print(f\"Educt: {educt.name} \\n\")\n",
    "\n",
    "# product\n",
    "product = model.metabolites.get_by_id(\"2pg_c\") #edit here\n",
    "print(f\"Product: {product.name} \\n\")\n",
    "\n",
    "# reaction\n",
    "#for reaction in educt.reactions:\n",
    "#    print(reaction, reaction.name)\n",
    "reaction = model.reactions.PGM #edit here\n",
    "print(f\"Enzyme: {reaction.name} \\n\")\n",
    "print(f\"Reaction ID & equation: {reaction} \\n\")\n",
    "\n",
    "#gene\n",
    "print(f\"Corresponding gene: {reaction.gene_reaction_rule}\")"
   ]
  },
  {
   "cell_type": "markdown",
   "id": "2f17586d-ae87-44cd-8380-7368a61e7c5d",
   "metadata": {},
   "source": [
    "#### ENO: 2pg_c <=> h2o_c + pep_c Enolase"
   ]
  },
  {
   "cell_type": "code",
   "execution_count": 11,
   "id": "0b709f92-7845-4d6b-b2b5-d9ca4bb54732",
   "metadata": {},
   "outputs": [
    {
     "name": "stdout",
     "output_type": "stream",
     "text": [
      "Educt: D-Glycerate 2-phosphate \n",
      "\n",
      "Product: Phosphoenolpyruvate \n",
      "\n",
      "Enzyme: Enolase \n",
      "\n",
      "Reaction ID & equation: ENO: 2pg_c <=> h2o_c + pep_c \n",
      "\n",
      "Corresponding gene: LLMG_RS03215\n"
     ]
    }
   ],
   "source": [
    "# educt \n",
    "educt = model.metabolites.get_by_id(\"2pg_c\") #edit here\n",
    "print(f\"Educt: {educt.name} \\n\")\n",
    "\n",
    "# product\n",
    "product = model.metabolites.get_by_id(\"pep_c\") #edit here\n",
    "print(f\"Product: {product.name} \\n\")\n",
    "\n",
    "# reaction\n",
    "#for reaction in educt.reactions:\n",
    "#    print(reaction, reaction.name)\n",
    "reaction = model.reactions.ENO #edit here\n",
    "print(f\"Enzyme: {reaction.name} \\n\")\n",
    "print(f\"Reaction ID & equation: {reaction} \\n\")\n",
    "\n",
    "#gene\n",
    "print(f\"Corresponding gene: {reaction.gene_reaction_rule}\")"
   ]
  },
  {
   "cell_type": "markdown",
   "id": "4afcd1e7-e22f-4d29-82ac-b8e1afe9f758",
   "metadata": {},
   "source": [
    "#### PYK: adp_c + h_c + pep_c --> atp_c + pyr_c Pyruvate kinase"
   ]
  },
  {
   "cell_type": "code",
   "execution_count": 12,
   "id": "5e1fbcc9-86b1-44aa-bb85-374e32cc73ef",
   "metadata": {},
   "outputs": [
    {
     "name": "stdout",
     "output_type": "stream",
     "text": [
      "Educt: Phosphoenolpyruvate \n",
      "\n",
      "Product: Pyruvate \n",
      "\n",
      "Enzyme: Pyruvate kinase \n",
      "\n",
      "Reaction ID & equation: PYK: adp_c + h_c + pep_c --> atp_c + pyr_c \n",
      "\n",
      "Corresponding gene: LLMG_RS05685\n"
     ]
    }
   ],
   "source": [
    "# educt \n",
    "educt = model.metabolites.get_by_id(\"pep_c\") #edit here\n",
    "print(f\"Educt: {educt.name} \\n\")\n",
    "\n",
    "# product\n",
    "product = model.metabolites.get_by_id(\"pyr_c\") #edit here\n",
    "print(f\"Product: {product.name} \\n\")\n",
    "\n",
    "# reaction\n",
    "#for reaction in educt.reactions:\n",
    "#    print(reaction, reaction.name)\n",
    "reaction = model.reactions.PYK #edit here\n",
    "print(f\"Enzyme: {reaction.name} \\n\")\n",
    "print(f\"Reaction ID & equation: {reaction} \\n\")\n",
    "\n",
    "#gene\n",
    "print(f\"Corresponding gene: {reaction.gene_reaction_rule}\")"
   ]
  },
  {
   "cell_type": "markdown",
   "id": "9458bd05-11e3-4be0-9d64-fcd061ddf9c1",
   "metadata": {},
   "source": [
    "# Pentose phosphate"
   ]
  },
  {
   "cell_type": "markdown",
   "id": "3526a14b-f872-44b9-9a26-624aaa60726b",
   "metadata": {},
   "source": [
    "#### G6PI: g6p_c <=> g6p_B_c Glucose 6 phosphate isomerase"
   ]
  },
  {
   "cell_type": "code",
   "execution_count": 13,
   "id": "d95c6338-8e30-4342-8378-6743dfc82a6c",
   "metadata": {},
   "outputs": [
    {
     "name": "stdout",
     "output_type": "stream",
     "text": [
      "Educt: D-Glucose 6-phosphate \n",
      "\n",
      "Product: Beta D glucose 6 phosphate C6H11O9P \n",
      "\n",
      "Enzyme: Glucose 6 phosphate isomerase \n",
      "\n",
      "Reaction ID & equation: G6PI: g6p_c <=> g6p_B_c \n",
      "\n",
      "Corresponding gene: LLMG_RS12290\n"
     ]
    }
   ],
   "source": [
    "# educt \n",
    "educt = model.metabolites.get_by_id(\"g6p_c\") #edit here\n",
    "print(f\"Educt: {educt.name} \\n\")\n",
    "\n",
    "# product\n",
    "product = model.metabolites.get_by_id(\"g6p_B_c\") #edit here\n",
    "print(f\"Product: {product.name} \\n\")\n",
    "\n",
    "# reaction\n",
    "#for reaction in educt.reactions:\n",
    "#    print(reaction, reaction.name)\n",
    "reaction = model.reactions.G6PI #edit here\n",
    "print(f\"Enzyme: {reaction.name} \\n\")\n",
    "print(f\"Reaction ID & equation: {reaction} \\n\")\n",
    "\n",
    "#gene\n",
    "print(f\"Corresponding gene: {reaction.gene_reaction_rule}\")"
   ]
  },
  {
   "cell_type": "markdown",
   "id": "027b5627-9e59-47fa-8822-84cf9d067b1c",
   "metadata": {},
   "source": [
    "#### G6PDH2r: g6p_c + nadp_c <=> 6pgl_c + h_c + nadph_c Glucose 6-phosphate dehydrogenase\n",
    "Uses D-Glucose-6P with no distinction between alpha and beta"
   ]
  },
  {
   "cell_type": "code",
   "execution_count": 14,
   "id": "11a2e6a9-dfe4-449e-b1ce-54c77bf575f8",
   "metadata": {},
   "outputs": [
    {
     "name": "stdout",
     "output_type": "stream",
     "text": [
      "Educt: D-Glucose 6-phosphate \n",
      "\n",
      "Product: 6-phospho-D-glucono-1,5-lactone \n",
      "\n",
      "Enzyme: Glucose 6-phosphate dehydrogenase \n",
      "\n",
      "Reaction ID & equation: G6PDH2r: g6p_c + nadp_c <=> 6pgl_c + h_c + nadph_c \n",
      "\n",
      "Corresponding gene: LLMG_RS12560\n"
     ]
    }
   ],
   "source": [
    "# educt \n",
    "educt = model.metabolites.get_by_id(\"g6p_c\") #edit here\n",
    "print(f\"Educt: {educt.name} \\n\")\n",
    "\n",
    "# product\n",
    "product = model.metabolites.get_by_id(\"6pgl_c\") #edit here\n",
    "print(f\"Product: {product.name} \\n\")\n",
    "\n",
    "# reaction\n",
    "#for reaction in educt.reactions:\n",
    "#    print(reaction, reaction.name)\n",
    "reaction = model.reactions.G6PDH2r #edit here\n",
    "print(f\"Enzyme: {reaction.name} \\n\")\n",
    "print(f\"Reaction ID & equation: {reaction} \\n\")\n",
    "\n",
    "#gene\n",
    "print(f\"Corresponding gene: {reaction.gene_reaction_rule}\")"
   ]
  },
  {
   "cell_type": "markdown",
   "id": "0cccccea-68af-43d9-a806-9168c7840b33",
   "metadata": {},
   "source": [
    "#### PGL: 6pgl_c + h2o_c --> 6pgc_c + h_c 6-phosphogluconolactonase"
   ]
  },
  {
   "cell_type": "code",
   "execution_count": 15,
   "id": "61aa1ef9-3a59-4aea-ab5c-b3c34988b6b2",
   "metadata": {},
   "outputs": [
    {
     "name": "stdout",
     "output_type": "stream",
     "text": [
      "Educt: 6-phospho-D-glucono-1,5-lactone \n",
      "\n",
      "Product: 6-Phospho-D-gluconate \n",
      "\n",
      "Enzyme: 6-phosphogluconolactonase \n",
      "\n",
      "Reaction ID & equation: PGL: 6pgl_c + h2o_c --> 6pgc_c + h_c \n",
      "\n",
      "Corresponding gene: LLMG_RS12210\n"
     ]
    }
   ],
   "source": [
    "# educt \n",
    "educt = model.metabolites.get_by_id(\"6pgl_c\") #edit here\n",
    "print(f\"Educt: {educt.name} \\n\")\n",
    "\n",
    "# product\n",
    "product = model.metabolites.get_by_id(\"6pgc_c\") #edit here\n",
    "print(f\"Product: {product.name} \\n\")\n",
    "\n",
    "# reaction\n",
    "#for reaction in educt.reactions:\n",
    "#    print(reaction, reaction.name)\n",
    "reaction = model.reactions.PGL #edit here\n",
    "print(f\"Enzyme: {reaction.name} \\n\")\n",
    "print(f\"Reaction ID & equation: {reaction} \\n\")\n",
    "\n",
    "#gene\n",
    "print(f\"Corresponding gene: {reaction.gene_reaction_rule}\")"
   ]
  },
  {
   "cell_type": "markdown",
   "id": "bf02aaf0-c489-457b-aadb-4c15ecea7fae",
   "metadata": {},
   "source": [
    "#### GND: 6pgc_c + nadp_c --> co2_c + nadph_c + ru5p__D_c Phosphogluconate dehydrogenase"
   ]
  },
  {
   "cell_type": "code",
   "execution_count": 16,
   "id": "d54e8e96-a8dc-4dde-829d-5dce05211f11",
   "metadata": {},
   "outputs": [
    {
     "name": "stdout",
     "output_type": "stream",
     "text": [
      "Educt: 6-Phospho-D-gluconate \n",
      "\n",
      "Product: D-Ribulose 5-phosphate \n",
      "\n",
      "Enzyme: Phosphogluconate dehydrogenase \n",
      "\n",
      "Reaction ID & equation: GND: 6pgc_c + nadp_c --> co2_c + nadph_c + ru5p__D_c \n",
      "\n",
      "Corresponding gene: LLMG_RS12405 or LLMG_RS03045\n"
     ]
    }
   ],
   "source": [
    "# educt \n",
    "educt = model.metabolites.get_by_id(\"6pgc_c\") #edit here\n",
    "print(f\"Educt: {educt.name} \\n\")\n",
    "\n",
    "# product\n",
    "product = model.metabolites.get_by_id(\"ru5p__D_c\") #edit here\n",
    "print(f\"Product: {product.name} \\n\")\n",
    "\n",
    "# reaction\n",
    "#for reaction in educt.reactions:\n",
    "#    print(reaction, reaction.name)\n",
    "reaction = model.reactions.GND #edit here\n",
    "print(f\"Enzyme: {reaction.name} \\n\")\n",
    "print(f\"Reaction ID & equation: {reaction} \\n\")\n",
    "\n",
    "#gene\n",
    "print(f\"Corresponding gene: {reaction.gene_reaction_rule}\")"
   ]
  },
  {
   "cell_type": "markdown",
   "id": "97dc0a93-dd31-4040-b14b-d1b04a08148c",
   "metadata": {},
   "source": [
    "#### RPI: r5p_c <=> ru5p__D_c Ribose-5-phosphate isomerase"
   ]
  },
  {
   "cell_type": "code",
   "execution_count": 17,
   "id": "f3295e0e-daeb-4eb2-bb6e-856066ace3a4",
   "metadata": {},
   "outputs": [
    {
     "name": "stdout",
     "output_type": "stream",
     "text": [
      "Educt: D-Ribulose 5-phosphate \n",
      "\n",
      "Product: Alpha-D-Ribose 5-phosphate \n",
      "\n",
      "Enzyme: Ribose-5-phosphate isomerase \n",
      "\n",
      "Reaction ID & equation: RPI: r5p_c <=> ru5p__D_c \n",
      "\n",
      "Corresponding gene: LLMG_RS12615 or LLMG_RS04880\n"
     ]
    }
   ],
   "source": [
    "# educt \n",
    "educt = model.metabolites.get_by_id(\"ru5p__D_c\") #edit here\n",
    "print(f\"Educt: {educt.name} \\n\")\n",
    "\n",
    "# product\n",
    "product = model.metabolites.get_by_id(\"r5p_c\") #edit here\n",
    "print(f\"Product: {product.name} \\n\")\n",
    "\n",
    "# reaction\n",
    "#for reaction in educt.reactions:\n",
    "#    print(reaction, reaction.name)\n",
    "reaction = model.reactions.RPI #edit here\n",
    "print(f\"Enzyme: {reaction.name} \\n\")\n",
    "print(f\"Reaction ID & equation: {reaction} \\n\")\n",
    "\n",
    "#gene\n",
    "print(f\"Corresponding gene: {reaction.gene_reaction_rule}\")"
   ]
  },
  {
   "cell_type": "markdown",
   "id": "0072160e-9bfd-407c-859d-8b9767846133",
   "metadata": {},
   "source": [
    "## Menaquinone pathway"
   ]
  },
  {
   "cell_type": "code",
   "execution_count": 18,
   "id": "e886c133-6086-49b1-81b2-4ee87cf203d8",
   "metadata": {
    "tags": []
   },
   "outputs": [
    {
     "name": "stdout",
     "output_type": "stream",
     "text": [
      "Educt: Chorismate \n",
      "\n",
      "Product: Isochorismate \n",
      "\n",
      "Enzyme: Isochorismate synthase \n",
      "\n",
      "Reaction ID & equation: ICHORS: chor_c <=> ichor_c \n",
      "\n",
      "Corresponding gene: LLMG_RS09155\n"
     ]
    }
   ],
   "source": [
    "# educt\n",
    "educt = model.metabolites.get_by_id(\"chor_c\") #edit here\n",
    "print(f\"Educt: {educt.name} \\n\")\n",
    "\n",
    "# product\n",
    "product = model.metabolites.get_by_id(\"ichor_c\") #edit here\n",
    "print(f\"Product: {product.name} \\n\")\n",
    "\n",
    "# reaction\n",
    "reaction = model.reactions.ICHORS #edit here\n",
    "print(f\"Enzyme: {reaction.name} \\n\")\n",
    "print(f\"Reaction ID & equation: {reaction} \\n\")\n",
    "\n",
    "#gene\n",
    "print(f\"Corresponding gene: {reaction.gene_reaction_rule}\")"
   ]
  },
  {
   "cell_type": "code",
   "execution_count": 19,
   "id": "6a0eea56-7fd3-4b11-8b20-533b2828e763",
   "metadata": {
    "tags": []
   },
   "outputs": [
    {
     "name": "stderr",
     "output_type": "stream",
     "text": [
      "/Users/kseniakirdey/anaconda3/lib/python3.11/site-packages/cobra/core/model.py:787: UserWarning: SEPHCHCS not in iNF517\n",
      "  warn(f\"{reaction} not in {self}\")\n"
     ]
    }
   ],
   "source": [
    "from cobra import Reaction, Metabolite\n",
    "\n",
    "# first new reaction, completion\n",
    "# https://www.kegg.jp/entry/R08165\n",
    "# http://bigg.ucsd.edu/universal/reactions/SEPHCHCS\n",
    "# Isochorismate + 2-Oxoglutarate <=> 2-Succinyl-5-enolpyruvyl-6-hydroxy-3-cyclohexene-1-carboxylate + CO2\n",
    "# akg_c + h_c + ichor_c ⇌ 2sephchc_c + co2_c, menD \n",
    "\n",
    "model.remove_reactions(['SEPHCHCS'])\n",
    "new_reaction1 = Reaction('SEPHCHCS') # the enzyme / reaction name from BIGG\n",
    "new_reaction1.name = '2-succinyl-5-enolpyruvyl-6-hydroxy-3-cyclohexene-1-carboxylate synthase'\n",
    "# new_reaction1.gene_reaction_rule = '( )'\n",
    "sephchc = Metabolite(id='2sephchc_c', compartment='c', name='2-succinyl-5-enolpyruvyl-6-hydroxy-3-cyclohexene-1-carboxylate')\n",
    "new_reaction1.gene_reaction_rule = '( LLMG_1829 )'\n",
    "\n",
    "new_reaction1.add_metabolites({model.metabolites.get_by_id('akg_c'): -1,\n",
    "                               model.metabolites.get_by_id('h_c'): -1,\n",
    "                               model.metabolites.get_by_id('ichor_c'): -1,\n",
    "                               sephchc: 1,\n",
    "                               model.metabolites.get_by_id('co2_c'): 1\n",
    "                              })\n",
    "\n",
    "model.add_reactions([new_reaction1])"
   ]
  },
  {
   "cell_type": "code",
   "execution_count": 20,
   "id": "14c66bd6-fcff-4e7e-b42e-7bace4bffe6f",
   "metadata": {
    "tags": []
   },
   "outputs": [
    {
     "name": "stdout",
     "output_type": "stream",
     "text": [
      "Educt: Isochorismate \n",
      "\n",
      "Product: 2-succinyl-5-enolpyruvyl-6-hydroxy-3-cyclohexene-1-carboxylate \n",
      "\n",
      "Enzyme: 2-succinyl-5-enolpyruvyl-6-hydroxy-3-cyclohexene-1-carboxylate synthase \n",
      "\n",
      "Reaction ID & equation: SEPHCHCS: akg_c + h_c + ichor_c --> 2sephchc_c + co2_c \n",
      "\n",
      "Corresponding gene: LLMG_1829 \n",
      "\n",
      "Cofactors: Mg2+, Mn2+\n"
     ]
    }
   ],
   "source": [
    "# educt\n",
    "educt = model.metabolites.get_by_id(\"ichor_c\") #edit here\n",
    "print(f\"Educt: {educt.name} \\n\")\n",
    "\n",
    "# product\n",
    "product = model.metabolites.get_by_id(\"2sephchc_c\") #edit here\n",
    "print(f\"Product: {product.name} \\n\")\n",
    "\n",
    "# reaction\n",
    "reaction = model.reactions.SEPHCHCS #edit here\n",
    "print(f\"Enzyme: {reaction.name} \\n\")\n",
    "print(f\"Reaction ID & equation: {reaction} \\n\")\n",
    "\n",
    "# gene\n",
    "print(f\"Corresponding gene: {reaction.gene_reaction_rule} \\n\")\n",
    "\n",
    "# cofactors\n",
    "# https://www.uniprot.org/uniprotkb/A2RM73/entry\n",
    "print(\"Cofactors: Mg2+, Mn2+\")"
   ]
  },
  {
   "cell_type": "code",
   "execution_count": 21,
   "id": "d527b221-2704-47dd-ae3f-e6f8173c3cf1",
   "metadata": {
    "tags": []
   },
   "outputs": [
    {
     "name": "stderr",
     "output_type": "stream",
     "text": [
      "/Users/kseniakirdey/anaconda3/lib/python3.11/site-packages/cobra/core/model.py:787: UserWarning: SHCHCS3 not in iNF517\n",
      "  warn(f\"{reaction} not in {self}\")\n"
     ]
    }
   ],
   "source": [
    "# second new reaction, completion\n",
    "# https://www.kegg.jp/entry/R08166\n",
    "# http://bigg.ucsd.edu/universal/reactions/SHCHCS3\n",
    "# 2-Succinyl-5-enolpyruvyl-6-hydroxy-3-cyclohexene-1-carboxylate <=> \n",
    "# (1R,6R)-6-Hydroxy-2-succinylcyclohexa-2,4-diene-1-carboxylate + Pyruvate\n",
    "# 2sephchc_c ⇌ 2shchc_c + pyr_c, menH\n",
    "\n",
    "model.remove_reactions(['SHCHCS3'])\n",
    "new_reaction2 = Reaction('SHCHCS3') # the enzyme / reaction name from BIGG\n",
    "new_reaction2.name = '2-succinyl-6-hydroxy-2,4-cyclohexadiene-1-carboxylate synthase'\n",
    "new_reaction2.gene_reaction_rule = '( LLMG_1830 )'\n",
    "\n",
    "new_reaction2.add_metabolites({model.metabolites.get_by_id('2sephchc_c'): -1,\n",
    "                               model.metabolites.get_by_id('2shchc_c'): 1,\n",
    "                               model.metabolites.get_by_id('pyr_c'): 1\n",
    "                              })\n",
    "\n",
    "model.add_reactions([new_reaction2])"
   ]
  },
  {
   "cell_type": "code",
   "execution_count": 22,
   "id": "a3c2c426-c81a-47c4-bcff-d35ce11ccb53",
   "metadata": {
    "tags": []
   },
   "outputs": [
    {
     "name": "stdout",
     "output_type": "stream",
     "text": [
      "Educt: 2-succinyl-5-enolpyruvyl-6-hydroxy-3-cyclohexene-1-carboxylate \n",
      "\n",
      "Product: 2-Succinyl-6-hydroxy-2,4-cyclohexadiene-1-carboxylate \n",
      "\n",
      "Enzyme: 2-succinyl-6-hydroxy-2,4-cyclohexadiene-1-carboxylate synthase \n",
      "\n",
      "Reaction ID & equation: SHCHCS3: 2sephchc_c --> 2shchc_c + pyr_c \n",
      "\n",
      "Corresponding gene: LLMG_1830\n"
     ]
    }
   ],
   "source": [
    "# educt\n",
    "educt = model.metabolites.get_by_id(\"2sephchc_c\") #edit here\n",
    "print(f\"Educt: {educt.name} \\n\")\n",
    "\n",
    "# product\n",
    "product = model.metabolites.get_by_id(\"2shchc_c\") #edit here\n",
    "print(f\"Product: {product.name} \\n\")\n",
    "\n",
    "# reaction\n",
    "r_name = 'SHCHCS3'\n",
    "reaction = model.reactions.get_by_id(r_name) #edit here\n",
    "print(f\"Enzyme: {reaction.name} \\n\")\n",
    "print(f\"Reaction ID & equation: {reaction} \\n\")\n",
    "\n",
    "#gene\n",
    "print(f\"Corresponding gene: {reaction.gene_reaction_rule}\")"
   ]
  },
  {
   "cell_type": "code",
   "execution_count": 23,
   "id": "464ab61c-af59-4d79-a790-e8847675f5e9",
   "metadata": {
    "tags": []
   },
   "outputs": [
    {
     "name": "stdout",
     "output_type": "stream",
     "text": [
      "Educt: 2-Succinyl-6-hydroxy-2,4-cyclohexadiene-1-carboxylate \n",
      "\n",
      "Product: O-Succinylbenzoate \n",
      "\n",
      "Enzyme: O-succinylbenzoate-CoA synthase \n",
      "\n",
      "Reaction ID & equation: SUCBZS: 2shchc_c --> h2o_c + sucbz_c \n",
      "\n",
      "Corresponding gene: LLMG_RS09180\n"
     ]
    }
   ],
   "source": [
    "# educt\n",
    "educt = model.metabolites.get_by_id(\"2shchc_c\") #edit here\n",
    "print(f\"Educt: {educt.name} \\n\")\n",
    "\n",
    "# product\n",
    "product = model.metabolites.get_by_id(\"sucbz_c\") #edit here\n",
    "print(f\"Product: {product.name} \\n\")\n",
    "\n",
    "# reaction\n",
    "r_name = 'SUCBZS'\n",
    "reaction = model.reactions.get_by_id(r_name) #edit here\n",
    "print(f\"Enzyme: {reaction.name} \\n\") #menE\n",
    "print(f\"Reaction ID & equation: {reaction} \\n\")\n",
    "\n",
    "#gene\n",
    "print(f\"Corresponding gene: {reaction.gene_reaction_rule}\")"
   ]
  },
  {
   "cell_type": "code",
   "execution_count": 24,
   "id": "b52afd23-dccd-4354-8306-6e9023be9ab6",
   "metadata": {
    "tags": []
   },
   "outputs": [
    {
     "name": "stdout",
     "output_type": "stream",
     "text": [
      "Educt: O-Succinylbenzoate \n",
      "\n",
      "Product: O-Succinylbenzoyl-CoA \n",
      "\n",
      "Enzyme: O-succinylbenzoate-CoA ligase \n",
      "\n",
      "Reaction ID & equation: SUCBZL: atp_c + coa_c + sucbz_c --> amp_c + ppi_c + sbzcoa_c \n",
      "\n",
      "Corresponding gene: LLMG_RS09175\n"
     ]
    }
   ],
   "source": [
    "# educt\n",
    "educt = model.metabolites.get_by_id(\"sucbz_c\") #edit here\n",
    "print(f\"Educt: {educt.name} \\n\")\n",
    "\n",
    "# product\n",
    "product = model.metabolites.get_by_id(\"sbzcoa_c\") #edit here\n",
    "print(f\"Product: {product.name} \\n\")\n",
    "\n",
    "# reaction\n",
    "r_name = 'SUCBZL'\n",
    "reaction = model.reactions.get_by_id(r_name) #edit here\n",
    "print(f\"Enzyme: {reaction.name} \\n\") #menE\n",
    "print(f\"Reaction ID & equation: {reaction} \\n\")\n",
    "\n",
    "#gene\n",
    "print(f\"Corresponding gene: {reaction.gene_reaction_rule}\")"
   ]
  },
  {
   "cell_type": "code",
   "execution_count": 25,
   "id": "1b397cc0-fca1-4dc1-bd20-1edd84d84fa1",
   "metadata": {
    "tags": []
   },
   "outputs": [
    {
     "name": "stderr",
     "output_type": "stream",
     "text": [
      "/Users/kseniakirdey/anaconda3/lib/python3.11/site-packages/cobra/core/model.py:787: UserWarning: DHNCOAS not in iNF517\n",
      "  warn(f\"{reaction} not in {self}\")\n"
     ]
    }
   ],
   "source": [
    "# third new reaction, completion\n",
    "# https://www.kegg.jp/entry/R07263\n",
    "# http://bigg.ucsd.edu/universal/reactions/SBZCOADH_x\n",
    "# 2-Succinylbenzoyl-CoA <=> 1,4-Dihydroxy-2-naphthoyl-CoA + H2O\n",
    "# h_c + sbzcoa_c ⇌ h2o_c + dhncoa_c, menB\n",
    "\n",
    "model.remove_reactions(['DHNCOAS'])\n",
    "new_reaction3 = Reaction('DHNCOAS') # the enzyme / reaction name from BIGG\n",
    "new_reaction3.name = '4-(2-carboxyphenyl)-4-oxobutanoyl-CoA dehydratase'\n",
    "new_reaction3.gene_reaction_rule = '( LLMG_1831 )'\n",
    "\n",
    "dhncoa = Metabolite(id='14dhncoa_c', compartment='c', name='1,4-Dihydroxy-2-naphthoyl-CoA')\n",
    "\n",
    "new_reaction3.add_metabolites({model.metabolites.get_by_id('sbzcoa_c'): -1,\n",
    "                               model.metabolites.get_by_id('h_c'): -1,\n",
    "                               dhncoa: 1,\n",
    "                               model.metabolites.get_by_id('h2o_c'): 1\n",
    "                              })\n",
    "\n",
    "model.add_reactions([new_reaction3])"
   ]
  },
  {
   "cell_type": "code",
   "execution_count": 26,
   "id": "c10b125e-e3e0-480f-ac06-a88f178bbb7c",
   "metadata": {
    "tags": []
   },
   "outputs": [
    {
     "name": "stdout",
     "output_type": "stream",
     "text": [
      "Educt: O-Succinylbenzoyl-CoA \n",
      "\n",
      "Product: 1,4-Dihydroxy-2-naphthoyl-CoA \n",
      "\n",
      "Enzyme: 4-(2-carboxyphenyl)-4-oxobutanoyl-CoA dehydratase \n",
      "\n",
      "Reaction ID & equation: DHNCOAS: h_c + sbzcoa_c --> 14dhncoa_c + h2o_c \n",
      "\n",
      "Corresponding gene: LLMG_1831 \n",
      "\n",
      "Cofactor: hydrogencarbonate\n"
     ]
    }
   ],
   "source": [
    "# educt\n",
    "educt = model.metabolites.get_by_id(\"sbzcoa_c\") #edit here\n",
    "print(f\"Educt: {educt.name} \\n\")\n",
    "\n",
    "# product\n",
    "product = model.metabolites.get_by_id(\"14dhncoa_c\") #edit here\n",
    "print(f\"Product: {product.name} \\n\")\n",
    "\n",
    "# reaction\n",
    "r_name = 'DHNCOAS'\n",
    "reaction = model.reactions.get_by_id(r_name) #edit here\n",
    "print(f\"Enzyme: {reaction.name} \\n\")\n",
    "print(f\"Reaction ID & equation: {reaction} \\n\")\n",
    "\n",
    "#gene\n",
    "print(f\"Corresponding gene: {reaction.gene_reaction_rule} \\n\")\n",
    "\n",
    "# cofactors\n",
    "# https://www.uniprot.org/uniprotkb/A0A514Z8E9/entry\n",
    "print(\"Cofactor: hydrogencarbonate\")"
   ]
  },
  {
   "cell_type": "code",
   "execution_count": 27,
   "id": "2ed7617b-5dee-4849-b0e4-b16a9e67f7b0",
   "metadata": {
    "tags": []
   },
   "outputs": [
    {
     "name": "stderr",
     "output_type": "stream",
     "text": [
      "/Users/kseniakirdey/anaconda3/lib/python3.11/site-packages/cobra/core/model.py:787: UserWarning: NPHS_c not in iNF517\n",
      "  warn(f\"{reaction} not in {self}\")\n"
     ]
    }
   ],
   "source": [
    "# fourth new reaction, completion\n",
    "# https://www.kegg.jp/entry/R07262\n",
    "# http://bigg.ucsd.edu/universal/reactions/NPHS_x\n",
    "# 1,4-Dihydroxy-2-naphthoyl-CoA + H2O <=> 1,4-Dihydroxy-2-naphthoate + CoA\n",
    "# h2o_c + 14dhncoa_c ⇌ coa_c + h_c + dhna_c, FabZ\n",
    "\n",
    "model.remove_reactions(['NPHS_c'])\n",
    "new_reaction4 = Reaction('NPHS_c') # the enzyme / reaction name from BIGG\n",
    "new_reaction4.name = '1,4-dihydroxy-2-naphthoyl-CoA hydrolase'\n",
    "new_reaction4.gene_reaction_rule = '( LLMG_1834 )'\n",
    "\n",
    "new_reaction4.add_metabolites({model.metabolites.get_by_id('h2o_c'): -1,\n",
    "                               model.metabolites.get_by_id('14dhncoa_c'): -1,\n",
    "                               model.metabolites.get_by_id('coa_c'): 1,\n",
    "                               model.metabolites.get_by_id('h_c'): 1,\n",
    "                               model.metabolites.get_by_id('dhna_c'): 1\n",
    "                              })\n",
    "\n",
    "model.add_reactions([new_reaction4])"
   ]
  },
  {
   "cell_type": "code",
   "execution_count": 28,
   "id": "5433b84c-adc1-4871-996f-2135d71c6248",
   "metadata": {
    "tags": []
   },
   "outputs": [
    {
     "name": "stdout",
     "output_type": "stream",
     "text": [
      "Educt: 1,4-Dihydroxy-2-naphthoyl-CoA \n",
      "\n",
      "Product: 1,4-Dihydroxy-2-naphthoate \n",
      "\n",
      "Enzyme: 1,4-dihydroxy-2-naphthoyl-CoA hydrolase \n",
      "\n",
      "Reaction ID & equation: NPHS_c: 14dhncoa_c + h2o_c --> coa_c + dhna_c + h_c \n",
      "\n",
      "Corresponding gene: LLMG_1834\n"
     ]
    }
   ],
   "source": [
    "# educt\n",
    "educt = model.metabolites.get_by_id(\"14dhncoa_c\") #edit here\n",
    "print(f\"Educt: {educt.name} \\n\")\n",
    "\n",
    "# product\n",
    "product = model.metabolites.get_by_id(\"dhna_c\") #edit here\n",
    "print(f\"Product: {product.name} \\n\")\n",
    "\n",
    "# reaction\n",
    "r_name = 'NPHS_c'\n",
    "reaction = model.reactions.get_by_id(r_name) #edit here\n",
    "print(f\"Enzyme: {reaction.name} \\n\")\n",
    "print(f\"Reaction ID & equation: {reaction} \\n\")\n",
    "\n",
    "#gene\n",
    "print(f\"Corresponding gene: {reaction.gene_reaction_rule}\")"
   ]
  },
  {
   "cell_type": "markdown",
   "id": "b6a515d2-327f-4595-96eb-9bd6d8d049a9",
   "metadata": {
    "tags": []
   },
   "source": [
    "## Polyprenyl pathway"
   ]
  },
  {
   "cell_type": "code",
   "execution_count": 29,
   "id": "533c9597-5408-42df-a4db-a5ca494802e3",
   "metadata": {
    "tags": []
   },
   "outputs": [
    {
     "name": "stdout",
     "output_type": "stream",
     "text": [
      "Educt: Dimethylallyl diphosphate \n",
      "\n",
      "Product: Geranyl diphosphate \n",
      "\n",
      "Enzyme: Dimethylallyltranstransferase \n",
      "\n",
      "Reaction ID & equation: DMATT: dmpp_c + ipdp_c --> grdp_c + ppi_c \n",
      "\n",
      "Corresponding gene: LLMG_RS08500\n"
     ]
    }
   ],
   "source": [
    "# educt\n",
    "educt = model.metabolites.get_by_id(\"dmpp_c\") #edit here\n",
    "print(f\"Educt: {educt.name} \\n\")\n",
    "\n",
    "# product\n",
    "product = model.metabolites.get_by_id(\"grdp_c\") #edit here\n",
    "print(f\"Product: {product.name} \\n\")\n",
    "\n",
    "#reaction\n",
    "r_name = 'DMATT'\n",
    "reaction = model.reactions.get_by_id(r_name) #edit here\n",
    "print(f\"Enzyme: {reaction.name} \\n\") #ispA\n",
    "print(f\"Reaction ID & equation: {reaction} \\n\")\n",
    "\n",
    "#gene\n",
    "print(f\"Corresponding gene: {reaction.gene_reaction_rule}\")"
   ]
  },
  {
   "cell_type": "code",
   "execution_count": 30,
   "id": "a19f3726-7daa-45b6-b98f-f73462b347a9",
   "metadata": {
    "tags": []
   },
   "outputs": [
    {
     "name": "stdout",
     "output_type": "stream",
     "text": [
      "Educt: Geranyl diphosphate \n",
      "\n",
      "Product: Farnesyl diphosphate \n",
      "\n",
      "Enzyme: Geranyltranstransferase \n",
      "\n",
      "Reaction ID & equation: GRTT: grdp_c + ipdp_c --> frdp_c + ppi_c \n",
      "\n",
      "Corresponding gene: LLMG_RS08500\n"
     ]
    }
   ],
   "source": [
    "# educt\n",
    "educt = model.metabolites.get_by_id(\"grdp_c\") #edit here\n",
    "print(f\"Educt: {educt.name} \\n\")\n",
    "\n",
    "# product\n",
    "product = model.metabolites.get_by_id(\"frdp_c\") #edit here\n",
    "print(f\"Product: {product.name} \\n\")\n",
    "\n",
    "#reaction\n",
    "r_name = 'GRTT'\n",
    "reaction = model.reactions.get_by_id(r_name) #edit here\n",
    "print(f\"Enzyme: {reaction.name} \\n\") #ispA\n",
    "print(f\"Reaction ID & equation: {reaction} \\n\")\n",
    "\n",
    "#gene\n",
    "print(f\"Corresponding gene: {reaction.gene_reaction_rule}\")"
   ]
  },
  {
   "cell_type": "code",
   "execution_count": 31,
   "id": "70cd3d8c-53bc-4320-9779-ceab2db71215",
   "metadata": {
    "tags": []
   },
   "outputs": [
    {
     "name": "stdout",
     "output_type": "stream",
     "text": [
      "Educt: Farnesyl diphosphate \n",
      "\n",
      "Product: Undecaprenyl diphosphate \n",
      "\n",
      "Enzyme: Undecaprenyl diphosphate synthase \n",
      "\n",
      "Reaction ID & equation: UDCPDPS: frdp_c + 8.0 ipdp_c --> 8.0 ppi_c + udcpdp_c \n",
      "\n",
      "Corresponding gene: LLMG_RS05635 and LLMG_RS12110\n",
      "Cofactor: Mg2+\n"
     ]
    }
   ],
   "source": [
    "# educt\n",
    "educt = model.metabolites.get_by_id(\"frdp_c\") #edit here\n",
    "print(f\"Educt: {educt.name} \\n\")\n",
    "\n",
    "# product\n",
    "product = model.metabolites.get_by_id(\"udcpdp_c\") #edit here\n",
    "print(f\"Product: {product.name} \\n\")\n",
    "\n",
    "#reaction\n",
    "r_name = 'UDCPDPS'\n",
    "reaction = model.reactions.get_by_id(r_name) #edit here\n",
    "print(f\"Enzyme: {reaction.name} \\n\") #uppS\n",
    "print(f\"Reaction ID & equation: {reaction} \\n\")\n",
    "\n",
    "#gene\n",
    "print(f\"Corresponding gene: {reaction.gene_reaction_rule}\")\n",
    "\n",
    "# cofactors\n",
    "# https://www.uniprot.org/uniprotkb/A2RNT5/entry\n",
    "print(\"Cofactor: Mg2+\")"
   ]
  },
  {
   "cell_type": "code",
   "execution_count": 32,
   "id": "b8e75c5e-8403-42cb-a188-163bd4b4ea1b",
   "metadata": {
    "tags": []
   },
   "outputs": [
    {
     "name": "stdout",
     "output_type": "stream",
     "text": [
      "Educt: Farnesyl diphosphate \n",
      "\n",
      "Educt: Isopentenyl diphosphate \n",
      "\n",
      "Product: Diphosphate \n",
      "\n",
      "Enzyme: Prenyl transferase \n",
      "\n",
      "Reaction ID & equation: PREN: frdp_c + 4.0 ipdp_c --> hepdp_c + 4.0 ppi_c \n",
      "\n",
      "Corresponding gene: LLMG_RS01035\n"
     ]
    }
   ],
   "source": [
    "# educt 1\n",
    "educt1 = model.metabolites.get_by_id(\"frdp_c\") #edit here\n",
    "print(f\"Educt: {educt1.name} \\n\")\n",
    "\n",
    "# educt 2\n",
    "educt2 = model.metabolites.get_by_id(\"ipdp_c\") #edit here\n",
    "print(f\"Educt: {educt2.name} \\n\")\n",
    "\n",
    "# product\n",
    "product = model.metabolites.get_by_id(\"ppi_c\") #edit here\n",
    "print(f\"Product: {product.name} \\n\")\n",
    "\n",
    "#reaction\n",
    "r_name = 'PREN'\n",
    "reaction = model.reactions.get_by_id(r_name) #edit here\n",
    "print(f\"Enzyme: {reaction.name} \\n\") #uppS\n",
    "print(f\"Reaction ID & equation: {reaction} \\n\")\n",
    "\n",
    "#gene\n",
    "print(f\"Corresponding gene: {reaction.gene_reaction_rule}\")"
   ]
  },
  {
   "cell_type": "markdown",
   "id": "4d03c6c2-abbd-4f73-928d-ec5176301e0d",
   "metadata": {},
   "source": [
    "## Merging PPP and MQ pathways"
   ]
  },
  {
   "cell_type": "code",
   "execution_count": 33,
   "id": "81f0cbcb-c0ab-4831-8fe2-7ee37c031625",
   "metadata": {
    "tags": []
   },
   "outputs": [
    {
     "name": "stderr",
     "output_type": "stream",
     "text": [
      "/Users/kseniakirdey/anaconda3/lib/python3.11/site-packages/cobra/core/model.py:787: UserWarning: DHNAOT7 not in iNF517\n",
      "  warn(f\"{reaction} not in {self}\")\n"
     ]
    }
   ],
   "source": [
    "# fifth reaction, engineering or completion - ? In KEGG, there's just a reaciton, without the number (7). \n",
    "# adding this reaction to obtain 2dmmq7_c from somewhere\n",
    "# not found in L. lactis though\n",
    "# https://www.kegg.jp/entry/R10757\n",
    "# http://bigg.ucsd.edu/universal/reactions/DHNAOT7\n",
    "# dhna_c + nad_c + hepdp_c ⇌ co2_c + nadh_c + ppi_c + 2dmmq7_c, menA\n",
    "\n",
    "model.remove_reactions(['DHNAOT7'])\n",
    "new_reaction5 = Reaction('DHNAOT7') \n",
    "new_reaction5.name = '1,4-dihydroxy-2-naphthoate octaprenyltransferase'\n",
    "new_reaction5.gene_reaction_rule = '( LLMG_0197 )'\n",
    "\n",
    "dmmq7 = Metabolite(id='2dmmq7_c', compartment='c', name='2-Demethylmenaquinol-7')\n",
    "\n",
    "new_reaction5.add_metabolites({model.metabolites.get_by_id('dhna_c'): -1,\n",
    "                               model.metabolites.get_by_id('nad_c'): -1,\n",
    "                               model.metabolites.get_by_id('hepdp_c'): -1,\n",
    "                               model.metabolites.get_by_id('co2_c'): 1,\n",
    "                               model.metabolites.get_by_id('nadh_c'): 1,\n",
    "                               model.metabolites.get_by_id('ppi_c'): 1,\n",
    "                               dmmq7: 1\n",
    "                              })\n",
    "\n",
    "model.add_reactions([new_reaction5])"
   ]
  },
  {
   "cell_type": "code",
   "execution_count": 34,
   "id": "3b34595e-dcfb-4ad5-881e-0797bb526f4b",
   "metadata": {
    "tags": []
   },
   "outputs": [
    {
     "name": "stdout",
     "output_type": "stream",
     "text": [
      "Educt: All-trans-Heptaprenyl diphosphate \n",
      "\n",
      "Product: 2-Demethylmenaquinol-7 \n",
      "\n",
      "Enzyme: 1,4-dihydroxy-2-naphthoate octaprenyltransferase \n",
      "\n",
      "Reaction ID & equation: DHNAOT7: dhna_c + hepdp_c + nad_c --> 2dmmq7_c + co2_c + nadh_c + ppi_c \n",
      "\n",
      "Corresponding gene: LLMG_0197\n"
     ]
    }
   ],
   "source": [
    "# educt\n",
    "educt = model.metabolites.get_by_id(\"hepdp_c\") #edit here\n",
    "print(f\"Educt: {educt.name} \\n\")\n",
    "\n",
    "# product\n",
    "product = model.metabolites.get_by_id(\"2dmmq7_c\") #edit here\n",
    "print(f\"Product: {product.name} \\n\")\n",
    "\n",
    "#reaction\n",
    "r_name = 'DHNAOT7'\n",
    "reaction = model.reactions.get_by_id(r_name) #edit here\n",
    "print(f\"Enzyme: {reaction.name} \\n\")\n",
    "print(f\"Reaction ID & equation: {reaction} \\n\")\n",
    "\n",
    "#gene\n",
    "print(f\"Corresponding gene: {reaction.gene_reaction_rule}\")"
   ]
  },
  {
   "cell_type": "code",
   "execution_count": 35,
   "id": "8507c15c-b6cb-4adb-853b-adca72180eee",
   "metadata": {
    "tags": []
   },
   "outputs": [
    {
     "name": "stderr",
     "output_type": "stream",
     "text": [
      "/Users/kseniakirdey/anaconda3/lib/python3.11/site-packages/cobra/core/model.py:787: UserWarning: AMMQT7 not in iNF517\n",
      "  warn(f\"{reaction} not in {self}\")\n"
     ]
    }
   ],
   "source": [
    "# sixth reaction, completion\n",
    "# https://www.kegg.jp/entry/R09736\n",
    "# http://bigg.ucsd.edu/universal/reactions/AMMQT7\n",
    "# amet_c + nadph_c + 2dmmq7_c ⇌ ahcys_c + nadp_c + mql7_c, UbiE, MenG \n",
    "\n",
    "model.remove_reactions(['AMMQT7'])\n",
    "new_reaction6 = Reaction('AMMQT7') \n",
    "new_reaction6.name = 'Demethylmenaquinol methyltransferase'\n",
    "new_reaction6.gene_reaction_rule = '( LLMG_0753 )'\n",
    "\n",
    "\n",
    "new_reaction6.add_metabolites({model.metabolites.get_by_id('amet_c'): -1,\n",
    "                               model.metabolites.get_by_id('nadph_c'): -1,\n",
    "                               model.metabolites.get_by_id('2dmmq7_c'): -1,\n",
    "                               model.metabolites.get_by_id('ahcys_c'): 1,\n",
    "                               model.metabolites.get_by_id('nadp_c'): 1,\n",
    "                               model.metabolites.get_by_id('mql7_c'): 1\n",
    "                              })\n",
    "\n",
    "model.add_reactions([new_reaction6])"
   ]
  },
  {
   "cell_type": "code",
   "execution_count": 36,
   "id": "cad0bf3c-6758-4985-b0cf-53c1a038bac1",
   "metadata": {
    "tags": []
   },
   "outputs": [
    {
     "name": "stdout",
     "output_type": "stream",
     "text": [
      "Educt: 2-Demethylmenaquinol-7 \n",
      "\n",
      "Product: Menaquinol 7 C46H66O2 \n",
      "\n",
      "Enzyme: Demethylmenaquinol methyltransferase \n",
      "\n",
      "Reaction ID & equation: AMMQT7: 2dmmq7_c + amet_c + nadph_c --> ahcys_c + mql7_c + nadp_c \n",
      "\n",
      "Corresponding gene: LLMG_0753\n"
     ]
    }
   ],
   "source": [
    "# educt\n",
    "educt = model.metabolites.get_by_id(\"2dmmq7_c\") #edit here\n",
    "print(f\"Educt: {educt.name} \\n\")\n",
    "\n",
    "# product\n",
    "product = model.metabolites.get_by_id(\"mql7_c\") #edit here\n",
    "print(f\"Product: {product.name} \\n\")\n",
    "\n",
    "#reaction\n",
    "r_name = 'AMMQT7'\n",
    "reaction = model.reactions.get_by_id(r_name) #edit here\n",
    "print(f\"Enzyme: {reaction.name} \\n\")\n",
    "print(f\"Reaction ID & equation: {reaction} \\n\")\n",
    "\n",
    "#gene\n",
    "print(f\"Corresponding gene: {reaction.gene_reaction_rule}\")"
   ]
  },
  {
   "cell_type": "markdown",
   "id": "51f10b65-619a-43a9-9348-b830d2f4c0e4",
   "metadata": {},
   "source": [
    "NOTHING about the epoxide reaction. Probably, could skip this one.. \\\n",
    "Added the reactions from BIGG that do the conversion mql7_c ⇌ mqn7_c"
   ]
  },
  {
   "cell_type": "code",
   "execution_count": 37,
   "id": "4fe83ffd-2c93-4ad4-a8dc-4181d5e4c15a",
   "metadata": {},
   "outputs": [],
   "source": [
    "# seventh reaction, engineering\n",
    "# https://www.kegg.jp/entry/R09991\n",
    "# http://bigg.ucsd.edu/universal/reactions/FADMQOR - not for mql7, but for mql8\n",
    "# fadh2_c + mqn7_c ⇌ fad_c + mql7_c\n",
    "\n",
    "new_reaction7 = Reaction('FADMQOR')\n",
    "new_reaction7.name = 'Menaquinone:FAD oxidoreductase' \n",
    "\n",
    "new_reaction7.add_metabolites({model.metabolites.get_by_id('mql7_c'): -1,\n",
    "                               model.metabolites.get_by_id('fad_c'): -1,\n",
    "                               model.metabolites.get_by_id('mqn7_c'): 1,\n",
    "                               model.metabolites.get_by_id('fadh2_c'): 1\n",
    "                              })\n",
    "\n",
    "model.add_reactions([new_reaction7])"
   ]
  },
  {
   "cell_type": "code",
   "execution_count": 38,
   "id": "fb7a9e18-ec7f-46be-9a14-cbaef597e34e",
   "metadata": {
    "tags": []
   },
   "outputs": [],
   "source": [
    "# eighth reaction, engineering\n",
    "# http://bigg.ucsd.edu/universal/reactions/POX3\n",
    "# h2o_c + pyr_c + mqn7_c ⇌ ac_c + co2_c + mql7_c\n",
    "\n",
    "new_reaction8 = Reaction('POX3') \n",
    "new_reaction8.name = 'Pyruvate:menaquinone oxidoreductase'\n",
    "\n",
    "new_reaction8.add_metabolites({model.metabolites.get_by_id('ac_c'): -1,\n",
    "                               model.metabolites.get_by_id('co2_c'): -1,\n",
    "                               model.metabolites.get_by_id('mql7_c'): -1,\n",
    "                               model.metabolites.get_by_id('h2o_c'): 1,\n",
    "                               model.metabolites.get_by_id('pyr_c'): 1,\n",
    "                               model.metabolites.get_by_id('mqn7_c'): 1\n",
    "                              })\n",
    "\n",
    "model.add_reactions([new_reaction8])"
   ]
  },
  {
   "cell_type": "code",
   "execution_count": 39,
   "id": "49dfe5c9-72d3-43bf-a832-c76f7fe58d9f",
   "metadata": {
    "tags": []
   },
   "outputs": [],
   "source": [
    "# ninth reaction, engineering\n",
    "# http://bigg.ucsd.edu/universal/reactions/MQNS\n",
    "# https://www.uniprot.org/uniprotkb/Q9CF18/entry - enzyme in Lactococcus lactis IL1403\n",
    "# amet_c + 2dmmq7_c ⇌ ahcys_c + h_c + mqn7_c\n",
    "\n",
    "new_reaction9 = Reaction('MQNS')\n",
    "new_reaction9.name = '1,4-dihydroxy-2-naphthoate octaprenyltransferase'\n",
    "\n",
    "new_reaction9.add_metabolites({model.metabolites.get_by_id('amet_c'): -1,\n",
    "                               model.metabolites.get_by_id('2dmmq7_c'): -1,\n",
    "                               model.metabolites.get_by_id('ahcys_c'): 1,\n",
    "                               model.metabolites.get_by_id('h_c'): 1,\n",
    "                               model.metabolites.get_by_id('mqn7_c'): 1\n",
    "                              })\n",
    "\n",
    "model.add_reactions([new_reaction9])"
   ]
  },
  {
   "cell_type": "markdown",
   "id": "d0f6784e-06fe-446a-bde9-766a4c793c13",
   "metadata": {},
   "source": [
    "Bounds code cell for the future:"
   ]
  },
  {
   "cell_type": "code",
   "execution_count": 40,
   "id": "9e2541ab-2e57-4ac7-a561-93b1d90ddc5d",
   "metadata": {
    "tags": []
   },
   "outputs": [
    {
     "data": {
      "text/plain": [
       "(0.0, 1000.0)"
      ]
     },
     "execution_count": 40,
     "metadata": {},
     "output_type": "execute_result"
    }
   ],
   "source": [
    "reaction_name = \"MQNS\"\n",
    "reaction = model.reactions.get_by_id(reaction_name)\n",
    "new_lower_bound = 0.0\n",
    "reaction.lower_bound = new_lower_bound\n",
    "model.reactions.MQNS.bounds"
   ]
  },
  {
   "cell_type": "code",
   "execution_count": 41,
   "id": "9dae7604-ef78-4d28-a59f-e37f4fc201e9",
   "metadata": {},
   "outputs": [
    {
     "data": {
      "text/plain": [
       "0.03999999999999984"
      ]
     },
     "execution_count": 41,
     "metadata": {},
     "output_type": "execute_result"
    }
   ],
   "source": [
    "model.add_boundary(model.metabolites.mqn7_c, type='demand')\n",
    "model.objective = model.reactions.DM_mqn7_c\n",
    "production_mqn7c = model.optimize().objective_value\n",
    "production_mqn7c"
   ]
  },
  {
   "cell_type": "markdown",
   "id": "d60e4ae3-5c5d-4d8a-b5c1-c67e9d8a80bb",
   "metadata": {},
   "source": [
    "https://link.springer.com/article/10.1007/s00726-010-0507-5"
   ]
  },
  {
   "cell_type": "markdown",
   "id": "d0661007-9c95-41b2-b51a-e11b7f93867b",
   "metadata": {},
   "source": [
    "# Mevalonate pathway"
   ]
  },
  {
   "cell_type": "code",
   "execution_count": 42,
   "id": "8802a35c",
   "metadata": {},
   "outputs": [
    {
     "name": "stdout",
     "output_type": "stream",
     "text": [
      "Educt: Acetyl-CoA \n",
      "\n",
      "Product: Acetoacetyl-CoA \n",
      "\n",
      "Enzyme: Acetyl-CoA C-acetyltransferase \n",
      "\n",
      "Reaction ID & equation: ACACT1r: 2.0 accoa_c <=> aacoa_c + coa_c \n",
      "\n",
      "Corresponding gene: LLMG_RS04745\n"
     ]
    }
   ],
   "source": [
    "# educt\n",
    "educt = model.metabolites.get_by_id(\"accoa_c\") #edit here\n",
    "print(f\"Educt: {educt.name} \\n\")\n",
    "\n",
    "# product\n",
    "product = model.metabolites.get_by_id(\"aacoa_c\") #edit here\n",
    "print(f\"Product: {product.name} \\n\")\n",
    "\n",
    "# reaction\n",
    "#for reaction in educt.reactions:\n",
    "#    print(reaction, reaction.name)\n",
    "reaction = model.reactions.ACACT1r #edit here\n",
    "print(f\"Enzyme: {reaction.name} \\n\")\n",
    "print(f\"Reaction ID & equation: {reaction} \\n\")\n",
    "\n",
    "#gene\n",
    "print(f\"Corresponding gene: {reaction.gene_reaction_rule}\")"
   ]
  },
  {
   "cell_type": "code",
   "execution_count": 43,
   "id": "03a9e6c3",
   "metadata": {},
   "outputs": [
    {
     "name": "stdout",
     "output_type": "stream",
     "text": [
      "Educt: Hydroxymethylglutaryl CoA C27H39N7O20P3S \n",
      "\n",
      "Product: Hydroxymethylglutaryl CoA C27H39N7O20P3S \n",
      "\n",
      "Enzyme: Hydroxymethylglutaryl CoA synthase \n",
      "\n",
      "Reaction ID & equation: HMGCOAS: coa_c + h_c + hmgcoa_c <=> aacoa_c + accoa_c + h2o_c \n",
      "\n",
      "Corresponding gene: LLMG_RS04740\n"
     ]
    }
   ],
   "source": [
    "# educt\n",
    "educt = model.metabolites.get_by_id(\"hmgcoa_c\") #edit here\n",
    "print(f\"Educt: {educt.name} \\n\")\n",
    "\n",
    "# product\n",
    "product = model.metabolites.get_by_id(\"hmgcoa_c\") #edit here\n",
    "print(f\"Product: {product.name} \\n\")\n",
    "\n",
    "# reaction\n",
    "#for reaction in educt.reactions:\n",
    "#    print(reaction, reaction.name)\n",
    "reaction = model.reactions.HMGCOAS #edit here\n",
    "print(f\"Enzyme: {reaction.name} \\n\")\n",
    "print(f\"Reaction ID & equation: {reaction} \\n\")\n",
    "\n",
    "#gene\n",
    "print(f\"Corresponding gene: {reaction.gene_reaction_rule}\")"
   ]
  },
  {
   "cell_type": "code",
   "execution_count": 44,
   "id": "f8363b65",
   "metadata": {},
   "outputs": [
    {
     "name": "stdout",
     "output_type": "stream",
     "text": [
      "Educt:  R  Mevalonate C6H11O4 \n",
      "\n",
      "Product:  R  Mevalonate C6H11O4 \n",
      "\n",
      "Enzyme: Hydroxymethylglutaryl CoA reductase \n",
      "\n",
      "Reaction ID & equation: HMGCOAR: coa_c + mev__R_c + 2.0 nadp_c <=> 2.0 h_c + hmgcoa_c + 2.0 nadph_c \n",
      "\n",
      "Corresponding gene: LLMG_RS04750\n"
     ]
    }
   ],
   "source": [
    "# educt\n",
    "educt = model.metabolites.get_by_id(\"mev__R_c\") #edit here\n",
    "print(f\"Educt: {educt.name} \\n\")\n",
    "\n",
    "# product\n",
    "product = model.metabolites.get_by_id(\"mev__R_c\") #edit here\n",
    "print(f\"Product: {product.name} \\n\")\n",
    "\n",
    "# reaction\n",
    "#for reaction in educt.reactions:\n",
    "#    print(reaction, reaction.name)\n",
    "reaction = model.reactions.HMGCOAR #edit here\n",
    "print(f\"Enzyme: {reaction.name} \\n\")\n",
    "print(f\"Reaction ID & equation: {reaction} \\n\")\n",
    "\n",
    "#gene\n",
    "print(f\"Corresponding gene: {reaction.gene_reaction_rule}\")"
   ]
  },
  {
   "cell_type": "code",
   "execution_count": 45,
   "id": "a19775d9",
   "metadata": {},
   "outputs": [
    {
     "name": "stdout",
     "output_type": "stream",
     "text": [
      "Educt:  R  5 Phosphomevalonate C6H10O7P \n",
      "\n",
      "Product:  R  5 Phosphomevalonate C6H10O7P \n",
      "\n",
      "Enzyme: Mevalonate kinase  atp \n",
      "\n",
      "Reaction ID & equation: MEVK1: atp_c + mev__R_c --> 5pmev_c + adp_c + h_c \n",
      "\n",
      "Corresponding gene: LLMG_RS02170\n"
     ]
    }
   ],
   "source": [
    "# educt\n",
    "educt = model.metabolites.get_by_id(\"5pmev_c\") #edit here\n",
    "print(f\"Educt: {educt.name} \\n\")\n",
    "\n",
    "# product\n",
    "product = model.metabolites.get_by_id(\"5pmev_c\") #edit here\n",
    "print(f\"Product: {product.name} \\n\")\n",
    "\n",
    "# reaction\n",
    "#for reaction in educt.reactions:\n",
    "#    print(reaction, reaction.name)\n",
    "reaction = model.reactions.MEVK1 #edit here\n",
    "print(f\"Enzyme: {reaction.name} \\n\")\n",
    "print(f\"Reaction ID & equation: {reaction} \\n\")\n",
    "\n",
    "#gene\n",
    "print(f\"Corresponding gene: {reaction.gene_reaction_rule}\")"
   ]
  },
  {
   "cell_type": "code",
   "execution_count": 46,
   "id": "2ff3595f",
   "metadata": {},
   "outputs": [
    {
     "name": "stdout",
     "output_type": "stream",
     "text": [
      "Educt: Isopentenyl diphosphate \n",
      "\n",
      "Product: Isopentenyl diphosphate \n",
      "\n",
      "Enzyme: Diphosphomevalonate decarboxylase \n",
      "\n",
      "Reaction ID & equation: DPMVD: 5dpmev_c + atp_c --> adp_c + co2_c + ipdp_c + pi_c \n",
      "\n",
      "Corresponding gene: LLMG_RS02175\n"
     ]
    }
   ],
   "source": [
    "# educt\n",
    "educt = model.metabolites.get_by_id(\"ipdp_c\") #edit here\n",
    "print(f\"Educt: {educt.name} \\n\")\n",
    "\n",
    "# product\n",
    "product = model.metabolites.get_by_id(\"ipdp_c\") #edit here\n",
    "print(f\"Product: {product.name} \\n\")\n",
    "\n",
    "# reaction\n",
    "#for reaction in educt.reactions:\n",
    "#    print(reaction, reaction.name)\n",
    "reaction = model.reactions.DPMVD #edit here\n",
    "print(f\"Enzyme: {reaction.name} \\n\")\n",
    "print(f\"Reaction ID & equation: {reaction} \\n\")\n",
    "\n",
    "#gene\n",
    "print(f\"Corresponding gene: {reaction.gene_reaction_rule}\")"
   ]
  },
  {
   "cell_type": "markdown",
   "id": "9ad1f63b-b0ed-4a35-bf78-c9d449d97be4",
   "metadata": {},
   "source": [
    "### The mavalonate pathway is complete"
   ]
  },
  {
   "cell_type": "markdown",
   "id": "b038a9c9-3e0f-4b2f-aeb7-cf4fc2c7e743",
   "metadata": {},
   "source": [
    "## Shikimate pathway"
   ]
  },
  {
   "cell_type": "code",
   "execution_count": 47,
   "id": "d6069253-8207-4ad1-85d5-12e165fe03f1",
   "metadata": {},
   "outputs": [
    {
     "name": "stdout",
     "output_type": "stream",
     "text": [
      "Educt 1: D-Erythrose 4-phosphate \n",
      "\n",
      "Educt 2: Phosphoenolpyruvate \n",
      "\n",
      "Product: 2-Dehydro-3-deoxy-D-arabino-heptonate 7-phosphate \n",
      "\n",
      "Enzyme: 3-deoxy-D-arabino-heptulosonate 7-phosphate synthetase \n",
      "\n",
      "Reaction ID & equation: DDPA: e4p_c + h2o_c + pep_c --> 2dda7p_c + pi_c \n",
      "\n",
      "Corresponding gene: LLMG_RS00665 or LLMG_RS06200\n"
     ]
    }
   ],
   "source": [
    "# educt 1\n",
    "educt = model.metabolites.get_by_id(\"e4p_c\") #edit here\n",
    "print(f\"Educt 1: {educt.name} \\n\")\n",
    "\n",
    "# educt 2\n",
    "educt = model.metabolites.get_by_id(\"pep_c\") #edit here\n",
    "print(f\"Educt 2: {educt.name} \\n\")\n",
    "\n",
    "# product\n",
    "product = model.metabolites.get_by_id(\"2dda7p_c\") #edit here\n",
    "print(f\"Product: {product.name} \\n\")\n",
    "\n",
    "# reaction\n",
    "#for reaction in educt.reactions:\n",
    "#    print(reaction, reaction.name)\n",
    "reaction = model.reactions.DDPA #edit here\n",
    "print(f\"Enzyme: {reaction.name} \\n\")\n",
    "print(f\"Reaction ID & equation: {reaction} \\n\")\n",
    "\n",
    "#gene\n",
    "print(f\"Corresponding gene: {reaction.gene_reaction_rule}\")"
   ]
  },
  {
   "cell_type": "code",
   "execution_count": 48,
   "id": "7e956101-8f3d-4615-a03e-b3fd9e8eb6be",
   "metadata": {},
   "outputs": [
    {
     "name": "stdout",
     "output_type": "stream",
     "text": [
      "Educt: 2-Dehydro-3-deoxy-D-arabino-heptonate 7-phosphate \n",
      "\n",
      "Product: 3-Dehydroquinate \n",
      "\n",
      "Enzyme: 3-dehydroquinate synthase \n",
      "\n",
      "Reaction ID & equation: DHQS: 2dda7p_c --> 3dhq_c + pi_c \n",
      "\n",
      "Corresponding gene: LLMG_RS09700\n"
     ]
    }
   ],
   "source": [
    "# educt\n",
    "educt = model.metabolites.get_by_id(\"2dda7p_c\") #edit here\n",
    "print(f\"Educt: {educt.name} \\n\")\n",
    "\n",
    "# product\n",
    "product = model.metabolites.get_by_id(\"3dhq_c\") #edit here\n",
    "print(f\"Product: {product.name} \\n\")\n",
    "\n",
    "# reaction\n",
    "#for reaction in educt.reactions:\n",
    "#    print(reaction, reaction.name)\n",
    "reaction = model.reactions.DHQS #edit here\n",
    "print(f\"Enzyme: {reaction.name} \\n\")\n",
    "print(f\"Reaction ID & equation: {reaction} \\n\")\n",
    "\n",
    "#gene\n",
    "print(f\"Corresponding gene: {reaction.gene_reaction_rule}\")"
   ]
  },
  {
   "cell_type": "code",
   "execution_count": 49,
   "id": "2e82aa49-ebde-4d14-bd20-8144b9229276",
   "metadata": {},
   "outputs": [
    {
     "name": "stdout",
     "output_type": "stream",
     "text": [
      "Educt: 3-Dehydroquinate \n",
      "\n",
      "Product: 3-Dehydroshikimate \n",
      "\n",
      "Enzyme: 3-dehydroquinate dehydratase, irreversible \n",
      "\n",
      "Reaction ID & equation: DHQTi: 3dhq_c <=> 3dhsk_c + h2o_c \n",
      "\n",
      "Corresponding gene: LLMG_RS04035\n"
     ]
    }
   ],
   "source": [
    "# educt\n",
    "educt = model.metabolites.get_by_id(\"3dhq_c\") #edit here\n",
    "print(f\"Educt: {educt.name} \\n\")\n",
    "\n",
    "# product\n",
    "product = model.metabolites.get_by_id(\"3dhsk_c\") #edit here\n",
    "print(f\"Product: {product.name} \\n\")\n",
    "\n",
    "# reaction\n",
    "#for reaction in educt.reactions:\n",
    "#    print(reaction, reaction.name)\n",
    "reaction = model.reactions.DHQTi #edit here\n",
    "print(f\"Enzyme: {reaction.name} \\n\")\n",
    "print(f\"Reaction ID & equation: {reaction} \\n\")\n",
    "\n",
    "#gene\n",
    "print(f\"Corresponding gene: {reaction.gene_reaction_rule}\")"
   ]
  },
  {
   "cell_type": "code",
   "execution_count": 50,
   "id": "17ad6586-ef44-41b9-900b-365f9dcb9d89",
   "metadata": {},
   "outputs": [
    {
     "name": "stdout",
     "output_type": "stream",
     "text": [
      "Educt: 3-Dehydroshikimate \n",
      "\n",
      "Product: Shikimate \n",
      "\n",
      "Enzyme: Shikimate dehydrogenase \n",
      "\n",
      "Reaction ID & equation: SHK3Dr: 3dhsk_c + h_c + nadph_c <=> nadp_c + skm_c \n",
      "\n",
      "Corresponding gene: LLMG_RS09705\n"
     ]
    }
   ],
   "source": [
    "# educt\n",
    "educt = model.metabolites.get_by_id(\"3dhsk_c\") #edit here\n",
    "print(f\"Educt: {educt.name} \\n\")\n",
    "\n",
    "# product\n",
    "product = model.metabolites.get_by_id(\"skm_c\") #edit here\n",
    "print(f\"Product: {product.name} \\n\")\n",
    "\n",
    "# reaction\n",
    "#for reaction in educt.reactions:\n",
    "#    print(reaction, reaction.name)\n",
    "reaction = model.reactions.SHK3Dr #edit here\n",
    "print(f\"Enzyme: {reaction.name} \\n\")\n",
    "print(f\"Reaction ID & equation: {reaction} \\n\")\n",
    "\n",
    "#gene\n",
    "print(f\"Corresponding gene: {reaction.gene_reaction_rule}\")"
   ]
  },
  {
   "cell_type": "code",
   "execution_count": 51,
   "id": "f94f767a-f581-4b53-ae70-80a8154f7466",
   "metadata": {},
   "outputs": [
    {
     "name": "stdout",
     "output_type": "stream",
     "text": [
      "Educt: Shikimate \n",
      "\n",
      "Product: Shikimate 5-phosphate \n",
      "\n",
      "Enzyme: Shikimate kinase \n",
      "\n",
      "Reaction ID & equation: SHKK: atp_c + skm_c --> adp_c + h_c + skm5p_c \n",
      "\n",
      "Corresponding gene: LLMG_RS09635\n"
     ]
    }
   ],
   "source": [
    "# educt\n",
    "educt = model.metabolites.get_by_id(\"skm_c\") #edit here\n",
    "print(f\"Educt: {educt.name} \\n\")\n",
    "\n",
    "# product\n",
    "product = model.metabolites.get_by_id(\"skm5p_c\") #edit here\n",
    "print(f\"Product: {product.name} \\n\")\n",
    "\n",
    "# reaction\n",
    "#for reaction in educt.reactions:\n",
    "#    print(reaction, reaction.name)\n",
    "reaction = model.reactions.SHKK #edit here\n",
    "print(f\"Enzyme: {reaction.name} \\n\")\n",
    "print(f\"Reaction ID & equation: {reaction} \\n\")\n",
    "\n",
    "#gene\n",
    "print(f\"Corresponding gene: {reaction.gene_reaction_rule}\")"
   ]
  },
  {
   "cell_type": "code",
   "execution_count": 52,
   "id": "67fc030d-5f35-48e8-b3c2-a8b80a9e35f6",
   "metadata": {},
   "outputs": [
    {
     "name": "stdout",
     "output_type": "stream",
     "text": [
      "Educt: Shikimate 5-phosphate \n",
      "\n",
      "Product: 5-O-(1-Carboxyvinyl)-3-phosphoshikimate \n",
      "\n",
      "Enzyme: 3-phosphoshikimate 1-carboxyvinyltransferase \n",
      "\n",
      "Reaction ID & equation: PSCVT: pep_c + skm5p_c <=> 3psme_c + pi_c \n",
      "\n",
      "Corresponding gene: LLMG_RS09640\n"
     ]
    }
   ],
   "source": [
    "# educt\n",
    "educt = model.metabolites.get_by_id(\"skm5p_c\") #edit here\n",
    "print(f\"Educt: {educt.name} \\n\")\n",
    "\n",
    "# product\n",
    "product = model.metabolites.get_by_id(\"3psme_c\") #edit here\n",
    "print(f\"Product: {product.name} \\n\")\n",
    "\n",
    "# reaction\n",
    "#for reaction in educt.reactions:\n",
    "#    print(reaction, reaction.name)\n",
    "reaction = model.reactions.PSCVT #edit here\n",
    "print(f\"Enzyme: {reaction.name} \\n\")\n",
    "print(f\"Reaction ID & equation: {reaction} \\n\")\n",
    "\n",
    "#gene\n",
    "print(f\"Corresponding gene: {reaction.gene_reaction_rule}\")"
   ]
  },
  {
   "cell_type": "code",
   "execution_count": 53,
   "id": "df2f7d29-5ee7-4c3d-ba29-04f2a870b86a",
   "metadata": {},
   "outputs": [
    {
     "name": "stdout",
     "output_type": "stream",
     "text": [
      "Educt: 5-O-(1-Carboxyvinyl)-3-phosphoshikimate \n",
      "\n",
      "Product: Chorismate \n",
      "\n",
      "Enzyme: Chorismate synthase \n",
      "\n",
      "Reaction ID & equation: CHORS: 3psme_c --> chor_c + pi_c \n",
      "\n",
      "Corresponding gene: LLMG_RS09680\n"
     ]
    }
   ],
   "source": [
    "# educt\n",
    "educt = model.metabolites.get_by_id(\"3psme_c\") #edit here\n",
    "print(f\"Educt: {educt.name} \\n\")\n",
    "\n",
    "# product\n",
    "product = model.metabolites.get_by_id(\"chor_c\") #edit here\n",
    "print(f\"Product: {product.name} \\n\")\n",
    "\n",
    "# reaction\n",
    "#for reaction in educt.reactions:\n",
    "#    print(reaction, reaction.name)\n",
    "reaction = model.reactions.CHORS #edit here\n",
    "print(f\"Enzyme: {reaction.name} \\n\")\n",
    "print(f\"Reaction ID & equation: {reaction} \\n\")\n",
    "\n",
    "#gene\n",
    "print(f\"Corresponding gene: {reaction.gene_reaction_rule}\")"
   ]
  },
  {
   "cell_type": "code",
   "execution_count": 54,
   "id": "ae683207-6a1c-454f-996f-49442cdb65e4",
   "metadata": {},
   "outputs": [
    {
     "name": "stdout",
     "output_type": "stream",
     "text": [
      "Educt: Chorismate \n",
      "\n",
      "Product: Isochorismate \n",
      "\n",
      "Enzyme: Isochorismate synthase \n",
      "\n",
      "Reaction ID & equation: ICHORS: chor_c <=> ichor_c \n",
      "\n",
      "Corresponding gene: LLMG_RS09155\n"
     ]
    }
   ],
   "source": [
    "# educt\n",
    "educt = model.metabolites.get_by_id(\"chor_c\") #edit here\n",
    "print(f\"Educt: {educt.name} \\n\")\n",
    "\n",
    "# product\n",
    "product = model.metabolites.get_by_id(\"ichor_c\") #edit here\n",
    "print(f\"Product: {product.name} \\n\")\n",
    "\n",
    "# reaction\n",
    "#for reaction in educt.reactions:\n",
    "#    print(reaction, reaction.name)\n",
    "reaction = model.reactions.ICHORS #edit here\n",
    "print(f\"Enzyme: {reaction.name} \\n\")\n",
    "print(f\"Reaction ID & equation: {reaction} \\n\")\n",
    "\n",
    "#gene\n",
    "print(f\"Corresponding gene: {reaction.gene_reaction_rule}\")"
   ]
  },
  {
   "cell_type": "markdown",
   "id": "f0bd4c4e-fa24-4c6d-8ba2-0509d705ddef",
   "metadata": {},
   "source": [
    "## Model medium"
   ]
  },
  {
   "cell_type": "code",
   "execution_count": 55,
   "id": "8786c040-dd5c-4e9b-a28b-98f58eaaf21d",
   "metadata": {},
   "outputs": [],
   "source": [
    "medium['EX_tyr__L_e'] = 0\n",
    "model.medium = medium"
   ]
  },
  {
   "cell_type": "code",
   "execution_count": 56,
   "id": "7cf08ed4-2641-4d08-9538-25a8857f5150",
   "metadata": {
    "tags": []
   },
   "outputs": [
    {
     "name": "stdout",
     "output_type": "stream",
     "text": [
      "{'EX_4abz_e': 0.00999, 'EX_ade_e': 0.01014, 'EX_ala__L_e': 0.04, 'EX_arg__L_e': 0.02, 'EX_asp__L_e': 0.01, 'EX_co2_e': 1000.0, 'EX_cys__L_e': 0.02, 'EX_fe2_e': 1000.0, 'EX_fe3_e': 1000.0, 'EX_glc__D_e': 2.12, 'EX_glu__L_e': 0.05, 'EX_gly_e': 0.04, 'EX_gua_e': 0.00906, 'EX_h2o_e': 1000.0, 'EX_h_e': 1000.0, 'EX_his__L_e': 0.01, 'EX_ile__L_e': 0.05, 'EX_ins_e': 0.00255, 'EX_leu__L_e': 0.06, 'EX_lys__L_e': 0.04, 'EX_met__L_e': 0.01, 'EX_mn2_e': 1000.0, 'EX_nac_e': 0.00111, 'EX_nh4_e': 0.59, 'EX_orot_e': 0.00439, 'EX_phe__L_e': 0.02, 'EX_pi_e': 1000.0, 'EX_pnto__R_e': 0.00062, 'EX_ribflv_e': 0.00036, 'EX_ser__L_e': 0.11, 'EX_thm_e': 0.00041, 'EX_thr__L_e': 0.06, 'EX_thymd_e': 0.00283, 'EX_ura_e': 0.01222, 'EX_val__L_e': 0.05, 'EX_xan_e': 0.00901, 'EX_zn2_e': 1000.0}\n"
     ]
    }
   ],
   "source": [
    "print(original_medium)"
   ]
  },
  {
   "cell_type": "code",
   "execution_count": 57,
   "id": "f25b5035",
   "metadata": {},
   "outputs": [],
   "source": [
    "model.objective = model.reactions.DM_mqn7_c"
   ]
  },
  {
   "cell_type": "code",
   "execution_count": 58,
   "id": "a94aa4c9-834a-46bc-a2dd-549f5a08c187",
   "metadata": {
    "tags": []
   },
   "outputs": [
    {
     "name": "stdout",
     "output_type": "stream",
     "text": [
      "Increasing EX_ala__L_e to 2.04 results in an objective value > 0.149138184931507\n",
      "Increasing EX_arg__L_e to 1.02 results in an objective value > 0.149138184931507\n",
      "Increasing EX_glu__L_e to 17.05 results in an objective value > 0.149138184931507\n"
     ]
    }
   ],
   "source": [
    "model.medium = original_medium\n",
    "import copy\n",
    "\n",
    "# Get the initial medium\n",
    "initial_medium = copy.deepcopy(model.medium)\n",
    "\n",
    "# Define the step for concentration increase\n",
    "step_size = 1\n",
    "\n",
    "# Define the threshold for the objective value\n",
    "threshold_value = model.optimize().objective_value\n",
    "\n",
    "# Dictionary to store the results\n",
    "metabolite_changes = {}\n",
    "\n",
    "# Iterate over each metabolite in the initial medium\n",
    "for metabolite, concentration in initial_medium.items():\n",
    "    # Copy the initial medium for each iteration\n",
    "    medium_copy = copy.deepcopy(initial_medium)\n",
    "\n",
    "    # Iterate over the increasing steps\n",
    "    for step in range(1, 100):\n",
    "        # Calculate the new concentration\n",
    "        new_concentration = concentration + step_size * step\n",
    "\n",
    "        # Update the medium copy with the new concentration for the current metabolite\n",
    "        medium_copy[metabolite] = new_concentration\n",
    "        model.medium = medium_copy\n",
    "\n",
    "        # Optimize the model and get the objective value\n",
    "        objective_value = model.optimize().objective_value\n",
    "\n",
    "        # Check if the objective value exceeds the threshold\n",
    "        if objective_value > threshold_value:\n",
    "            metabolite_changes[metabolite] = new_concentration\n",
    "            threshold_value = objective_value\n",
    "\n",
    "# Print the results\n",
    "for metabolite, concentration in metabolite_changes.items():\n",
    "    print(f\"Increasing {metabolite} to {concentration} results in an objective value > {threshold_value}\")"
   ]
  },
  {
   "cell_type": "code",
   "execution_count": 59,
   "id": "0b219cb3-cade-4e8f-ae38-08772ff29b25",
   "metadata": {
    "tags": []
   },
   "outputs": [
    {
     "name": "stdout",
     "output_type": "stream",
     "text": [
      "Increasing EX_glu__L_e to 17.05 results in an objective value > 0.14913818493150674\n"
     ]
    }
   ],
   "source": [
    "model.medium = original_medium\n",
    "import copy\n",
    "\n",
    "# Get the initial medium\n",
    "initial_medium = copy.deepcopy(model.medium)\n",
    "\n",
    "# Define the step for concentration increase\n",
    "step_size = 1\n",
    "\n",
    "# Define the threshold for the objective value\n",
    "threshold_value = model.optimize().objective_value\n",
    "\n",
    "# Dictionary to store the results\n",
    "metabolite_changes = {}\n",
    "\n",
    "glu_amounts = []\n",
    "obj_val_glu = []\n",
    "\n",
    "# Iterate over each metabolite in the initial medium\n",
    "for metabolite, concentration in initial_medium.items():\n",
    "    if metabolite == \"EX_glu__L_e\":\n",
    "        # Copy the initial medium for each iteration\n",
    "        medium_copy = copy.deepcopy(initial_medium)\n",
    "        \n",
    "        # Iterate over the increasing steps\n",
    "        for step in range(1, 30):\n",
    "            # Calculate the new concentration\n",
    "            new_concentration = concentration + step_size * step\n",
    "            glu_amounts.append(new_concentration)\n",
    "\n",
    "            # Update the medium copy with the new concentration for the current metabolite\n",
    "            medium_copy[metabolite] = new_concentration\n",
    "            model.medium = medium_copy\n",
    "\n",
    "            # Optimize the model and get the objective value\n",
    "            objective_value = model.optimize().objective_value\n",
    "            obj_val_glu.append(objective_value)\n",
    "\n",
    "            # Check if the objective value exceeds the threshold\n",
    "            if objective_value > threshold_value:\n",
    "                metabolite_changes[metabolite] = new_concentration\n",
    "                threshold_value = objective_value\n",
    "\n",
    "# Print the results\n",
    "for metabolite, concentration in metabolite_changes.items():\n",
    "    print(f\"Increasing {metabolite} to {concentration} results in an objective value > {threshold_value}\")"
   ]
  },
  {
   "cell_type": "code",
   "execution_count": 60,
   "id": "8cded01e-2283-4799-a59b-f07ffa816145",
   "metadata": {
    "tags": []
   },
   "outputs": [
    {
     "data": {
      "image/png": "[encoded data removed]",
      "text/plain": [
       "<Figure size 640x480 with 1 Axes>"
      ]
     },
     "metadata": {},
     "output_type": "display_data"
    }
   ],
   "source": [
    "import matplotlib.pyplot as plt\n",
    "\n",
    "plt.scatter(glu_amounts, obj_val_glu, color='blue', marker='o')\n",
    "\n",
    "# Find the index of the maximum value in obj_val_glu\n",
    "max_index = obj_val_glu.index(max(obj_val_glu))\n",
    "\n",
    "# Highlight and label the point with the maximum objective value\n",
    "\n",
    "plt.scatter(glu_amounts[max_index], max(obj_val_glu), color='red', marker='o')\n",
    "\n",
    "# Add labels and title\n",
    "plt.xlabel('Glu Amounts')\n",
    "plt.ylabel('Objective Values for Glu')\n",
    "plt.title('Scatter Plot of Glu Amounts vs. Objective Values')\n",
    "\n",
    "text_box = f\"The maximum objective value is {obj_val_glu[max_index]:.2f}\\nThe maximum glutamate concentration is {glu_amounts[max_index]}\"\n",
    "plt.text(0.25, 0.7, text_box, bbox=dict(facecolor='white', alpha=0.5), transform=plt.gca().transAxes)\n",
    "\n",
    "# Display the plot\n",
    "plt.show()"
   ]
  },
  {
   "cell_type": "code",
   "execution_count": 61,
   "id": "991df097-27aa-4f6e-aa39-16463ab89153",
   "metadata": {
    "tags": []
   },
   "outputs": [],
   "source": [
    "model.medium = original_medium\n",
    "medium['EX_glu__L_e'] = glu_amounts[max_index]\n",
    "medium['EX_arg__L_e'] = 1\n",
    "model.medium = medium"
   ]
  },
  {
   "cell_type": "code",
   "execution_count": 62,
   "id": "eadae9a2-4ce0-4bb9-a38e-4eaf9f24dd3b",
   "metadata": {
    "tags": []
   },
   "outputs": [
    {
     "data": {
      "text/plain": [
       "0.14913818493150674"
      ]
     },
     "execution_count": 62,
     "metadata": {},
     "output_type": "execute_result"
    }
   ],
   "source": [
    "production_mqn7c = model.optimize().objective_value\n",
    "production_mqn7c"
   ]
  },
  {
   "cell_type": "markdown",
   "id": "0ca24385",
   "metadata": {},
   "source": [
    "## Fluxes Variability Analysis"
   ]
  },
  {
   "cell_type": "code",
   "execution_count": 63,
   "id": "e85eb439-5ee2-4d90-9a56-17bdfc5290d8",
   "metadata": {
    "tags": []
   },
   "outputs": [],
   "source": [
    "solution = model.optimize()"
   ]
  },
  {
   "cell_type": "code",
   "execution_count": null,
   "id": "d103ce7b",
   "metadata": {},
   "outputs": [],
   "source": [
    "# a reminder of the mqn7 production amount after medium adjustment\n",
    "# upper_bound is recommended to be put by the cobra.py manual to get an actual optimal value\n",
    "model.reactions.get_by_id(\"DM_mqn7_c\").upper_bound = 1000.\n",
    "objective_value_before_fva = model.optimize().objective_value\n",
    "solution = model.optimize()\n",
    "objective_value_before_fva"
   ]
  },
  {
   "cell_type": "code",
   "execution_count": null,
   "id": "d7f57452-23e8-456a-9e26-9cf4c116c89b",
   "metadata": {
    "tags": []
   },
   "outputs": [],
   "source": [
    "#print(original_objective)\n",
    "with model:\n",
    "    model.objective = original_objective\n",
    "    print(model.objective)\n",
    "    print(model.optimize().objective_value)"
   ]
  },
  {
   "cell_type": "markdown",
   "id": "eb86e02b-fa20-45c0-a2df-91dbc7527a8c",
   "metadata": {},
   "source": [
    "After running the single knock outs, several metabolites for the assessment were identified. WITHOUT them, the objective value could not be as high as WITH them."
   ]
  },
  {
   "cell_type": "code",
   "execution_count": null,
   "id": "64221660-b489-4cc1-b618-1c028d37a3b2",
   "metadata": {
    "tags": []
   },
   "outputs": [],
   "source": [
    "reaction_name = \"LEUTA\"\n",
    "reaction = model.reactions.get_by_id(reaction_name)\n",
    "\n",
    "new_lower_bound = 0.234460\n",
    "reaction.lower_bound = new_lower_bound\n",
    "\n",
    "print(\"New lower boundary:\", new_lower_bound)\n",
    "print(\"New objective value:\", model.optimize().objective_value, '\\n')\n",
    "\n",
    "# returning the boundary back to original\n",
    "reaction.lower_bound = old_bound_ARGDI_1\n",
    "print(\"Reaction is set to the previous lower boundary:\", reaction.lower_bound)"
   ]
  },
  {
   "cell_type": "code",
   "execution_count": null,
   "id": "e0615696-deef-47f4-83c7-d055a4cdc574",
   "metadata": {
    "tags": []
   },
   "outputs": [],
   "source": [
    "old_bound_ILETA = solution.fluxes.LEUTA\n",
    "print(\"LEUTA\", solution.fluxes.LEUTA, '\\n')\n",
    "\n",
    "with model:\n",
    "    reactions_of_interest = [model.reactions.LEUTA,\n",
    "                             model.reactions.DM_mqn7_c]\n",
    "    \n",
    "    fva = flux_variability_analysis(model, \n",
    "                                    reaction_list = reactions_of_interest, \n",
    "                                    fraction_of_optimum=0.9)\n",
    "\n",
    "print(fva)"
   ]
  },
  {
   "cell_type": "code",
   "execution_count": null,
   "id": "ab1f9afb-3a31-4fbb-bcb2-ec42e78d409a",
   "metadata": {
    "tags": []
   },
   "outputs": [],
   "source": [
    "old_bound_ASPK = solution.fluxes.ASPK\n",
    "print(\"ASPK\", solution.fluxes.ASPK, '\\n')\n",
    "\n",
    "with model:\n",
    "    reactions_of_interest = [model.reactions.ASPK,\n",
    "                             model.reactions.DM_mqn7_c]\n",
    "    \n",
    "    fva = flux_variability_analysis(model, \n",
    "                                    reaction_list = reactions_of_interest, \n",
    "                                    fraction_of_optimum=0.9)\n",
    "\n",
    "print(fva)"
   ]
  },
  {
   "cell_type": "code",
   "execution_count": null,
   "id": "560a7084-0e59-4deb-b721-de69af2c20b8",
   "metadata": {
    "tags": []
   },
   "outputs": [],
   "source": [
    "reaction_name = \"ASPK\"\n",
    "reaction = model.reactions.get_by_id(reaction_name)\n",
    "\n",
    "new_lower_bound =  0.641851\n",
    "reaction.lower_bound = new_lower_bound\n",
    "\n",
    "print(\"New lower boundary:\", new_lower_bound)\n",
    "print(\"New objective value:\", model.optimize().objective_value, '\\n')\n",
    "\n",
    "# returning the boundary back to original\n",
    "reaction.lower_bound = old_bound_ASPK\n",
    "print(\"Reaction is set to the previous lower boundary:\", reaction.lower_bound)"
   ]
  },
  {
   "cell_type": "markdown",
   "id": "70b4247a-088e-4cae-a0b1-3030a2a3108d",
   "metadata": {},
   "source": [
    "**Conclusion for this part:** after assessment of 10 reactions, it became clear that, as was shown in the single knockout, the model is already at the maximum production capacity. So, we stopped testing out the fluxes boundaries. "
   ]
  },
  {
   "cell_type": "markdown",
   "id": "bc20a410",
   "metadata": {},
   "source": [
    "### Mevalonate pathway"
   ]
  },
  {
   "cell_type": "markdown",
   "id": "fdfd0a7e",
   "metadata": {},
   "source": [
    "From the OptGene, hmgcoa_c was defined as a metabolite important for the mqn7 production. There is one reaction in the model that produces it: HMGCOAR."
   ]
  },
  {
   "cell_type": "markdown",
   "id": "51711713-f67a-4d50-aee4-580a986057b8",
   "metadata": {},
   "source": [
    "**Trial from the research paper** \n",
    "\n",
    "This is the combination of the enzymes suggested by the paper where researchers workd on the optimisation of menaquinone production. As can be seen, the objective value stays the same, as the previous maximum with the suggested combination of the fluxes rates. It is also noticeable, that the maximum fluxes rates are the same as our objective value. "
   ]
  },
  {
   "cell_type": "code",
   "execution_count": null,
   "id": "f56251fb-1b96-4da8-8203-97f15f006cbd",
   "metadata": {
    "tags": []
   },
   "outputs": [],
   "source": [
    "old_bound_MEVK1 = solution.fluxes.MEVK1\n",
    "print(\"MEVK1\", old_bound_MEVK1, '\\n')\n",
    "\n",
    "old_bound_DHNAOT7 = solution.fluxes.DHNAOT7\n",
    "print(\"DHNAOT7\", old_bound_DHQS, '\\n')\n",
    "\n",
    "old_bound_MQNS = solution.fluxes.MQNS\n",
    "print(\"MQNS\", old_bound_MQNS, '\\n')\n",
    "\n",
    "old_bound_PREN = solution.fluxes.PREN\n",
    "print(\"PREN\", old_bound_PREN, '\\n')\n",
    "\n",
    "\n",
    "with model:\n",
    "    reactions_of_interest = [model.reactions.MEVK1,\n",
    "                             model.reactions.DHNAOT7,\n",
    "                             model.reactions.MQNS,\n",
    "                             model.reactions.PREN, \n",
    "                             model.reactions.DM_mqn7_c]\n",
    "    \n",
    "    fva = flux_variability_analysis(model, \n",
    "                                    reaction_list = reactions_of_interest, \n",
    "                                    fraction_of_optimum=0.9)\n",
    "\n",
    "print(fva, \"\\n\")\n",
    "print(\"Objective value before FVA:\", objective_value_before_fva)"
   ]
  },
  {
   "cell_type": "code",
   "execution_count": null,
   "id": "c59391db-603b-4764-9572-9aad4c1d3fd3",
   "metadata": {},
   "outputs": [],
   "source": [
    "metabolite = model.metabolites.get_by_id(\"hmgcoa_c\")\n",
    "\n",
    "for reaction in metabolite.reactions:\n",
    "    print(reaction, reaction.name)"
   ]
  },
  {
   "cell_type": "markdown",
   "id": "3f2aca66-572c-46b8-a270-6f342a80f6eb",
   "metadata": {},
   "source": [
    "* Reactions assosciated with the metabolite"
   ]
  },
  {
   "cell_type": "code",
   "execution_count": null,
   "id": "16800301",
   "metadata": {},
   "outputs": [],
   "source": [
    "from cobra.flux_analysis import flux_variability_analysis\n",
    "\n",
    "metabolite = model.metabolites.get_by_id(\"mn2_c\")\n",
    "\n",
    "for reaction in metabolite.reactions:\n",
    "    print(reaction, reaction.name)"
   ]
  },
  {
   "cell_type": "code",
   "execution_count": null,
   "id": "5c3c9e05-77bd-4015-97d6-a18830d30319",
   "metadata": {
    "tags": []
   },
   "outputs": [],
   "source": [
    "old_bound_MNabc = solution.fluxes.MNabc\n",
    "print(\"MNabc\", old_bound_MNabc, '\\n')\n",
    "\n",
    "with model:\n",
    "    reactions_of_interest = [model.reactions.MNabc,\n",
    "                             model.reactions.DM_mqn7_c]\n",
    "    \n",
    "    fva = flux_variability_analysis(model, \n",
    "                                    reaction_list = reactions_of_interest, \n",
    "                                    fraction_of_optimum=0.9)\n",
    "\n",
    "print(fva, \"\\n\")\n",
    "print(\"Objective value before FVA:\", objective_value_before_fva)"
   ]
  },
  {
   "cell_type": "markdown",
   "id": "d176786a-c657-4cd2-b781-aba6b4d48e60",
   "metadata": {},
   "source": [
    "* Defining if there is any window to optimize the flux distribution.  "
   ]
  },
  {
   "cell_type": "code",
   "execution_count": null,
   "id": "efb325fb",
   "metadata": {},
   "outputs": [],
   "source": [
    "old_bound_HMGCOAR = solution.fluxes.HMGCOAR\n",
    "print(\"HMGCOAR\", old_bound, '\\n')\n",
    "\n",
    "with model:\n",
    "    reactions_of_interest = [model.reactions.HMGCOAR,\n",
    "                             model.reactions.DM_mqn7_c]\n",
    "    \n",
    "    fva = flux_variability_analysis(model, \n",
    "                                    reaction_list = reactions_of_interest, \n",
    "                                    fraction_of_optimum=0.9)\n",
    "\n",
    "print(fva, \"\\n\")\n",
    "print(\"Objective value before FVA:\", objective_value_before_fva)"
   ]
  },
  {
   "cell_type": "markdown",
   "id": "4454ad70",
   "metadata": {
    "tags": []
   },
   "source": [
    "As can be seen, the suggested range is negative, so there is no suggestions about pushing reaction towards the right side (more production of hmgcoa_c). There is an opportunity to slightly change the lower boundary closer to the maximum, so the metabolite will be consumed less. However, the objective value still stays the same as before FVA, so there is no point in doing that."
   ]
  },
  {
   "cell_type": "markdown",
   "id": "a05e5e3a-807d-41fd-a94d-9d94ea1eefa9",
   "metadata": {},
   "source": [
    "* Changing the lower boundary and setting it back to the old one."
   ]
  },
  {
   "cell_type": "code",
   "execution_count": null,
   "id": "56eacf5e",
   "metadata": {},
   "outputs": [],
   "source": [
    "reaction_name = \"HMGCOAR\"\n",
    "reaction = model.reactions.get_by_id(reaction_name)\n",
    "\n",
    "new_lower_bound = -0.939571\n",
    "reaction.lower_bound = new_lower_bound\n",
    "\n",
    "print(\"New lower boundary:\", new_lower_bound)\n",
    "print(\"New objective value:\", model.optimize().objective_value, '\\n')\n",
    "\n",
    "# returning the boundary back to original\n",
    "reaction.lower_bound = old_bound_HMGCOAR\n",
    "print(\"Reaction is set to the previous lower boundary:\", reaction.lower_bound)"
   ]
  },
  {
   "cell_type": "markdown",
   "id": "1b23d8fc",
   "metadata": {},
   "source": [
    "An attempt to reduce the consumption of hmgcoa_c only decreased the objective value."
   ]
  },
  {
   "cell_type": "markdown",
   "id": "7757263b",
   "metadata": {},
   "source": [
    "### Shikimate pathway"
   ]
  },
  {
   "cell_type": "markdown",
   "id": "f19d3c8b-2104-41b1-83aa-2c1585f6d3ab",
   "metadata": {
    "tags": []
   },
   "source": [
    "* Reactions assosciated with the metabolite"
   ]
  },
  {
   "cell_type": "code",
   "execution_count": null,
   "id": "1dee1495-27be-4314-a788-15619e1fc5c1",
   "metadata": {
    "tags": []
   },
   "outputs": [],
   "source": [
    "metabolite = model.metabolites.get_by_id(\"2dda7p_c\")\n",
    "\n",
    "for reaction in metabolite.reactions:\n",
    "    print(reaction, reaction.name)"
   ]
  },
  {
   "cell_type": "markdown",
   "id": "ded90241-23b2-46c0-8535-ece65a7469c8",
   "metadata": {},
   "source": [
    "* Defining if there is any window to optimize the flux distribution."
   ]
  },
  {
   "cell_type": "code",
   "execution_count": null,
   "id": "10bd0299-3c61-4945-b2f5-914fbb0a9acb",
   "metadata": {
    "tags": []
   },
   "outputs": [],
   "source": [
    "old_bound_DDPA = solution.fluxes.DDPA\n",
    "print(\"DDPA\", old_bound_DDPA, '\\n')\n",
    "\n",
    "old_bound_DHQS = solution.fluxes.DHQS\n",
    "print(\"DHQS\", old_bound_DHQS, '\\n')\n",
    "\n",
    "with model:\n",
    "    reactions_of_interest = [model.reactions.DDPA,\n",
    "                             model.reactions.DHQS,\n",
    "                             model.reactions.DM_mqn7_c]\n",
    "    \n",
    "    fva = flux_variability_analysis(model, \n",
    "                                    reaction_list = reactions_of_interest, \n",
    "                                    fraction_of_optimum=0.9)\n",
    "\n",
    "print(fva, \"\\n\")\n",
    "print(\"Objective value before FVA:\", objective_value_before_fva)"
   ]
  },
  {
   "cell_type": "markdown",
   "id": "8622acd1-3e29-49fb-b9e8-83fd5260a684",
   "metadata": {},
   "source": [
    "* Changing the lower boundary and setting it back to the old one."
   ]
  },
  {
   "cell_type": "markdown",
   "id": "01211244-c87f-440a-8964-9484c0231d20",
   "metadata": {},
   "source": [
    "We tried to decrease the lower boundary of DHQS, so there will be less consumption of 2dda7p_c, which is a precursor for the next Shikimate pathway reaction. "
   ]
  },
  {
   "cell_type": "code",
   "execution_count": null,
   "id": "bcdea0e6-1c14-4cc6-bb65-d90acaf1e13c",
   "metadata": {
    "tags": []
   },
   "outputs": [],
   "source": [
    "reaction_name = \"DHQS\"\n",
    "reaction = model.reactions.get_by_id(reaction_name)\n",
    "\n",
    "new_lower_bound =  0.134224 \n",
    "reaction.lower_bound = new_lower_bound\n",
    "\n",
    "print(\"New lower boundary:\", new_lower_bound)\n",
    "print(\"New objective value:\", model.optimize().objective_value, '\\n')\n",
    "\n",
    "# returning the boundary back to original\n",
    "reaction.lower_bound = old_bound_DHQS\n",
    "print(\"Reaction is set to the previous lower boundary:\", reaction.lower_bound)"
   ]
  },
  {
   "cell_type": "markdown",
   "id": "e7c5e482-29f5-48e6-90a4-9ded6cb4aea0",
   "metadata": {},
   "source": [
    "Changes in the boundaries neither for DDPA, not for DHQS gave any improvement."
   ]
  },
  {
   "cell_type": "markdown",
   "id": "72bd2823",
   "metadata": {},
   "source": [
    "### Menaquinone pathway"
   ]
  },
  {
   "cell_type": "markdown",
   "id": "f1d6bcdc-16a4-49d4-a55a-aab086b91ebe",
   "metadata": {},
   "source": [
    "* Reactions assosciated with the metabolite"
   ]
  },
  {
   "cell_type": "code",
   "execution_count": null,
   "id": "636622ee",
   "metadata": {
    "tags": []
   },
   "outputs": [],
   "source": [
    "metabolite = model.metabolites.get_by_id(\"ichor_c\")\n",
    "\n",
    "for reaction in metabolite.reactions:\n",
    "    print(reaction, reaction.name)"
   ]
  },
  {
   "cell_type": "markdown",
   "id": "8dc473c5-09b0-4d74-b562-9359954a14fb",
   "metadata": {},
   "source": [
    "* Defining if there is any window to optimize the flux distribution."
   ]
  },
  {
   "cell_type": "code",
   "execution_count": null,
   "id": "c6b3528d",
   "metadata": {},
   "outputs": [],
   "source": [
    "old_bound_ICHORS = solution.fluxes.ICHORS\n",
    "print(\"ICHORS\", old_bound_ICHORS, '\\n')\n",
    "\n",
    "with model:\n",
    "    reactions_of_interest = [model.reactions.ICHORS,\n",
    "                             model.reactions.DM_mqn7_c]\n",
    "    \n",
    "    fva = flux_variability_analysis(model, \n",
    "                                    reaction_list = reactions_of_interest, \n",
    "                                    fraction_of_optimum=0.9)\n",
    "\n",
    "print(fva)"
   ]
  },
  {
   "cell_type": "markdown",
   "id": "2ab4a48a-52ee-4ff1-8c9c-f91c00b8b63e",
   "metadata": {
    "tags": []
   },
   "source": [
    "Already optimized."
   ]
  },
  {
   "cell_type": "markdown",
   "id": "2c203ff8-acf8-4b90-a8c4-374d52961ef2",
   "metadata": {},
   "source": [
    "### Glutamate syntase "
   ]
  },
  {
   "cell_type": "markdown",
   "id": "03f477fb-7995-42e8-bcc7-9944a23ef5e4",
   "metadata": {},
   "source": [
    "* Defining if there is any window to optimize the flux distribution."
   ]
  },
  {
   "cell_type": "code",
   "execution_count": null,
   "id": "e38351a1-0b4c-484f-ba74-444ffb6f00a1",
   "metadata": {
    "tags": []
   },
   "outputs": [],
   "source": [
    "old_bound_GLUSy = solution.fluxes.GLUSy\n",
    "print(\"GLUSy\", solution.fluxes.GLUSy, '\\n')\n",
    "\n",
    "with model:\n",
    "    reactions_of_interest = [model.reactions.GLUSy,\n",
    "                             model.reactions.DM_mqn7_c]\n",
    "    \n",
    "    fva = flux_variability_analysis(model, \n",
    "                                    reaction_list = reactions_of_interest, \n",
    "                                    fraction_of_optimum=0.9)\n",
    "\n",
    "print(fva)"
   ]
  },
  {
   "cell_type": "markdown",
   "id": "920cf89b-cf75-44b5-b6a1-d4dac28f0737",
   "metadata": {},
   "source": [
    "* Changing the lower boundary and setting it back to the old one."
   ]
  },
  {
   "cell_type": "code",
   "execution_count": null,
   "id": "d7613d59-e12a-42b1-a204-1c8453a5e74c",
   "metadata": {
    "tags": []
   },
   "outputs": [],
   "source": [
    "reaction_name = \"GLUSy\"\n",
    "reaction = model.reactions.get_by_id(reaction_name)\n",
    "\n",
    "new_lower_bound =  1.567551\n",
    "reaction.lower_bound = new_lower_bound\n",
    "\n",
    "print(\"New lower boundary:\", new_lower_bound)\n",
    "print(\"New objective value:\", model.optimize().objective_value, '\\n')\n",
    "\n",
    "# returning the boundary back to original\n",
    "reaction.lower_bound = old_bound_DHQS\n",
    "print(\"Reaction is set to the previous lower boundary:\", reaction.lower_bound)"
   ]
  },
  {
   "cell_type": "markdown",
   "id": "da8e3fef",
   "metadata": {},
   "source": [
    "Already optimized."
   ]
  },
  {
   "cell_type": "markdown",
   "id": "66868a6c",
   "metadata": {},
   "source": [
    "### Polyprenyl pathway"
   ]
  },
  {
   "cell_type": "markdown",
   "id": "70b17bb5-ec51-4393-bbad-45e24d04589b",
   "metadata": {},
   "source": [
    "* Reactions assosciated with the metabolite"
   ]
  },
  {
   "cell_type": "code",
   "execution_count": null,
   "id": "ebd8fe5a-c2e7-4896-8e25-8b5bbe9151d9",
   "metadata": {
    "tags": []
   },
   "outputs": [],
   "source": [
    "metabolite = model.metabolites.get_by_id(\"dmpp_c\")\n",
    "\n",
    "for reaction in metabolite.reactions:\n",
    "    print(reaction, reaction.name)"
   ]
  },
  {
   "cell_type": "markdown",
   "id": "0e620d10-fe06-4f47-ab79-67da52bd9a8f",
   "metadata": {},
   "source": [
    "* Defining if there is any window to optimize the flux distribution."
   ]
  },
  {
   "cell_type": "code",
   "execution_count": null,
   "id": "e9617f1e-4681-4a11-a927-dd6282f092ef",
   "metadata": {
    "tags": []
   },
   "outputs": [],
   "source": [
    "old_bound_IPPDI = solution.fluxes.IPDDI\n",
    "print(\"IPPDI\", old_bound_IPPDI, '\\n')\n",
    "\n",
    "old_bound_DMATT = solution.fluxes.DMATT\n",
    "print(\"DMATT\", old_bound_DMATT, '\\n')\n",
    "\n",
    "with model:\n",
    "    reactions_of_interest = [model.reactions.IPDDI,\n",
    "                             model.reactions.DMATT,\n",
    "                             model.reactions.DM_mqn7_c]\n",
    "    \n",
    "    fva = flux_variability_analysis(model, \n",
    "                                    reaction_list = reactions_of_interest, \n",
    "                                    fraction_of_optimum=0.9)\n",
    "\n",
    "print(fva, \"\\n\")\n",
    "print(\"Objective value before FVA:\", objective_value_before_fva)"
   ]
  },
  {
   "cell_type": "markdown",
   "id": "dc5d70d6-d3c2-4320-b246-951448cbf8ba",
   "metadata": {},
   "source": [
    "### Merging PPP and MNQ pathways"
   ]
  },
  {
   "cell_type": "markdown",
   "id": "4f9f4717-09d4-418b-a897-f2e5a1c10e42",
   "metadata": {},
   "source": [
    "* Reactions assosciated with the metabolite"
   ]
  },
  {
   "cell_type": "code",
   "execution_count": null,
   "id": "55ebe2c7",
   "metadata": {},
   "outputs": [],
   "source": [
    "metabolite = model.metabolites.get_by_id(\"2dmmq7_c\")\n",
    "\n",
    "for reaction in metabolite.reactions:\n",
    "    print(reaction, reaction.name)"
   ]
  },
  {
   "cell_type": "markdown",
   "id": "afce730e-0167-450d-a761-9cc577a25e3d",
   "metadata": {},
   "source": [
    "* Defining if there is any window to optimize the flux distribution."
   ]
  },
  {
   "cell_type": "code",
   "execution_count": null,
   "id": "a51089cf",
   "metadata": {},
   "outputs": [],
   "source": [
    "old_bound_DHNAOT7 = solution.fluxes.DHNAOT7\n",
    "old_bound_AMMQT7 = solution.fluxes.AMMQT7\n",
    "old_bound_MQNS = solution.fluxes.MQNS\n",
    "\n",
    "print(\"DHNAOT7\", old_bound_DHNAOT7, '\\n',\n",
    "      \"AMMQT7\", old_bound_AMMQT7, '\\n',\n",
    "      \"MQNS\", old_bound_MQNS, '\\n')\n",
    "\n",
    "\n",
    "\n",
    "with model:\n",
    "    reactions_of_interest = [model.reactions.DHNAOT7,\n",
    "                             model.reactions.AMMQT7,\n",
    "                             model.reactions.MQNS,\n",
    "                             model.reactions.DM_mqn7_c]\n",
    "    \n",
    "    fva = flux_variability_analysis(model, \n",
    "                                    reaction_list = reactions_of_interest, \n",
    "                                    fraction_of_optimum=0.9)\n",
    "\n",
    "print(fva)"
   ]
  },
  {
   "cell_type": "markdown",
   "id": "2d164e8c",
   "metadata": {},
   "source": [
    "There are already optimum fluxes for the listed reactions, so there is no need to change them."
   ]
  },
  {
   "cell_type": "markdown",
   "id": "239b1e68-41e0-4c78-84eb-66697f161dc9",
   "metadata": {},
   "source": [
    "* Reactions assosciated with the metabolite"
   ]
  },
  {
   "cell_type": "code",
   "execution_count": null,
   "id": "9dbd854b-d48c-4c17-94af-6347026e77ac",
   "metadata": {
    "tags": []
   },
   "outputs": [],
   "source": [
    "metabolite = model.metabolites.get_by_id(\"mql7_c\")\n",
    "\n",
    "for reaction in metabolite.reactions:\n",
    "    print(reaction, reaction.name)"
   ]
  },
  {
   "cell_type": "markdown",
   "id": "9f88b4da-1ca4-4454-9f80-59d8574e65fe",
   "metadata": {},
   "source": [
    "* Defining if there is any window to optimize the flux distribution."
   ]
  },
  {
   "cell_type": "code",
   "execution_count": null,
   "id": "304d70c1-d550-4571-9fe8-123bb65eefc1",
   "metadata": {
    "tags": []
   },
   "outputs": [],
   "source": [
    "old_bound_FADMQOR = solution.fluxes.FADMQOR\n",
    "old_bound_POX3 = solution.fluxes.POX3\n",
    "old_bound_CYTB_B2 = solution.fluxes.CYTB_B2\n",
    "\n",
    "print(\"FADMQOR\", old_bound_FADMQOR, '\\n',\n",
    "      \"POX3\", old_bound_POX3, '\\n',\n",
    "      \"CYTB_B2\", old_bound_CYTB_B2, '\\n')\n",
    "\n",
    "with model:\n",
    "    reactions_of_interest = [model.reactions.FADMQOR,\n",
    "                             model.reactions.POX3,\n",
    "                             model.reactions.CYTB_B2,\n",
    "                             model.reactions.DM_mqn7_c]\n",
    "    \n",
    "    fva = flux_variability_analysis(model, \n",
    "                                    reaction_list = reactions_of_interest, \n",
    "                                    fraction_of_optimum=0.8)\n",
    "\n",
    "print(fva)"
   ]
  },
  {
   "cell_type": "code",
   "execution_count": 131,
   "id": "8e64a4cf-0e09-4f0a-896b-e8640f66a75a",
   "metadata": {
    "tags": []
   },
   "outputs": [],
   "source": [
    "medium['EX_sucr_e'] = 0\n",
    "medium['EX_glc__D_e'] = 1\n",
    "model.medium = medium"
   ]
  },
  {
   "cell_type": "markdown",
   "id": "678a37cc-517a-40cf-bdde-c3831ecda563",
   "metadata": {},
   "source": [
    "Any change in the reactions also would not affect the objective value."
   ]
  },
  {
   "cell_type": "markdown",
   "id": "2bba8443-de34-4d46-aeb5-6afd56ad6b73",
   "metadata": {},
   "source": [
    "## Carbon sources switch"
   ]
  },
  {
   "cell_type": "code",
   "execution_count": 99,
   "id": "4780df03-0eb7-4a82-b46d-23f4bc1c707e",
   "metadata": {
    "tags": []
   },
   "outputs": [
    {
     "name": "stdout",
     "output_type": "stream",
     "text": [
      "The Vitamin K2 production using glucose as a primary carbon source yields 0.34 mmol/ gDw*h\n",
      "The biomass production using glucose as a primary carbon source yields 0.10 mmol/ gDw*h \n",
      "\n",
      "The Vitamin K2 production using succinate as a primary carbon source yields 0.02 mmol/ gDw*h\n",
      "The biomass production using succinate as a primary carbon source yields 0.02 mmol/ gDw*h \n",
      "\n",
      "The Vitamin K2 production using fructose as a primary carbon source yields 0.36 mmol/ gDw*h\n",
      "The biomass production using fructose as a primary carbon source yields 0.10 mmol/ gDw*h \n",
      "\n",
      "The Vitamin K2 production using glutamine as a primary carbon source yields 0.02 mmol/ gDw*h\n",
      "The biomass production using glutamine as a primary carbon source yields 0.02 mmol/ gDw*h \n",
      "\n",
      "The Vitamin K2 production using sucrose as a primary carbon source yields 0.46 mmol/ gDw*h\n",
      "The biomass production using sucrose as a primary carbon source yields 0.10 mmol/ gDw*h \n",
      "\n",
      "The Vitamin K2 production using lactate as a primary carbon source yields 0.19 mmol/ gDw*h\n",
      "The biomass production using lactate as a primary carbon source yields 0.10 mmol/ gDw*h \n",
      "\n",
      "The Vitamin K2 production using malate-L as a primary carbon source yields 0.22 mmol/ gDw*h\n",
      "The biomass production using malate-L as a primary carbon source yields 0.10 mmol/ gDw*h \n",
      "\n"
     ]
    }
   ],
   "source": [
    "c_sources = ['EX_glc__D_e' ,'EX_succ_e', 'EX_fru_e', \n",
    "             'EX_gln__L_e', 'EX_sucr_e', 'EX_lac__L_e', 'EX_mal__L_e']\n",
    "c_names = [ 'glucose', 'succinate' , 'fructose', \n",
    "           'glutamine', 'sucrose', 'lactate', 'malate-L']\n",
    "time = [0,1,2,3,4,5,6]\n",
    "for t in time:\n",
    "    medium = model.medium\n",
    "    with model: \n",
    "            medium['EX_glc__D_e'] = 1\n",
    "            medium[c_sources[t]] = 7\n",
    "            model.medium = medium\n",
    "            model.objective = model.reactions.DM_mqn7_c\n",
    "            solution = model.optimize()\n",
    "            thc_production = model.optimize().objective_value\n",
    "            react= model.reactions.get_by_id(c_sources[t])\n",
    "            print('The Vitamin K2 production using {} as a primary carbon source yields {:.2f} mmol/ gDw*h'.format(c_names[t], thc_production))\n",
    "            model.objective = original_objective\n",
    "            solution = model.optimize()\n",
    "            biomass_production = model.optimize().objective_value\n",
    "            print('The biomass production using {} as a primary carbon source yields {:.2f} mmol/ gDw*h \\n'.format(c_names[t], biomass_production))"
   ]
  },
  {
   "cell_type": "code",
   "execution_count": 143,
   "id": "be2228f8-9a1b-484c-948f-546ef094ef28",
   "metadata": {
    "tags": []
   },
   "outputs": [
    {
     "name": "stdout",
     "output_type": "stream",
     "text": [
      "Increasing EX_sucr_e to 285 results in an objective value > 11.095039502427213\n"
     ]
    }
   ],
   "source": [
    "import copy\n",
    "model.medium = original_medium\n",
    "\n",
    "# Get the initial medium\n",
    "initial_medium = copy.deepcopy(model.medium)\n",
    "initial_medium['EX_sucr_e'] = 0\n",
    "initial_medium['EX_glc__D_e'] = 1\n",
    "initial_medium['EX_glu__L_e'] = 17.05\n",
    "model.medium = initial_medium\n",
    "\n",
    "# Define the step for concentration increase\n",
    "step_size = 1\n",
    "\n",
    "# Define the threshold for the objective value\n",
    "threshold_value = model.optimize().objective_value\n",
    "\n",
    "# Dictionary to store the results\n",
    "metabolite_changes = {}\n",
    "\n",
    "suc_amounts = []\n",
    "obj_val_suc = []\n",
    "\n",
    "# Iterate over each metabolite in the initial medium\n",
    "for metabolite, concentration in initial_medium.items():\n",
    "    if metabolite == \"EX_sucr_e\":\n",
    "        # Copy the initial medium for each iteration\n",
    "        medium_copy = copy.deepcopy(initial_medium)\n",
    "        \n",
    "        # Iterate over the increasing steps\n",
    "        for step in range(1, 500):\n",
    "            # Calculate the new concentration\n",
    "            new_concentration = concentration + step_size * step\n",
    "            suc_amounts.append(new_concentration)\n",
    "\n",
    "            # Update the medium copy with the new concentration for the current metabolite\n",
    "            medium_copy[metabolite] = new_concentration\n",
    "            model.medium = medium_copy\n",
    "\n",
    "            # Optimize the model and get the objective value\n",
    "            objective_value = model.optimize().objective_value\n",
    "            obj_val_suc.append(objective_value)\n",
    "\n",
    "            # Check if the objective value exceeds the threshold\n",
    "            if objective_value > threshold_value:\n",
    "                metabolite_changes[metabolite] = new_concentration\n",
    "                threshold_value = objective_value\n",
    "\n",
    "# Print the results\n",
    "for metabolite, concentration in metabolite_changes.items():\n",
    "    print(f\"Increasing {metabolite} to {concentration} results in an objective value > {threshold_value}\")"
   ]
  },
  {
   "cell_type": "code",
   "execution_count": 149,
   "id": "51433938-f339-4ea9-a14e-77c40c45ddb9",
   "metadata": {
    "tags": []
   },
   "outputs": [
    {
     "data": {
      "image/png": "[encoded data removed]",
      "text/plain": [
       "<Figure size 640x480 with 1 Axes>"
      ]
     },
     "metadata": {},
     "output_type": "display_data"
    }
   ],
   "source": [
    "import matplotlib.pyplot as plt\n",
    "\n",
    "plt.scatter(suc_amounts, obj_val_suc, color='blue', marker='o')\n",
    "\n",
    "# Find the index of the maximum value in obj_val_glu\n",
    "max_index = obj_val_suc.index(max(obj_val_suc))\n",
    "\n",
    "# Highlight and label the point with the maximum objective value\n",
    "\n",
    "plt.scatter(suc_amounts[max_index], max(obj_val_suc), color='red', marker='o')\n",
    "\n",
    "# Add labels and title\n",
    "plt.xlabel('Sucrose Amounts')\n",
    "plt.ylabel('Objective Values for Sucrose')\n",
    "plt.title('Scatter Plot of Sucrose Amounts vs. Objective Values')\n",
    "\n",
    "text_box = f\"The maximum objective value is {obj_val_suc[max_index]:.2f}\\nThe maximum sucrose concentration is {suc_amounts[max_index]}\"\n",
    "plt.text(0.3, 0.3, text_box, bbox=dict(facecolor='white', alpha=0.5), transform=plt.gca().transAxes)\n",
    "\n",
    "# Display the plot\n",
    "plt.show()"
   ]
  },
  {
   "cell_type": "code",
   "execution_count": 115,
   "id": "32245760-4fad-4e65-a708-7138cc68a384",
   "metadata": {
    "tags": []
   },
   "outputs": [
    {
     "name": "stdout",
     "output_type": "stream",
     "text": [
      "11.129020084951435\n"
     ]
    }
   ],
   "source": [
    "medium['EX_sucr_e'] = 1000\n",
    "medium['EX_glc__D_e'] = 1\n",
    "model.medium = medium\n",
    "model.objective = model.reactions.DM_mqn7_c\n",
    "solution = model.optimize()\n",
    "print(model.optimize().objective_value)"
   ]
  }
 ],
 "metadata": {
  "kernelspec": {
   "display_name": "Python 3 (ipykernel)",
   "language": "python",
   "name": "python3"
  },
  "language_info": {
   "codemirror_mode": {
    "name": "ipython",
    "version": 3
   },
   "file_extension": ".py",
   "mimetype": "text/x-python",
   "name": "python",
   "nbconvert_exporter": "python",
   "pygments_lexer": "ipython3",
   "version": "3.11.4"
  }
 },
 "nbformat": 4,
 "nbformat_minor": 5
}
