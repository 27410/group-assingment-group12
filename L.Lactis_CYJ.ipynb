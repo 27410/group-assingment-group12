{
 "cells": [
  {
   "cell_type": "code",
   "execution_count": 3,
   "metadata": {},
   "outputs": [],
   "source": [
    "import cobra.io\n",
    "from cobra.io import read_sbml_model\n",
    "#model = read_sbml_model('/content/drive/MyDrive/Cell_Design/iNF517.xml')\n",
    "model = read_sbml_model('iNF517.xml')\n",
    "\n",
    "original_medium = model.medium\n",
    "original_objective = model.objective"
   ]
  },
  {
   "cell_type": "code",
   "execution_count": 84,
   "metadata": {},
   "outputs": [
    {
     "data": {
      "text/plain": [
       "[<Metabolite 12dgr_LLA_c at 0x2b060d49d50>,\n",
       " <Metabolite 13dpg_c at 0x2b060d4af50>,\n",
       " <Metabolite 1pyr5c_c at 0x2b060d4a150>,\n",
       " <Metabolite 23dhdp_c at 0x2b060d39090>,\n",
       " <Metabolite 23dhmb_c at 0x2b060d3a2d0>,\n",
       " <Metabolite 23dhmp_c at 0x2b060d52750>,\n",
       " <Metabolite 25aics_c at 0x2b060d3acd0>,\n",
       " <Metabolite 25dhpp_c at 0x2b060d3b0d0>,\n",
       " <Metabolite 26dap_LL_c at 0x2b060d3b990>]"
      ]
     },
     "execution_count": 84,
     "metadata": {},
     "output_type": "execute_result"
    }
   ],
   "source": [
    "model.metabolites[1:10]"
   ]
  },
  {
   "cell_type": "code",
   "execution_count": 82,
   "metadata": {},
   "outputs": [
    {
     "data": {
      "text/html": [
       "\n",
       "        <table>\n",
       "            <tr>\n",
       "                <td><strong>Metabolite identifier</strong></td><td>g6p_c</td>\n",
       "            </tr><tr>\n",
       "                <td><strong>Name</strong></td><td>D-Glucose 6-phosphate</td>\n",
       "            </tr><tr>\n",
       "                <td><strong>Memory address</strong></td>\n",
       "                <td>0x2b060b0d250</td>\n",
       "            </tr><tr>\n",
       "                <td><strong>Formula</strong></td><td>C6H11O9P</td>\n",
       "            </tr><tr>\n",
       "                <td><strong>Compartment</strong></td><td>c</td>\n",
       "            </tr><tr>\n",
       "                <td><strong>In 10 reaction(s)</strong></td><td>\n",
       "                    BGLA1, G6PDH2r, AB6PGH, PGMT, S6PG, G6PI, TRE6PH, GLCpts, PGI, HEX1\n",
       "                    </td>\n",
       "            </tr>\n",
       "        </table>"
      ],
      "text/plain": [
       "<Metabolite g6p_c at 0x2b060b0d250>"
      ]
     },
     "execution_count": 82,
     "metadata": {},
     "output_type": "execute_result"
    }
   ],
   "source": [
    "model.metabolites.get_by_id(\"g6p_c\")"
   ]
  },
  {
   "cell_type": "code",
   "execution_count": 80,
   "metadata": {},
   "outputs": [
    {
     "name": "stdout",
     "output_type": "stream",
     "text": [
      "PGL: 6pgl_c + h2o_c --> 6pgc_c + h_c 6-phosphogluconolactonase\n",
      "G6PDH2r: g6p_c + nadp_c <=> 6pgl_c + h_c + nadph_c Glucose 6-phosphate dehydrogenase\n"
     ]
    }
   ],
   "source": [
    "for reaction in model.metabolites.get_by_id(\"6pgl_c\").reactions:\n",
    "    print(reaction, reaction.name)"
   ]
  },
  {
   "cell_type": "code",
   "execution_count": 83,
   "metadata": {},
   "outputs": [
    {
     "name": "stdout",
     "output_type": "stream",
     "text": [
      "Educt: D-Glucose \n",
      "\n",
      "Product: D-Glucose 6-phosphate \n",
      "\n",
      "Enzyme: Hexokinase (D-glucose:ATP) \n",
      "\n",
      "Reaction ID & equation: HEX1: atp_c + glc__D_c --> adp_c + g6p_c + h_c \n",
      "\n",
      "Corresponding gene: LLMG_RS11535\n"
     ]
    }
   ],
   "source": [
    "# educt\n",
    "educt = model.metabolites.get_by_id(\"glc__D_c\") #edit here\n",
    "print(f\"Educt: {educt.name} \\n\")\n",
    "\n",
    "# product\n",
    "product = model.metabolites.get_by_id(\"g6p_c\") #edit here\n",
    "print(f\"Product: {product.name} \\n\")\n",
    "\n",
    "# reaction\n",
    "#for reaction in educt.reactions:\n",
    "#    print(reaction, reaction.name)\n",
    "reaction = model.reactions.HEX1 #edit here\n",
    "print(f\"Enzyme: {reaction.name} \\n\")\n",
    "print(f\"Reaction ID & equation: {reaction} \\n\")\n",
    "\n",
    "#gene\n",
    "print(f\"Corresponding gene: {reaction.gene_reaction_rule}\")"
   ]
  },
  {
   "cell_type": "markdown",
   "metadata": {},
   "source": [
    "Glycolysis\n",
    "HEX1: atp_c + glc__D_c --> adp_c + g6p_c + h_c Hexokinase (D-glucose:ATP)\n",
    "\n",
    "PGI: g6p_c <=> f6p_c Glucose-6-phosphate isomerase\n",
    "\n",
    "PFK: atp_c + f6p_c --> adp_c + fdp_c + h_c Phosphofructokinase\n",
    "\n",
    "FBA: fdp_c <=> dhap_c + g3p_c Fructose-bisphosphate aldolase                  TPI: dhap_c <=> g3p_c Triose-phosphate isomerase\n",
    "\n",
    "GAPD: g3p_c + nad_c + pi_c <=> 13dpg_c + h_c + nadh_c Glyceraldehyde-3-phosphate dehydrogenase\n",
    "\n",
    "PGK: 3pg_c + atp_c <=> 13dpg_c + adp_c Phosphoglycerate kinase\n",
    "\n",
    "PGM: 2pg_c <=> 3pg_c Phosphoglycerate mutase\n",
    "\n",
    "ENO: 2pg_c <=> h2o_c + pep_c Enolase\n",
    "\n",
    "PYK: adp_c + h_c + pep_c --> atp_c + pyr_c Pyruvate kinase\n",
    "\n",
    "\n",
    "\n",
    "Pentose phosphate\n",
    "G6PI: g6p_c <=> g6p_B_c Glucose 6 phosphate isomerase\n",
    "\n",
    "G6PDH2r: g6p_c + nadp_c <=> 6pgl_c + h_c + nadph_c Glucose 6-phosphate dehydrogenase !Uses D-Glucose-6P with no distinction between alpha and beta!\n",
    "\n",
    "PGL: 6pgl_c + h2o_c --> 6pgc_c + h_c 6-phosphogluconolactonase\n",
    "\n",
    "GND: 6pgc_c + nadp_c --> co2_c + nadph_c + ru5p__D_c Phosphogluconate dehydrogenase\n",
    "\n",
    "RPI: r5p_c <=> ru5p__D_c Ribose-5-phosphate isomerase\n"
   ]
  }
 ],
 "metadata": {
  "kernelspec": {
   "display_name": "Python 3",
   "language": "python",
   "name": "python3"
  },
  "language_info": {
   "codemirror_mode": {
    "name": "ipython",
    "version": 3
   },
   "file_extension": ".py",
   "mimetype": "text/x-python",
   "name": "python",
   "nbconvert_exporter": "python",
   "pygments_lexer": "ipython3",
   "version": "3.11.6"
  }
 },
 "nbformat": 4,
 "nbformat_minor": 2
}
