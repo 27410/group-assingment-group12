{
 "cells": [
  {
   "cell_type": "code",
   "execution_count": 4,
   "id": "6e7eb9f6-7cdd-41d5-8cfc-2ecdbdb3d552",
   "metadata": {},
   "outputs": [
    {
     "ename": "ImportError",
     "evalue": "cannot import name 'find_gene_knockout_reactions' from 'cobra.manipulation.delete' (C:\\Users\\max44\\anaconda3\\lib\\site-packages\\cobra\\manipulation\\delete.py)",
     "output_type": "error",
     "traceback": [
      "\u001b[1;31m---------------------------------------------------------------------------\u001b[0m",
      "\u001b[1;31mImportError\u001b[0m                               Traceback (most recent call last)",
      "Input \u001b[1;32mIn [4]\u001b[0m, in \u001b[0;36m<cell line: 8>\u001b[1;34m()\u001b[0m\n\u001b[0;32m      6\u001b[0m \u001b[38;5;28;01mfrom\u001b[39;00m \u001b[38;5;21;01mcameo\u001b[39;00m\u001b[38;5;21;01m.\u001b[39;00m\u001b[38;5;21;01mvisualization\u001b[39;00m\u001b[38;5;21;01m.\u001b[39;00m\u001b[38;5;21;01mplotting\u001b[39;00m\u001b[38;5;21;01m.\u001b[39;00m\u001b[38;5;21;01mwith_plotly\u001b[39;00m \u001b[38;5;28;01mimport\u001b[39;00m PlotlyPlotter\n\u001b[0;32m      7\u001b[0m \u001b[38;5;28;01mfrom\u001b[39;00m \u001b[38;5;21;01mcameo\u001b[39;00m \u001b[38;5;28;01mimport\u001b[39;00m phenotypic_phase_plane\n\u001b[1;32m----> 8\u001b[0m \u001b[38;5;28;01mfrom\u001b[39;00m \u001b[38;5;21;01mcameo\u001b[39;00m\u001b[38;5;21;01m.\u001b[39;00m\u001b[38;5;21;01mstrain_design\u001b[39;00m \u001b[38;5;28;01mimport\u001b[39;00m OptGene\n",
      "File \u001b[1;32m~\\anaconda3\\lib\\site-packages\\cameo\\strain_design\\__init__.py:18\u001b[0m, in \u001b[0;36m<module>\u001b[1;34m\u001b[0m\n\u001b[0;32m     15\u001b[0m \u001b[38;5;28;01mfrom\u001b[39;00m \u001b[38;5;21;01m__future__\u001b[39;00m \u001b[38;5;28;01mimport\u001b[39;00m absolute_import\n\u001b[0;32m     17\u001b[0m \u001b[38;5;28;01mfrom\u001b[39;00m \u001b[38;5;21;01mcameo\u001b[39;00m\u001b[38;5;21;01m.\u001b[39;00m\u001b[38;5;21;01mstrain_design\u001b[39;00m\u001b[38;5;21;01m.\u001b[39;00m\u001b[38;5;21;01mdeterministic\u001b[39;00m \u001b[38;5;28;01mimport\u001b[39;00m OptKnock, FSEOF, DifferentialFVA\n\u001b[1;32m---> 18\u001b[0m \u001b[38;5;28;01mfrom\u001b[39;00m \u001b[38;5;21;01mcameo\u001b[39;00m\u001b[38;5;21;01m.\u001b[39;00m\u001b[38;5;21;01mstrain_design\u001b[39;00m\u001b[38;5;21;01m.\u001b[39;00m\u001b[38;5;21;01mheuristic\u001b[39;00m \u001b[38;5;28;01mimport\u001b[39;00m OptGene\n",
      "File \u001b[1;32m~\\anaconda3\\lib\\site-packages\\cameo\\strain_design\\heuristic\\__init__.py:17\u001b[0m, in \u001b[0;36m<module>\u001b[1;34m\u001b[0m\n\u001b[0;32m      1\u001b[0m \u001b[38;5;66;03m# Copyright 2014 Novo Nordisk Foundation Center for Biosustainability, DTU.\u001b[39;00m\n\u001b[0;32m      2\u001b[0m \u001b[38;5;66;03m#\u001b[39;00m\n\u001b[0;32m      3\u001b[0m \u001b[38;5;66;03m# Licensed under the Apache License, Version 2.0 (the \"License\");\u001b[39;00m\n\u001b[1;32m   (...)\u001b[0m\n\u001b[0;32m     12\u001b[0m \u001b[38;5;66;03m# See the License for the specific language governing permissions and\u001b[39;00m\n\u001b[0;32m     13\u001b[0m \u001b[38;5;66;03m# limitations under the License.\u001b[39;00m\n\u001b[0;32m     15\u001b[0m \u001b[38;5;28;01mfrom\u001b[39;00m \u001b[38;5;21;01m__future__\u001b[39;00m \u001b[38;5;28;01mimport\u001b[39;00m absolute_import\n\u001b[1;32m---> 17\u001b[0m \u001b[38;5;28;01mfrom\u001b[39;00m \u001b[38;5;21;01mcameo\u001b[39;00m\u001b[38;5;21;01m.\u001b[39;00m\u001b[38;5;21;01mstrain_design\u001b[39;00m\u001b[38;5;21;01m.\u001b[39;00m\u001b[38;5;21;01mheuristic\u001b[39;00m\u001b[38;5;21;01m.\u001b[39;00m\u001b[38;5;21;01mevolutionary_based\u001b[39;00m \u001b[38;5;28;01mimport\u001b[39;00m OptGene\n",
      "File \u001b[1;32m~\\anaconda3\\lib\\site-packages\\cameo\\strain_design\\heuristic\\evolutionary_based.py:38\u001b[0m, in \u001b[0;36m<module>\u001b[1;34m\u001b[0m\n\u001b[0;32m     34\u001b[0m \u001b[38;5;28;01mfrom\u001b[39;00m \u001b[38;5;21;01mcameo\u001b[39;00m\u001b[38;5;21;01m.\u001b[39;00m\u001b[38;5;21;01mstrain_design\u001b[39;00m\u001b[38;5;21;01m.\u001b[39;00m\u001b[38;5;21;01mheuristic\u001b[39;00m\u001b[38;5;21;01m.\u001b[39;00m\u001b[38;5;21;01mevolutionary\u001b[39;00m\u001b[38;5;21;01m.\u001b[39;00m\u001b[38;5;21;01mobjective_functions\u001b[39;00m \u001b[38;5;28;01mimport\u001b[39;00m biomass_product_coupled_min_yield, \\\n\u001b[0;32m     35\u001b[0m     biomass_product_coupled_yield\n\u001b[0;32m     36\u001b[0m \u001b[38;5;28;01mfrom\u001b[39;00m \u001b[38;5;21;01mcameo\u001b[39;00m\u001b[38;5;21;01m.\u001b[39;00m\u001b[38;5;21;01mstrain_design\u001b[39;00m\u001b[38;5;21;01m.\u001b[39;00m\u001b[38;5;21;01mheuristic\u001b[39;00m\u001b[38;5;21;01m.\u001b[39;00m\u001b[38;5;21;01mevolutionary\u001b[39;00m\u001b[38;5;21;01m.\u001b[39;00m\u001b[38;5;21;01moptimization\u001b[39;00m \u001b[38;5;28;01mimport\u001b[39;00m GeneKnockoutOptimization, \\\n\u001b[0;32m     37\u001b[0m     ReactionKnockoutOptimization, CofactorSwapOptimization, NADH_NADPH\n\u001b[1;32m---> 38\u001b[0m \u001b[38;5;28;01mfrom\u001b[39;00m \u001b[38;5;21;01mcameo\u001b[39;00m\u001b[38;5;21;01m.\u001b[39;00m\u001b[38;5;21;01mstrain_design\u001b[39;00m\u001b[38;5;21;01m.\u001b[39;00m\u001b[38;5;21;01mheuristic\u001b[39;00m\u001b[38;5;21;01m.\u001b[39;00m\u001b[38;5;21;01mevolutionary\u001b[39;00m\u001b[38;5;21;01m.\u001b[39;00m\u001b[38;5;21;01mprocessing\u001b[39;00m \u001b[38;5;28;01mimport\u001b[39;00m process_reaction_knockout_solution, \\\n\u001b[0;32m     39\u001b[0m     process_gene_knockout_solution, process_reaction_swap_solution\n\u001b[0;32m     40\u001b[0m \u001b[38;5;28;01mfrom\u001b[39;00m \u001b[38;5;21;01mcameo\u001b[39;00m\u001b[38;5;21;01m.\u001b[39;00m\u001b[38;5;21;01mutil\u001b[39;00m \u001b[38;5;28;01mimport\u001b[39;00m TimeMachine\n\u001b[0;32m     41\u001b[0m \u001b[38;5;28;01mfrom\u001b[39;00m \u001b[38;5;21;01mcameo\u001b[39;00m\u001b[38;5;21;01m.\u001b[39;00m\u001b[38;5;21;01mcore\u001b[39;00m\u001b[38;5;21;01m.\u001b[39;00m\u001b[38;5;21;01mutils\u001b[39;00m \u001b[38;5;28;01mimport\u001b[39;00m get_reaction_for\n",
      "File \u001b[1;32m~\\anaconda3\\lib\\site-packages\\cameo\\strain_design\\heuristic\\evolutionary\\processing.py:14\u001b[0m, in \u001b[0;36m<module>\u001b[1;34m\u001b[0m\n\u001b[0;32m      1\u001b[0m \u001b[38;5;66;03m# Copyright 2016 Novo Nordisk Foundation Center for Biosustainability, DTU.\u001b[39;00m\n\u001b[0;32m      2\u001b[0m \n\u001b[0;32m      3\u001b[0m \u001b[38;5;66;03m# Licensed under the Apache License, Version 2.0 (the \"License\");\u001b[39;00m\n\u001b[1;32m   (...)\u001b[0m\n\u001b[0;32m     12\u001b[0m \u001b[38;5;66;03m# See the License for the specific language governing permissions and\u001b[39;00m\n\u001b[0;32m     13\u001b[0m \u001b[38;5;66;03m# limitations under the License.\u001b[39;00m\n\u001b[1;32m---> 14\u001b[0m \u001b[38;5;28;01mfrom\u001b[39;00m \u001b[38;5;21;01mcobra\u001b[39;00m\u001b[38;5;21;01m.\u001b[39;00m\u001b[38;5;21;01mmanipulation\u001b[39;00m\u001b[38;5;21;01m.\u001b[39;00m\u001b[38;5;21;01mdelete\u001b[39;00m \u001b[38;5;28;01mimport\u001b[39;00m find_gene_knockout_reactions\n\u001b[0;32m     15\u001b[0m \u001b[38;5;28;01mfrom\u001b[39;00m \u001b[38;5;21;01mcameo\u001b[39;00m\u001b[38;5;21;01m.\u001b[39;00m\u001b[38;5;21;01mcore\u001b[39;00m\u001b[38;5;21;01m.\u001b[39;00m\u001b[38;5;21;01mmanipulation\u001b[39;00m \u001b[38;5;28;01mimport\u001b[39;00m swap_cofactors\n\u001b[0;32m     17\u001b[0m \u001b[38;5;28;01mfrom\u001b[39;00m \u001b[38;5;21;01mcameo\u001b[39;00m \u001b[38;5;28;01mimport\u001b[39;00m flux_variability_analysis\n",
      "\u001b[1;31mImportError\u001b[0m: cannot import name 'find_gene_knockout_reactions' from 'cobra.manipulation.delete' (C:\\Users\\max44\\anaconda3\\lib\\site-packages\\cobra\\manipulation\\delete.py)"
     ]
    }
   ],
   "source": [
    "import cobra.io\n",
    "#from cobra.io import read_sbml_model\n",
    "import model_methods\n",
    "\n",
    "from cameo import models\n",
    "from cameo.visualization.plotting.with_plotly import PlotlyPlotter\n",
    "from cameo import phenotypic_phase_plane\n",
    "from cameo.strain_design import OptGene"
   ]
  },
  {
   "cell_type": "code",
   "execution_count": 3,
   "id": "8cedab59-3fb4-41ba-ac12-c6192c71164a",
   "metadata": {},
   "outputs": [
    {
     "name": "stdout",
     "output_type": "stream",
     "text": [
      "Requirement already satisfied: cobra in c:\\users\\max44\\anaconda3\\lib\\site-packages (0.27.0)\n",
      "Requirement already satisfied: swiglpk in c:\\users\\max44\\anaconda3\\lib\\site-packages (from cobra) (5.0.8)\n",
      "Requirement already satisfied: optlang~=1.5 in c:\\users\\max44\\anaconda3\\lib\\site-packages (from cobra) (1.7.0)\n",
      "Requirement already satisfied: pandas~=1.0 in c:\\users\\max44\\anaconda3\\lib\\site-packages (from cobra) (1.4.4)\n",
      "Requirement already satisfied: future in c:\\users\\max44\\anaconda3\\lib\\site-packages (from cobra) (0.18.2)\n",
      "Requirement already satisfied: pydantic>=1.6 in c:\\users\\max44\\anaconda3\\lib\\site-packages (from cobra) (2.3.0)\n",
      "Requirement already satisfied: numpy>=1.13 in c:\\users\\max44\\anaconda3\\lib\\site-packages (from cobra) (1.21.5)\n",
      "Requirement already satisfied: importlib-resources in c:\\users\\max44\\anaconda3\\lib\\site-packages (from cobra) (6.0.1)\n",
      "Requirement already satisfied: diskcache~=5.0 in c:\\users\\max44\\anaconda3\\lib\\site-packages (from cobra) (5.6.3)\n",
      "Requirement already satisfied: httpx~=0.24 in c:\\users\\max44\\anaconda3\\lib\\site-packages (from cobra) (0.25.0)\n",
      "Requirement already satisfied: rich>=8.0 in c:\\users\\max44\\anaconda3\\lib\\site-packages (from cobra) (13.5.3)\n",
      "Requirement already satisfied: appdirs~=1.4 in c:\\users\\max44\\anaconda3\\lib\\site-packages (from cobra) (1.4.4)\n",
      "Requirement already satisfied: python-libsbml~=5.19 in c:\\users\\max44\\anaconda3\\lib\\site-packages (from cobra) (5.20.1)\n",
      "Requirement already satisfied: ruamel.yaml~=0.16 in c:\\users\\max44\\anaconda3\\lib\\site-packages (from cobra) (0.17.32)\n",
      "Requirement already satisfied: depinfo~=1.7 in c:\\users\\max44\\anaconda3\\lib\\site-packages (from cobra) (1.7.0)\n",
      "Requirement already satisfied: idna in c:\\users\\max44\\anaconda3\\lib\\site-packages (from httpx~=0.24->cobra) (3.3)\n",
      "Requirement already satisfied: httpcore<0.19.0,>=0.18.0 in c:\\users\\max44\\anaconda3\\lib\\site-packages (from httpx~=0.24->cobra) (0.18.0)\n",
      "Requirement already satisfied: sniffio in c:\\users\\max44\\anaconda3\\lib\\site-packages (from httpx~=0.24->cobra) (1.2.0)\n",
      "Requirement already satisfied: certifi in c:\\users\\max44\\anaconda3\\lib\\site-packages (from httpx~=0.24->cobra) (2023.7.22)\n",
      "Requirement already satisfied: sympy>=1.12.0 in c:\\users\\max44\\anaconda3\\lib\\site-packages (from optlang~=1.5->cobra) (1.12)\n",
      "Requirement already satisfied: six>=1.9 in c:\\users\\max44\\anaconda3\\lib\\site-packages (from optlang~=1.5->cobra) (1.16.0)\n",
      "Requirement already satisfied: pytz>=2020.1 in c:\\users\\max44\\anaconda3\\lib\\site-packages (from pandas~=1.0->cobra) (2022.1)\n",
      "Requirement already satisfied: python-dateutil>=2.8.1 in c:\\users\\max44\\anaconda3\\lib\\site-packages (from pandas~=1.0->cobra) (2.8.2)\n",
      "Requirement already satisfied: typing-extensions>=4.6.1 in c:\\users\\max44\\anaconda3\\lib\\site-packages (from pydantic>=1.6->cobra) (4.8.0)\n",
      "Requirement already satisfied: annotated-types>=0.4.0 in c:\\users\\max44\\anaconda3\\lib\\site-packages (from pydantic>=1.6->cobra) (0.5.0)\n",
      "Requirement already satisfied: pydantic-core==2.6.3 in c:\\users\\max44\\anaconda3\\lib\\site-packages (from pydantic>=1.6->cobra) (2.6.3)\n",
      "Requirement already satisfied: pygments<3.0.0,>=2.13.0 in c:\\users\\max44\\anaconda3\\lib\\site-packages (from rich>=8.0->cobra) (2.16.1)\n",
      "Requirement already satisfied: markdown-it-py>=2.2.0 in c:\\users\\max44\\anaconda3\\lib\\site-packages (from rich>=8.0->cobra) (3.0.0)\n",
      "Requirement already satisfied: ruamel.yaml.clib>=0.2.7 in c:\\users\\max44\\anaconda3\\lib\\site-packages (from ruamel.yaml~=0.16->cobra) (0.2.7)\n",
      "Requirement already satisfied: zipp>=3.1.0 in c:\\users\\max44\\anaconda3\\lib\\site-packages (from importlib-resources->cobra) (3.8.0)\n",
      "Requirement already satisfied: h11<0.15,>=0.13 in c:\\users\\max44\\anaconda3\\lib\\site-packages (from httpcore<0.19.0,>=0.18.0->httpx~=0.24->cobra) (0.14.0)\n",
      "Requirement already satisfied: anyio<5.0,>=3.0 in c:\\users\\max44\\anaconda3\\lib\\site-packages (from httpcore<0.19.0,>=0.18.0->httpx~=0.24->cobra) (3.5.0)\n",
      "Requirement already satisfied: mdurl~=0.1 in c:\\users\\max44\\anaconda3\\lib\\site-packages (from markdown-it-py>=2.2.0->rich>=8.0->cobra) (0.1.2)\n",
      "Requirement already satisfied: mpmath>=0.19 in c:\\users\\max44\\anaconda3\\lib\\site-packages (from sympy>=1.12.0->optlang~=1.5->cobra) (1.2.1)\n"
     ]
    }
   ],
   "source": [
    "!pip install cobra"
   ]
  },
  {
   "cell_type": "markdown",
   "id": "7c71700b-04cb-4736-baa2-834b2731e709",
   "metadata": {},
   "source": [
    "# OptKnock"
   ]
  },
  {
   "cell_type": "markdown",
   "id": "f836803c-6ec1-4e42-9d68-e857191872db",
   "metadata": {},
   "source": []
  },
  {
   "cell_type": "code",
   "execution_count": 1,
   "id": "f7db49d7-8a35-43f5-92dd-ed0cb4fa6ef6",
   "metadata": {},
   "outputs": [
    {
     "ename": "NameError",
     "evalue": "name 'model_methods' is not defined",
     "output_type": "error",
     "traceback": [
      "\u001b[1;31m---------------------------------------------------------------------------\u001b[0m",
      "\u001b[1;31mNameError\u001b[0m                                 Traceback (most recent call last)",
      "Input \u001b[1;32mIn [1]\u001b[0m, in \u001b[0;36m<cell line: 2>\u001b[1;34m()\u001b[0m\n\u001b[0;32m      1\u001b[0m \u001b[38;5;66;03m# import model\u001b[39;00m\n\u001b[1;32m----> 2\u001b[0m model_base \u001b[38;5;241m=\u001b[39m \u001b[43mmodel_methods\u001b[49m\u001b[38;5;241m.\u001b[39mget_base_model()\n\u001b[0;32m      3\u001b[0m model \u001b[38;5;241m=\u001b[39m model_methods\u001b[38;5;241m.\u001b[39mupdate_medium(model_base)\n",
      "\u001b[1;31mNameError\u001b[0m: name 'model_methods' is not defined"
     ]
    }
   ],
   "source": [
    "# import model\n",
    "model_base = model_methods.get_base_model()\n",
    "model = model_methods.update_medium(model_base)"
   ]
  },
  {
   "cell_type": "code",
   "execution_count": null,
   "id": "401c4bba-8571-48a5-a551-a10c0b1383c1",
   "metadata": {},
   "outputs": [],
   "source": [
    "plotter = PlotlyPlotter()\n",
    "wt_solution = model.optimize()\n",
    "growth = wt_solution.fluxes[\"BIOMASS_LLA\"]\n",
    "acetate_production = wt_solution.reactions.DM_mqn7_c"
   ]
  }
 ],
 "metadata": {
  "kernelspec": {
   "display_name": "Python 3 (ipykernel)",
   "language": "python",
   "name": "python3"
  },
  "language_info": {
   "codemirror_mode": {
    "name": "ipython",
    "version": 3
   },
   "file_extension": ".py",
   "mimetype": "text/x-python",
   "name": "python",
   "nbconvert_exporter": "python",
   "pygments_lexer": "ipython3",
   "version": "3.9.13"
  }
 },
 "nbformat": 4,
 "nbformat_minor": 5
}
