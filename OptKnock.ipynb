{
 "cells": [
  {
   "cell_type": "code",
   "execution_count": 17,
   "id": "6e7eb9f6-7cdd-41d5-8cfc-2ecdbdb3d552",
   "metadata": {},
   "outputs": [
    {
     "name": "stdout",
     "output_type": "stream",
     "text": [
      "ImportError: cannot import name 'find_gene_knockout_reactions' from 'cobra.manipulation.delete' (c:\\Users\\s164898\\Anaconda3\\lib\\site-packages\\cobra\\manipulation\\delete.py)\n",
      "ImportError: cannot import name 'find_gene_knockout_reactions' from 'cobra.manipulation.delete' (c:\\Users\\s164898\\Anaconda3\\lib\\site-packages\\cobra\\manipulation\\delete.py)\n"
     ]
    }
   ],
   "source": [
    "import cobra.io\n",
    "#from cobra.io import read_sbml_model\n",
    "import model_methods\n",
    "\n",
    "from cameo import models\n",
    "from cameo.visualization.plotting.with_plotly import PlotlyPlotter\n",
    "from cameo import phenotypic_phase_plane\n",
    "try:\n",
    "    from cameo.strain_design import OptKnock\n",
    "except ImportError as e:\n",
    "    print(f\"ImportError: {e}\")\n",
    "    # Additional error handling or troubleshooting steps\n",
    "try:\n",
    "    from cameo.strain_design import OptGene\n",
    "except ImportError as e:\n",
    "    print(f\"ImportError: {e}\")\n",
    "    # Additional error handling or troubleshooting steps\n",
    "\n",
    "\n"
   ]
  },
  {
   "cell_type": "code",
   "execution_count": 14,
   "id": "8cedab59-3fb4-41ba-ac12-c6192c71164a",
   "metadata": {},
   "outputs": [
    {
     "name": "stdout",
     "output_type": "stream",
     "text": [
      "Requirement already satisfied: cobra in c:\\users\\s164898\\anaconda3\\lib\\site-packages (0.29.0)\n",
      "Requirement already satisfied: future in c:\\users\\s164898\\anaconda3\\lib\\site-packages (from cobra) (0.18.2)\n",
      "Requirement already satisfied: pydantic>=1.6 in c:\\users\\s164898\\anaconda3\\lib\\site-packages (from cobra) (1.10.5)\n",
      "Requirement already satisfied: appdirs~=1.4 in c:\\users\\s164898\\anaconda3\\lib\\site-packages (from cobra) (1.4.4)\n",
      "Requirement already satisfied: importlib-resources in c:\\users\\s164898\\anaconda3\\lib\\site-packages (from cobra) (5.12.0)\n",
      "Requirement already satisfied: pandas<3.0,>=1.0 in c:\\users\\s164898\\anaconda3\\lib\\site-packages (from cobra) (1.4.4)\n",
      "Requirement already satisfied: swiglpk in c:\\users\\s164898\\anaconda3\\lib\\site-packages (from cobra) (5.0.8)\n",
      "Requirement already satisfied: diskcache~=5.0 in c:\\users\\s164898\\anaconda3\\lib\\site-packages (from cobra) (5.4.0)\n",
      "Requirement already satisfied: numpy>=1.13 in c:\\users\\s164898\\anaconda3\\lib\\site-packages (from cobra) (1.21.5)\n",
      "Requirement already satisfied: python-libsbml~=5.19 in c:\\users\\s164898\\anaconda3\\lib\\site-packages (from cobra) (5.19.7)\n",
      "Requirement already satisfied: rich>=8.0 in c:\\users\\s164898\\anaconda3\\lib\\site-packages (from cobra) (13.3.1)\n",
      "Requirement already satisfied: optlang~=1.8 in c:\\users\\s164898\\anaconda3\\lib\\site-packages (from cobra) (1.8.1)\n",
      "Requirement already satisfied: ruamel.yaml~=0.16 in c:\\users\\s164898\\anaconda3\\lib\\site-packages (from cobra) (0.17.21)\n",
      "Requirement already satisfied: httpx~=0.24 in c:\\users\\s164898\\anaconda3\\lib\\site-packages (from cobra) (0.25.1)\n",
      "Requirement already satisfied: depinfo~=2.2 in c:\\users\\s164898\\anaconda3\\lib\\site-packages (from cobra) (2.2.0)\n",
      "Requirement already satisfied: httpcore in c:\\users\\s164898\\anaconda3\\lib\\site-packages (from httpx~=0.24->cobra) (0.16.3)\n",
      "Requirement already satisfied: idna in c:\\users\\s164898\\anaconda3\\lib\\site-packages (from httpx~=0.24->cobra) (3.3)\n",
      "Requirement already satisfied: sniffio in c:\\users\\s164898\\anaconda3\\lib\\site-packages (from httpx~=0.24->cobra) (1.2.0)\n",
      "Requirement already satisfied: anyio in c:\\users\\s164898\\anaconda3\\lib\\site-packages (from httpx~=0.24->cobra) (3.5.0)\n",
      "Requirement already satisfied: certifi in c:\\users\\s164898\\anaconda3\\lib\\site-packages (from httpx~=0.24->cobra) (2023.5.7)\n",
      "Requirement already satisfied: six>=1.9 in c:\\users\\s164898\\anaconda3\\lib\\site-packages (from optlang~=1.8->cobra) (1.16.0)\n",
      "Requirement already satisfied: sympy>=1.12.0 in c:\\users\\s164898\\anaconda3\\lib\\site-packages (from optlang~=1.8->cobra) (1.12)\n",
      "Requirement already satisfied: pytz>=2020.1 in c:\\users\\s164898\\anaconda3\\lib\\site-packages (from pandas<3.0,>=1.0->cobra) (2022.1)\n",
      "Requirement already satisfied: python-dateutil>=2.8.1 in c:\\users\\s164898\\anaconda3\\lib\\site-packages (from pandas<3.0,>=1.0->cobra) (2.8.2)\n",
      "Requirement already satisfied: typing-extensions>=4.2.0 in c:\\users\\s164898\\anaconda3\\lib\\site-packages (from pydantic>=1.6->cobra) (4.3.0)\n",
      "Requirement already satisfied: pygments<3.0.0,>=2.14.0 in c:\\users\\s164898\\anaconda3\\lib\\site-packages (from rich>=8.0->cobra) (2.15.1)\n",
      "Requirement already satisfied: markdown-it-py<3.0.0,>=2.1.0 in c:\\users\\s164898\\anaconda3\\lib\\site-packages (from rich>=8.0->cobra) (2.2.0)\n",
      "Requirement already satisfied: ruamel.yaml.clib>=0.2.6 in c:\\users\\s164898\\anaconda3\\lib\\site-packages (from ruamel.yaml~=0.16->cobra) (0.2.7)\n",
      "Requirement already satisfied: zipp>=3.1.0 in c:\\users\\s164898\\anaconda3\\lib\\site-packages (from importlib-resources->cobra) (3.8.0)\n",
      "Requirement already satisfied: mdurl~=0.1 in c:\\users\\s164898\\anaconda3\\lib\\site-packages (from markdown-it-py<3.0.0,>=2.1.0->rich>=8.0->cobra) (0.1.2)\n",
      "Requirement already satisfied: mpmath>=0.19 in c:\\users\\s164898\\anaconda3\\lib\\site-packages (from sympy>=1.12.0->optlang~=1.8->cobra) (1.2.1)\n",
      "Requirement already satisfied: h11<0.15,>=0.13 in c:\\users\\s164898\\anaconda3\\lib\\site-packages (from httpcore->httpx~=0.24->cobra) (0.14.0)\n"
     ]
    }
   ],
   "source": [
    "!pip install cobra"
   ]
  }
 ],
 "metadata": {
  "kernelspec": {
   "display_name": "Python 3 (ipykernel)",
   "language": "python",
   "name": "python3"
  },
  "language_info": {
   "codemirror_mode": {
    "name": "ipython",
    "version": 3
   },
   "file_extension": ".py",
   "mimetype": "text/x-python",
   "name": "python",
   "nbconvert_exporter": "python",
   "pygments_lexer": "ipython3",
   "version": "3.9.13"
  }
 },
 "nbformat": 4,
 "nbformat_minor": 5
}
