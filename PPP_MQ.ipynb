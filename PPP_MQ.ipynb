{
 "cells": [
  {
   "cell_type": "code",
   "execution_count": 3,
   "id": "b7c6d2e5-3601-4f69-b63d-2f7b74a86e85",
   "metadata": {
    "tags": []
   },
   "outputs": [],
   "source": [
    "import pandas as pd\n",
    "import matplotlib.pyplot as plt\n",
    "import warnings\n",
    "warnings.filterwarnings('ignore')\n",
    "plt.style.use('seaborn')\n",
    "%matplotlib inline"
   ]
  },
  {
   "cell_type": "code",
   "execution_count": 4,
   "id": "1aa22d35-d786-4a81-8d0a-678e6e72e319",
   "metadata": {
    "tags": []
   },
   "outputs": [],
   "source": [
    "from cobra.io import read_sbml_model\n",
    "model = read_sbml_model('iNF517.xml')\n",
    "medium = model.medium\n",
    "model.medium = medium"
   ]
  },
  {
   "cell_type": "markdown",
   "id": "651d04ad-f355-4df8-b85e-f8d649e9d9ce",
   "metadata": {},
   "source": [
    "## Menaquinone pathway"
   ]
  },
  {
   "cell_type": "code",
   "execution_count": 5,
   "id": "2c4cede7-8fbf-4c74-997a-d167be7a9707",
   "metadata": {
    "tags": []
   },
   "outputs": [
    {
     "name": "stdout",
     "output_type": "stream",
     "text": [
      "Educt: Chorismate \n",
      "\n",
      "Product: Isochorismate \n",
      "\n",
      "Enzyme: Isochorismate synthase \n",
      "\n",
      "Reaction ID & equation: ICHORS: chor_c <=> ichor_c \n",
      "\n",
      "Corresponding gene: LLMG_RS09155\n"
     ]
    }
   ],
   "source": [
    "# educt\n",
    "educt = model.metabolites.get_by_id(\"chor_c\") #edit here\n",
    "print(f\"Educt: {educt.name} \\n\")\n",
    "\n",
    "# product\n",
    "product = model.metabolites.get_by_id(\"ichor_c\") #edit here\n",
    "print(f\"Product: {product.name} \\n\")\n",
    "\n",
    "# reaction\n",
    "reaction = model.reactions.ICHORS #edit here\n",
    "print(f\"Enzyme: {reaction.name} \\n\")\n",
    "print(f\"Reaction ID & equation: {reaction} \\n\")\n",
    "\n",
    "#gene\n",
    "print(f\"Corresponding gene: {reaction.gene_reaction_rule}\")"
   ]
  },
  {
   "cell_type": "code",
   "execution_count": 6,
   "id": "2b0b34ea-40b4-431b-a5f0-00162d82c09c",
   "metadata": {
    "tags": []
   },
   "outputs": [],
   "source": [
    "from cobra import Reaction, Metabolite\n",
    "\n",
    "# first new reaction, completion\n",
    "# https://www.kegg.jp/entry/R08165\n",
    "# http://bigg.ucsd.edu/universal/reactions/SEPHCHCS\n",
    "# Isochorismate + 2-Oxoglutarate <=> 2-Succinyl-5-enolpyruvyl-6-hydroxy-3-cyclohexene-1-carboxylate + CO2\n",
    "# akg_c + h_c + ichor_c ⇌ 2sephchc_c + co2_c, menD \n",
    "\n",
    "model.remove_reactions(['SEPHCHCS'])\n",
    "new_reaction1 = Reaction('SEPHCHCS') # the enzyme / reaction name from BIGG\n",
    "new_reaction1.name = '2-succinyl-5-enolpyruvyl-6-hydroxy-3-cyclohexene-1-carboxylate synthase'\n",
    "# new_reaction1.gene_reaction_rule = '( )'\n",
    "sephchc = Metabolite(id='2sephchc_c', compartment='c', name='2-succinyl-5-enolpyruvyl-6-hydroxy-3-cyclohexene-1-carboxylate')\n",
    "new_reaction1.gene_reaction_rule = '( LLMG_1829 )'\n",
    "\n",
    "new_reaction1.add_metabolites({model.metabolites.get_by_id('akg_c'): -1,\n",
    "                               model.metabolites.get_by_id('h_c'): -1,\n",
    "                               model.metabolites.get_by_id('ichor_c'): -1,\n",
    "                               sephchc: 1,\n",
    "                               model.metabolites.get_by_id('co2_c'): 1\n",
    "                              })\n",
    "\n",
    "model.add_reactions([new_reaction1])"
   ]
  },
  {
   "cell_type": "code",
   "execution_count": 9,
   "id": "e5262eb6-7f19-46e1-8aef-d002115e4e93",
   "metadata": {
    "tags": []
   },
   "outputs": [
    {
     "name": "stdout",
     "output_type": "stream",
     "text": [
      "Educt: Isochorismate \n",
      "\n",
      "Product: 2-succinyl-5-enolpyruvyl-6-hydroxy-3-cyclohexene-1-carboxylate \n",
      "\n",
      "Enzyme: 2-succinyl-5-enolpyruvyl-6-hydroxy-3-cyclohexene-1-carboxylate synthase \n",
      "\n",
      "Reaction ID & equation: SEPHCHCS: akg_c + h_c + ichor_c --> 2sephchc_c + co2_c \n",
      "\n",
      "Corresponding gene: LLMG_1829 \n",
      "\n",
      "Cofactors: Mg2+, Mn2+\n"
     ]
    }
   ],
   "source": [
    "# educt\n",
    "educt = model.metabolites.get_by_id(\"ichor_c\") #edit here\n",
    "print(f\"Educt: {educt.name} \\n\")\n",
    "\n",
    "# product\n",
    "product = model.metabolites.get_by_id(\"2sephchc_c\") #edit here\n",
    "print(f\"Product: {product.name} \\n\")\n",
    "\n",
    "# reaction\n",
    "reaction = model.reactions.SEPHCHCS #edit here\n",
    "print(f\"Enzyme: {reaction.name} \\n\")\n",
    "print(f\"Reaction ID & equation: {reaction} \\n\")\n",
    "\n",
    "# gene\n",
    "print(f\"Corresponding gene: {reaction.gene_reaction_rule} \\n\")\n",
    "\n",
    "# cofactors\n",
    "# https://www.uniprot.org/uniprotkb/A2RM73/entry\n",
    "print(\"Cofactors: Mg2+, Mn2+\")"
   ]
  },
  {
   "cell_type": "code",
   "execution_count": 11,
   "id": "5d81121b-bde3-48b4-a1b4-287f573cd8db",
   "metadata": {
    "tags": []
   },
   "outputs": [],
   "source": [
    "# second new reaction, completion\n",
    "# https://www.kegg.jp/entry/R08166\n",
    "# http://bigg.ucsd.edu/universal/reactions/SHCHCS3\n",
    "# 2-Succinyl-5-enolpyruvyl-6-hydroxy-3-cyclohexene-1-carboxylate <=> \n",
    "# (1R,6R)-6-Hydroxy-2-succinylcyclohexa-2,4-diene-1-carboxylate + Pyruvate\n",
    "# 2sephchc_c ⇌ 2shchc_c + pyr_c, menH\n",
    "\n",
    "model.remove_reactions(['SHCHCS3'])\n",
    "new_reaction2 = Reaction('SHCHCS3') # the enzyme / reaction name from BIGG\n",
    "new_reaction2.name = '2-succinyl-6-hydroxy-2,4-cyclohexadiene-1-carboxylate synthase'\n",
    "new_reaction2.gene_reaction_rule = '( LLMG_1830 )'\n",
    "\n",
    "new_reaction2.add_metabolites({model.metabolites.get_by_id('2sephchc_c'): -1,\n",
    "                               model.metabolites.get_by_id('2shchc_c'): 1,\n",
    "                               model.metabolites.get_by_id('pyr_c'): 1\n",
    "                              })\n",
    "\n",
    "model.add_reactions([new_reaction2])"
   ]
  },
  {
   "cell_type": "code",
   "execution_count": 12,
   "id": "3b2ab09a-7970-4387-b62d-b960bc5052a4",
   "metadata": {
    "tags": []
   },
   "outputs": [
    {
     "name": "stdout",
     "output_type": "stream",
     "text": [
      "Educt: 2-succinyl-5-enolpyruvyl-6-hydroxy-3-cyclohexene-1-carboxylate \n",
      "\n",
      "Product: 2-Succinyl-6-hydroxy-2,4-cyclohexadiene-1-carboxylate \n",
      "\n",
      "Enzyme: 2-succinyl-6-hydroxy-2,4-cyclohexadiene-1-carboxylate synthase \n",
      "\n",
      "Reaction ID & equation: SHCHCS3: 2sephchc_c --> 2shchc_c + pyr_c \n",
      "\n",
      "Corresponding gene: LLMG_1830\n"
     ]
    }
   ],
   "source": [
    "# educt\n",
    "educt = model.metabolites.get_by_id(\"2sephchc_c\") #edit here\n",
    "print(f\"Educt: {educt.name} \\n\")\n",
    "\n",
    "# product\n",
    "product = model.metabolites.get_by_id(\"2shchc_c\") #edit here\n",
    "print(f\"Product: {product.name} \\n\")\n",
    "\n",
    "# reaction\n",
    "r_name = 'SHCHCS3'\n",
    "reaction = model.reactions.get_by_id(r_name) #edit here\n",
    "print(f\"Enzyme: {reaction.name} \\n\")\n",
    "print(f\"Reaction ID & equation: {reaction} \\n\")\n",
    "\n",
    "#gene\n",
    "print(f\"Corresponding gene: {reaction.gene_reaction_rule}\")"
   ]
  },
  {
   "cell_type": "code",
   "execution_count": 13,
   "id": "2d8ca6be-0cff-4c8e-a0ec-fa84b5b7b6f2",
   "metadata": {
    "tags": []
   },
   "outputs": [
    {
     "name": "stdout",
     "output_type": "stream",
     "text": [
      "Educt: 2-Succinyl-6-hydroxy-2,4-cyclohexadiene-1-carboxylate \n",
      "\n",
      "Product: O-Succinylbenzoate \n",
      "\n",
      "Enzyme: O-succinylbenzoate-CoA synthase \n",
      "\n",
      "Reaction ID & equation: SUCBZS: 2shchc_c --> h2o_c + sucbz_c \n",
      "\n",
      "Corresponding gene: LLMG_RS09180\n"
     ]
    }
   ],
   "source": [
    "# educt\n",
    "educt = model.metabolites.get_by_id(\"2shchc_c\") #edit here\n",
    "print(f\"Educt: {educt.name} \\n\")\n",
    "\n",
    "# product\n",
    "product = model.metabolites.get_by_id(\"sucbz_c\") #edit here\n",
    "print(f\"Product: {product.name} \\n\")\n",
    "\n",
    "# reaction\n",
    "r_name = 'SUCBZS'\n",
    "reaction = model.reactions.get_by_id(r_name) #edit here\n",
    "print(f\"Enzyme: {reaction.name} \\n\") #menE\n",
    "print(f\"Reaction ID & equation: {reaction} \\n\")\n",
    "\n",
    "#gene\n",
    "print(f\"Corresponding gene: {reaction.gene_reaction_rule}\")"
   ]
  },
  {
   "cell_type": "code",
   "execution_count": 14,
   "id": "93e842bb-7bae-4fe9-96f3-450b393d0534",
   "metadata": {
    "tags": []
   },
   "outputs": [
    {
     "name": "stdout",
     "output_type": "stream",
     "text": [
      "Educt: O-Succinylbenzoate \n",
      "\n",
      "Product: O-Succinylbenzoyl-CoA \n",
      "\n",
      "Enzyme: O-succinylbenzoate-CoA ligase \n",
      "\n",
      "Reaction ID & equation: SUCBZL: atp_c + coa_c + sucbz_c --> amp_c + ppi_c + sbzcoa_c \n",
      "\n",
      "Corresponding gene: LLMG_RS09175\n"
     ]
    }
   ],
   "source": [
    "# educt\n",
    "educt = model.metabolites.get_by_id(\"sucbz_c\") #edit here\n",
    "print(f\"Educt: {educt.name} \\n\")\n",
    "\n",
    "# product\n",
    "product = model.metabolites.get_by_id(\"sbzcoa_c\") #edit here\n",
    "print(f\"Product: {product.name} \\n\")\n",
    "\n",
    "# reaction\n",
    "r_name = 'SUCBZL'\n",
    "reaction = model.reactions.get_by_id(r_name) #edit here\n",
    "print(f\"Enzyme: {reaction.name} \\n\") #menE\n",
    "print(f\"Reaction ID & equation: {reaction} \\n\")\n",
    "\n",
    "#gene\n",
    "print(f\"Corresponding gene: {reaction.gene_reaction_rule}\")"
   ]
  },
  {
   "cell_type": "code",
   "execution_count": 15,
   "id": "721ffdea-55e6-4436-b921-cab0653d1231",
   "metadata": {
    "tags": []
   },
   "outputs": [],
   "source": [
    "# third new reaction, completion\n",
    "# https://www.kegg.jp/entry/R07263\n",
    "# http://bigg.ucsd.edu/universal/reactions/SBZCOADH_x\n",
    "# 2-Succinylbenzoyl-CoA <=> 1,4-Dihydroxy-2-naphthoyl-CoA + H2O\n",
    "# h_c + sbzcoa_c ⇌ h2o_c + dhncoa_c, menB\n",
    "\n",
    "model.remove_reactions(['DHNCOAS'])\n",
    "new_reaction3 = Reaction('DHNCOAS') # the enzyme / reaction name from BIGG\n",
    "new_reaction3.name = '4-(2-carboxyphenyl)-4-oxobutanoyl-CoA dehydratase'\n",
    "new_reaction3.gene_reaction_rule = '( LLMG_1831 )'\n",
    "\n",
    "dhncoa = Metabolite(id='14dhncoa_c', compartment='c', name='1,4-Dihydroxy-2-naphthoyl-CoA')\n",
    "\n",
    "new_reaction3.add_metabolites({model.metabolites.get_by_id('sbzcoa_c'): -1,\n",
    "                               model.metabolites.get_by_id('h_c'): -1,\n",
    "                               dhncoa: 1,\n",
    "                               model.metabolites.get_by_id('h2o_c'): 1\n",
    "                              })\n",
    "\n",
    "model.add_reactions([new_reaction3])"
   ]
  },
  {
   "cell_type": "code",
   "execution_count": 17,
   "id": "5cf56faf-f40a-4350-b57e-9168766d5ce0",
   "metadata": {
    "tags": []
   },
   "outputs": [
    {
     "name": "stdout",
     "output_type": "stream",
     "text": [
      "Educt: O-Succinylbenzoyl-CoA \n",
      "\n",
      "Product: 1,4-Dihydroxy-2-naphthoyl-CoA \n",
      "\n",
      "Enzyme: 4-(2-carboxyphenyl)-4-oxobutanoyl-CoA dehydratase \n",
      "\n",
      "Reaction ID & equation: DHNCOAS: h_c + sbzcoa_c --> 14dhncoa_c + h2o_c \n",
      "\n",
      "Corresponding gene: LLMG_1831 \n",
      "\n",
      "Cofactor: hydrogencarbonate\n"
     ]
    }
   ],
   "source": [
    "# educt\n",
    "educt = model.metabolites.get_by_id(\"sbzcoa_c\") #edit here\n",
    "print(f\"Educt: {educt.name} \\n\")\n",
    "\n",
    "# product\n",
    "product = model.metabolites.get_by_id(\"14dhncoa_c\") #edit here\n",
    "print(f\"Product: {product.name} \\n\")\n",
    "\n",
    "# reaction\n",
    "r_name = 'DHNCOAS'\n",
    "reaction = model.reactions.get_by_id(r_name) #edit here\n",
    "print(f\"Enzyme: {reaction.name} \\n\")\n",
    "print(f\"Reaction ID & equation: {reaction} \\n\")\n",
    "\n",
    "#gene\n",
    "print(f\"Corresponding gene: {reaction.gene_reaction_rule} \\n\")\n",
    "\n",
    "# cofactors\n",
    "# https://www.uniprot.org/uniprotkb/A0A514Z8E9/entry\n",
    "print(\"Cofactor: hydrogencarbonate\")"
   ]
  },
  {
   "cell_type": "code",
   "execution_count": 18,
   "id": "886b86ce-330a-4b12-888c-eb2c9615e87a",
   "metadata": {
    "tags": []
   },
   "outputs": [],
   "source": [
    "# fourth new reaction, completion\n",
    "# https://www.kegg.jp/entry/R07262\n",
    "# http://bigg.ucsd.edu/universal/reactions/NPHS_x\n",
    "# 1,4-Dihydroxy-2-naphthoyl-CoA + H2O <=> 1,4-Dihydroxy-2-naphthoate + CoA\n",
    "# h2o_c + 14dhncoa_c ⇌ coa_c + h_c + dhna_c, FabZ\n",
    "\n",
    "model.remove_reactions(['NPHS_c'])\n",
    "new_reaction4 = Reaction('NPHS_c') # the enzyme / reaction name from BIGG\n",
    "new_reaction4.name = '1,4-dihydroxy-2-naphthoyl-CoA hydrolase'\n",
    "new_reaction4.gene_reaction_rule = '( LLMG_1834 )'\n",
    "\n",
    "new_reaction4.add_metabolites({model.metabolites.get_by_id('h2o_c'): -1,\n",
    "                               model.metabolites.get_by_id('14dhncoa_c'): -1,\n",
    "                               model.metabolites.get_by_id('coa_c'): 1,\n",
    "                               model.metabolites.get_by_id('h_c'): 1,\n",
    "                               model.metabolites.get_by_id('dhna_c'): 1\n",
    "                              })\n",
    "\n",
    "model.add_reactions([new_reaction4])"
   ]
  },
  {
   "cell_type": "code",
   "execution_count": 19,
   "id": "45621615-d1ee-4508-8c91-b34c97c86c33",
   "metadata": {
    "tags": []
   },
   "outputs": [
    {
     "name": "stdout",
     "output_type": "stream",
     "text": [
      "Educt: 1,4-Dihydroxy-2-naphthoyl-CoA \n",
      "\n",
      "Product: 1,4-Dihydroxy-2-naphthoate \n",
      "\n",
      "Enzyme: 1,4-dihydroxy-2-naphthoyl-CoA hydrolase \n",
      "\n",
      "Reaction ID & equation: NPHS_c: 14dhncoa_c + h2o_c --> coa_c + dhna_c + h_c \n",
      "\n",
      "Corresponding gene: LLMG_1834\n"
     ]
    }
   ],
   "source": [
    "# educt\n",
    "educt = model.metabolites.get_by_id(\"14dhncoa_c\") #edit here\n",
    "print(f\"Educt: {educt.name} \\n\")\n",
    "\n",
    "# product\n",
    "product = model.metabolites.get_by_id(\"dhna_c\") #edit here\n",
    "print(f\"Product: {product.name} \\n\")\n",
    "\n",
    "# reaction\n",
    "r_name = 'NPHS_c'\n",
    "reaction = model.reactions.get_by_id(r_name) #edit here\n",
    "print(f\"Enzyme: {reaction.name} \\n\")\n",
    "print(f\"Reaction ID & equation: {reaction} \\n\")\n",
    "\n",
    "#gene\n",
    "print(f\"Corresponding gene: {reaction.gene_reaction_rule}\")"
   ]
  },
  {
   "cell_type": "markdown",
   "id": "e5e6d81b-5898-4171-9dbd-b443661cc374",
   "metadata": {
    "tags": []
   },
   "source": [
    "## Polyprenyl pathway"
   ]
  },
  {
   "cell_type": "code",
   "execution_count": 20,
   "id": "1a4c8810-2f2a-4cb7-903f-9ffdb0552e68",
   "metadata": {
    "tags": []
   },
   "outputs": [
    {
     "name": "stdout",
     "output_type": "stream",
     "text": [
      "Educt: Dimethylallyl diphosphate \n",
      "\n",
      "Product: Geranyl diphosphate \n",
      "\n",
      "Enzyme: Dimethylallyltranstransferase \n",
      "\n",
      "Reaction ID & equation: DMATT: dmpp_c + ipdp_c --> grdp_c + ppi_c \n",
      "\n",
      "Corresponding gene: LLMG_RS08500\n"
     ]
    }
   ],
   "source": [
    "# educt\n",
    "educt = model.metabolites.get_by_id(\"dmpp_c\") #edit here\n",
    "print(f\"Educt: {educt.name} \\n\")\n",
    "\n",
    "# product\n",
    "product = model.metabolites.get_by_id(\"grdp_c\") #edit here\n",
    "print(f\"Product: {product.name} \\n\")\n",
    "\n",
    "#reaction\n",
    "r_name = 'DMATT'\n",
    "reaction = model.reactions.get_by_id(r_name) #edit here\n",
    "print(f\"Enzyme: {reaction.name} \\n\") #ispA\n",
    "print(f\"Reaction ID & equation: {reaction} \\n\")\n",
    "\n",
    "#gene\n",
    "print(f\"Corresponding gene: {reaction.gene_reaction_rule}\")"
   ]
  },
  {
   "cell_type": "code",
   "execution_count": 21,
   "id": "060d0bbb-b71d-4c15-b85d-ab160bbcb722",
   "metadata": {
    "tags": []
   },
   "outputs": [
    {
     "name": "stdout",
     "output_type": "stream",
     "text": [
      "Educt: Geranyl diphosphate \n",
      "\n",
      "Product: Farnesyl diphosphate \n",
      "\n",
      "Enzyme: Geranyltranstransferase \n",
      "\n",
      "Reaction ID & equation: GRTT: grdp_c + ipdp_c --> frdp_c + ppi_c \n",
      "\n",
      "Corresponding gene: LLMG_RS08500\n"
     ]
    }
   ],
   "source": [
    "# educt\n",
    "educt = model.metabolites.get_by_id(\"grdp_c\") #edit here\n",
    "print(f\"Educt: {educt.name} \\n\")\n",
    "\n",
    "# product\n",
    "product = model.metabolites.get_by_id(\"frdp_c\") #edit here\n",
    "print(f\"Product: {product.name} \\n\")\n",
    "\n",
    "#reaction\n",
    "r_name = 'GRTT'\n",
    "reaction = model.reactions.get_by_id(r_name) #edit here\n",
    "print(f\"Enzyme: {reaction.name} \\n\") #ispA\n",
    "print(f\"Reaction ID & equation: {reaction} \\n\")\n",
    "\n",
    "#gene\n",
    "print(f\"Corresponding gene: {reaction.gene_reaction_rule}\")"
   ]
  },
  {
   "cell_type": "code",
   "execution_count": 23,
   "id": "d46843dc-7a58-4913-a1b5-f022990ab357",
   "metadata": {
    "tags": []
   },
   "outputs": [
    {
     "name": "stdout",
     "output_type": "stream",
     "text": [
      "Educt: Farnesyl diphosphate \n",
      "\n",
      "Product: Undecaprenyl diphosphate \n",
      "\n",
      "Enzyme: Undecaprenyl diphosphate synthase \n",
      "\n",
      "Reaction ID & equation: UDCPDPS: frdp_c + 8.0 ipdp_c --> 8.0 ppi_c + udcpdp_c \n",
      "\n",
      "Corresponding gene: LLMG_RS05635 and LLMG_RS12110\n",
      "Cofactor: Mg2+\n"
     ]
    }
   ],
   "source": [
    "# educt\n",
    "educt = model.metabolites.get_by_id(\"frdp_c\") #edit here\n",
    "print(f\"Educt: {educt.name} \\n\")\n",
    "\n",
    "# product\n",
    "product = model.metabolites.get_by_id(\"udcpdp_c\") #edit here\n",
    "print(f\"Product: {product.name} \\n\")\n",
    "\n",
    "#reaction\n",
    "r_name = 'UDCPDPS'\n",
    "reaction = model.reactions.get_by_id(r_name) #edit here\n",
    "print(f\"Enzyme: {reaction.name} \\n\") #uppS\n",
    "print(f\"Reaction ID & equation: {reaction} \\n\")\n",
    "\n",
    "#gene\n",
    "print(f\"Corresponding gene: {reaction.gene_reaction_rule}\")\n",
    "\n",
    "# cofactors\n",
    "# https://www.uniprot.org/uniprotkb/A2RNT5/entry\n",
    "print(\"Cofactor: Mg2+\")"
   ]
  },
  {
   "cell_type": "markdown",
   "id": "a3b64a81-3902-4e09-a8ea-63490cc83c4b",
   "metadata": {},
   "source": [
    "## Merging PPP and MQ pathways"
   ]
  },
  {
   "cell_type": "code",
   "execution_count": 24,
   "id": "cd3d3871-3ae2-4e58-bef5-5eb23874f804",
   "metadata": {
    "tags": []
   },
   "outputs": [],
   "source": [
    "# fifth reaction, engineering or completion - ? In KEGG, there's just a reaciton, without the number (7). \n",
    "# adding this reaction to obtain 2dmmq7_c from somewhere\n",
    "# not found in L. lactis though\n",
    "# https://www.kegg.jp/entry/R10757\n",
    "# http://bigg.ucsd.edu/universal/reactions/DHNAOT7\n",
    "# dhna_c + nad_c + hepdp_c ⇌ co2_c + nadh_c + ppi_c + 2dmmq7_c, menA\n",
    "\n",
    "model.remove_reactions(['DHNAOT7'])\n",
    "new_reaction5 = Reaction('DHNAOT7') \n",
    "new_reaction5.name = '1,4-dihydroxy-2-naphthoate octaprenyltransferase'\n",
    "new_reaction5.gene_reaction_rule = '( LLMG_0197 )'\n",
    "\n",
    "dmmq7 = Metabolite(id='2dmmq7_c', compartment='c', name='2-Demethylmenaquinol-7')\n",
    "\n",
    "new_reaction5.add_metabolites({model.metabolites.get_by_id('dhna_c'): -1,\n",
    "                               model.metabolites.get_by_id('nad_c'): -1,\n",
    "                               model.metabolites.get_by_id('hepdp_c'): -1,\n",
    "                               model.metabolites.get_by_id('co2_c'): 1,\n",
    "                               model.metabolites.get_by_id('nadh_c'): 1,\n",
    "                               model.metabolites.get_by_id('ppi_c'): 1,\n",
    "                               dmmq7: 1\n",
    "                              })\n",
    "\n",
    "model.add_reactions([new_reaction5])"
   ]
  },
  {
   "cell_type": "code",
   "execution_count": 25,
   "id": "4e167bc3-14b1-4d7c-b0e8-1dc63807a21f",
   "metadata": {
    "tags": []
   },
   "outputs": [
    {
     "name": "stdout",
     "output_type": "stream",
     "text": [
      "Educt: All-trans-Heptaprenyl diphosphate \n",
      "\n",
      "Product: 2-Demethylmenaquinol-7 \n",
      "\n",
      "Enzyme: 1,4-dihydroxy-2-naphthoate octaprenyltransferase \n",
      "\n",
      "Reaction ID & equation: DHNAOT7: dhna_c + hepdp_c + nad_c --> 2dmmq7_c + co2_c + nadh_c + ppi_c \n",
      "\n",
      "Corresponding gene: LLMG_0197\n"
     ]
    }
   ],
   "source": [
    "# educt\n",
    "educt = model.metabolites.get_by_id(\"hepdp_c\") #edit here\n",
    "print(f\"Educt: {educt.name} \\n\")\n",
    "\n",
    "# product\n",
    "product = model.metabolites.get_by_id(\"2dmmq7_c\") #edit here\n",
    "print(f\"Product: {product.name} \\n\")\n",
    "\n",
    "#reaction\n",
    "r_name = 'DHNAOT7'\n",
    "reaction = model.reactions.get_by_id(r_name) #edit here\n",
    "print(f\"Enzyme: {reaction.name} \\n\")\n",
    "print(f\"Reaction ID & equation: {reaction} \\n\")\n",
    "\n",
    "#gene\n",
    "print(f\"Corresponding gene: {reaction.gene_reaction_rule}\")"
   ]
  },
  {
   "cell_type": "code",
   "execution_count": 26,
   "id": "a21b0213-fd80-4a97-8bf4-fe96587f980d",
   "metadata": {
    "tags": []
   },
   "outputs": [],
   "source": [
    "# sixth reaction, completion\n",
    "# https://www.kegg.jp/entry/R09736\n",
    "# http://bigg.ucsd.edu/universal/reactions/AMMQT7\n",
    "# amet_c + nadph_c + 2dmmq7_c ⇌ ahcys_c + nadp_c + mql7_c, UbiE, MenG \n",
    "\n",
    "model.remove_reactions(['AMMQT7'])\n",
    "new_reaction6 = Reaction('AMMQT7') \n",
    "new_reaction6.name = 'Demethylmenaquinol methyltransferase'\n",
    "new_reaction6.gene_reaction_rule = '( LLMG_0753 )'\n",
    "\n",
    "\n",
    "new_reaction6.add_metabolites({model.metabolites.get_by_id('amet_c'): -1,\n",
    "                               model.metabolites.get_by_id('nadph_c'): -1,\n",
    "                               model.metabolites.get_by_id('2dmmq7_c'): -1,\n",
    "                               model.metabolites.get_by_id('ahcys_c'): 1,\n",
    "                               model.metabolites.get_by_id('nadp_c'): 1,\n",
    "                               model.metabolites.get_by_id('mql7_c'): 1\n",
    "                              })\n",
    "\n",
    "model.add_reactions([new_reaction6])"
   ]
  },
  {
   "cell_type": "code",
   "execution_count": 27,
   "id": "95b91aea-23f5-414a-ab20-974bd3653459",
   "metadata": {
    "tags": []
   },
   "outputs": [
    {
     "name": "stdout",
     "output_type": "stream",
     "text": [
      "Educt: 2-Demethylmenaquinol-7 \n",
      "\n",
      "Product: Menaquinol 7 C46H66O2 \n",
      "\n",
      "Enzyme: Demethylmenaquinol methyltransferase \n",
      "\n",
      "Reaction ID & equation: AMMQT7: 2dmmq7_c + amet_c + nadph_c --> ahcys_c + mql7_c + nadp_c \n",
      "\n",
      "Corresponding gene: LLMG_0753\n"
     ]
    }
   ],
   "source": [
    "# educt\n",
    "educt = model.metabolites.get_by_id(\"2dmmq7_c\") #edit here\n",
    "print(f\"Educt: {educt.name} \\n\")\n",
    "\n",
    "# product\n",
    "product = model.metabolites.get_by_id(\"mql7_c\") #edit here\n",
    "print(f\"Product: {product.name} \\n\")\n",
    "\n",
    "#reaction\n",
    "r_name = 'AMMQT7'\n",
    "reaction = model.reactions.get_by_id(r_name) #edit here\n",
    "print(f\"Enzyme: {reaction.name} \\n\")\n",
    "print(f\"Reaction ID & equation: {reaction} \\n\")\n",
    "\n",
    "#gene\n",
    "print(f\"Corresponding gene: {reaction.gene_reaction_rule}\")"
   ]
  },
  {
   "cell_type": "markdown",
   "id": "0622f334-0cf0-48b1-bf48-f26cf17da784",
   "metadata": {},
   "source": [
    "NOTHING about the epoxide reaction. Probably, could skip this one.. \\\n",
    "Added the reactions from BIGG that do the conversion mql7_c ⇌ mqn7_c"
   ]
  },
  {
   "cell_type": "code",
   "execution_count": 28,
   "id": "8769e1f1-03eb-424d-ab59-ef1e877abea6",
   "metadata": {},
   "outputs": [],
   "source": [
    "# seventh reaction, engineering\n",
    "# https://www.kegg.jp/entry/R09991\n",
    "# http://bigg.ucsd.edu/universal/reactions/FADMQOR - not for mql7, but for mql8\n",
    "# fadh2_c + mqn7_c ⇌ fad_c + mql7_c\n",
    "\n",
    "new_reaction7 = Reaction('FADMQOR')\n",
    "new_reaction7.name = 'Menaquinone:FAD oxidoreductase' \n",
    "\n",
    "new_reaction7.add_metabolites({model.metabolites.get_by_id('mql7_c'): -1,\n",
    "                               model.metabolites.get_by_id('fad_c'): -1,\n",
    "                               model.metabolites.get_by_id('mqn7_c'): 1,\n",
    "                               model.metabolites.get_by_id('fadh2_c'): 1\n",
    "                              })\n",
    "\n",
    "model.add_reactions([new_reaction7])"
   ]
  },
  {
   "cell_type": "code",
   "execution_count": 29,
   "id": "ef13963f-02b0-41ed-ac2e-0d45bffb550c",
   "metadata": {
    "tags": []
   },
   "outputs": [],
   "source": [
    "# eighth reaction, engineering\n",
    "# http://bigg.ucsd.edu/universal/reactions/POX3\n",
    "# h2o_c + pyr_c + mqn7_c ⇌ ac_c + co2_c + mql7_c\n",
    "\n",
    "new_reaction8 = Reaction('POX3') \n",
    "new_reaction8.name = 'Pyruvate:menaquinone oxidoreductase'\n",
    "\n",
    "new_reaction8.add_metabolites({model.metabolites.get_by_id('ac_c'): -1,\n",
    "                               model.metabolites.get_by_id('co2_c'): -1,\n",
    "                               model.metabolites.get_by_id('mql7_c'): -1,\n",
    "                               model.metabolites.get_by_id('h2o_c'): 1,\n",
    "                               model.metabolites.get_by_id('pyr_c'): 1,\n",
    "                               model.metabolites.get_by_id('mqn7_c'): 1\n",
    "                              })\n",
    "\n",
    "model.add_reactions([new_reaction8])"
   ]
  },
  {
   "cell_type": "code",
   "execution_count": 30,
   "id": "a9cf4b0d-787e-487a-9e2e-528524aad7ef",
   "metadata": {
    "tags": []
   },
   "outputs": [],
   "source": [
    "# ninth reaction, engineering\n",
    "# http://bigg.ucsd.edu/universal/reactions/MQNS\n",
    "# https://www.uniprot.org/uniprotkb/Q9CF18/entry - enzyme in Lactococcus lactis IL1403\n",
    "# amet_c + 2dmmq7_c ⇌ ahcys_c + h_c + mqn7_c\n",
    "\n",
    "new_reaction9 = Reaction('MQNS')\n",
    "new_reaction9.name = '1,4-dihydroxy-2-naphthoate octaprenyltransferase'\n",
    "\n",
    "new_reaction9.add_metabolites({model.metabolites.get_by_id('amet_c'): -1,\n",
    "                               model.metabolites.get_by_id('2dmmq7_c'): -1,\n",
    "                               model.metabolites.get_by_id('ahcys_c'): 1,\n",
    "                               model.metabolites.get_by_id('h_c'): 1,\n",
    "                               model.metabolites.get_by_id('mqn7_c'): 1\n",
    "                              })\n",
    "\n",
    "model.add_reactions([new_reaction9])"
   ]
  },
  {
   "cell_type": "markdown",
   "id": "f2450987-f00a-4d42-b7ff-945fdcfb8268",
   "metadata": {},
   "source": [
    "Bounds code cell for the future:"
   ]
  },
  {
   "cell_type": "code",
   "execution_count": 37,
   "id": "b21b81ce-be55-429a-b3ec-e39243429520",
   "metadata": {
    "tags": []
   },
   "outputs": [
    {
     "name": "stdout",
     "output_type": "stream",
     "text": [
      "NADH4: h_c + mqn7_c + nadh_c --> mql7_c + nad_c NADH dehydrogenase  Menaquinone 7  no proton\n",
      "AMMQT7: 2dmmq7_c + amet_c + nadph_c --> ahcys_c + mql7_c + nadp_c Demethylmenaquinol methyltransferase\n",
      "CYTB_B2: 2.0 h_c + mql7_c + 0.5 o2_c --> h2o_c + 2.0 h_e + mqn7_c Menaquinol oxidase  71 protons\n",
      "G3PD4: glyc3p_c + mqn7_c --> dhap_c + mql7_c Glycerol 3 phosphate dehydrogenase  menaquinone 7\n"
     ]
    }
   ],
   "source": [
    "reaction_name = \"MQNS\"\n",
    "reaction = model.reactions.get_by_id(reaction_name)\n",
    "new_lower_bound = 0.03\n",
    "reaction.lower_bound = new_lower_bound\n",
    "model.reactions.MQNS.bounds"
   ]
  },
  {
   "cell_type": "code",
   "execution_count": null,
   "id": "eb76153c-c6ce-48ed-be98-d07a7acf510e",
   "metadata": {},
   "outputs": [],
   "source": [
    "#model.add_boundary(model.metabolites.mqn7_c, type='demand')\n",
    "model.objective = model.reactions.DM_mqn7_c\n",
    "production_mqn7c = model.optimize().objective_value\n",
    "production_mqn7c"
   ]
  }
 ],
 "metadata": {
  "kernelspec": {
   "display_name": "Python 3 (ipykernel)",
   "language": "python",
   "name": "python3"
  },
  "language_info": {
   "codemirror_mode": {
    "name": "ipython",
    "version": 3
   },
   "file_extension": ".py",
   "mimetype": "text/x-python",
   "name": "python",
   "nbconvert_exporter": "python",
   "pygments_lexer": "ipython3",
   "version": "3.11.4"
  }
 },
 "nbformat": 4,
 "nbformat_minor": 5
}
